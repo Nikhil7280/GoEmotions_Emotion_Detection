{
 "cells": [
  {
   "cell_type": "markdown",
   "id": "ff7df3e8",
   "metadata": {
    "papermill": {
     "duration": 0.024335,
     "end_time": "2023-07-12T10:47:20.946399",
     "exception": false,
     "start_time": "2023-07-12T10:47:20.922064",
     "status": "completed"
    },
    "tags": []
   },
   "source": [
    "# Importing the Libraries"
   ]
  },
  {
   "cell_type": "code",
   "execution_count": 1,
   "id": "5e2706b8",
   "metadata": {
    "execution": {
     "iopub.execute_input": "2023-07-12T10:47:20.995714Z",
     "iopub.status.busy": "2023-07-12T10:47:20.994964Z",
     "iopub.status.idle": "2023-07-12T10:47:37.514731Z",
     "shell.execute_reply": "2023-07-12T10:47:37.513543Z"
    },
    "papermill": {
     "duration": 16.54712,
     "end_time": "2023-07-12T10:47:37.517399",
     "exception": false,
     "start_time": "2023-07-12T10:47:20.970279",
     "status": "completed"
    },
    "tags": []
   },
   "outputs": [
    {
     "name": "stdout",
     "output_type": "stream",
     "text": [
      "[nltk_data] Downloading package stopwords to /usr/share/nltk_data...\n",
      "[nltk_data]   Package stopwords is already up-to-date!\n",
      "[nltk_data] Downloading package wordnet to /usr/share/nltk_data...\n",
      "[nltk_data]   Package wordnet is already up-to-date!\n",
      "Archive:  /usr/share/nltk_data/corpora/wordnet.zip\r\n",
      "   creating: /usr/share/nltk_data/corpora/wordnet/\r\n",
      "  inflating: /usr/share/nltk_data/corpora/wordnet/lexnames  \r\n",
      "  inflating: /usr/share/nltk_data/corpora/wordnet/data.verb  \r\n",
      "  inflating: /usr/share/nltk_data/corpora/wordnet/index.adv  \r\n",
      "  inflating: /usr/share/nltk_data/corpora/wordnet/adv.exc  \r\n",
      "  inflating: /usr/share/nltk_data/corpora/wordnet/index.verb  \r\n",
      "  inflating: /usr/share/nltk_data/corpora/wordnet/cntlist.rev  \r\n",
      "  inflating: /usr/share/nltk_data/corpora/wordnet/data.adj  \r\n",
      "  inflating: /usr/share/nltk_data/corpora/wordnet/index.adj  \r\n",
      "  inflating: /usr/share/nltk_data/corpora/wordnet/LICENSE  \r\n",
      "  inflating: /usr/share/nltk_data/corpora/wordnet/citation.bib  \r\n",
      "  inflating: /usr/share/nltk_data/corpora/wordnet/noun.exc  \r\n",
      "  inflating: /usr/share/nltk_data/corpora/wordnet/verb.exc  \r\n",
      "  inflating: /usr/share/nltk_data/corpora/wordnet/README  \r\n",
      "  inflating: /usr/share/nltk_data/corpora/wordnet/index.sense  \r\n",
      "  inflating: /usr/share/nltk_data/corpora/wordnet/data.noun  \r\n",
      "  inflating: /usr/share/nltk_data/corpora/wordnet/data.adv  \r\n",
      "  inflating: /usr/share/nltk_data/corpora/wordnet/index.noun  \r\n",
      "  inflating: /usr/share/nltk_data/corpora/wordnet/adj.exc  \r\n",
      "Collecting contractions\r\n",
      "  Downloading contractions-0.1.73-py2.py3-none-any.whl (8.7 kB)\r\n",
      "Collecting textsearch>=0.0.21 (from contractions)\r\n",
      "  Downloading textsearch-0.0.24-py2.py3-none-any.whl (7.6 kB)\r\n",
      "Collecting anyascii (from textsearch>=0.0.21->contractions)\r\n",
      "  Downloading anyascii-0.3.2-py3-none-any.whl (289 kB)\r\n",
      "\u001b[2K     \u001b[90m━━━━━━━━━━━━━━━━━━━━━━━━━━━━━━━━━━━━━━━\u001b[0m \u001b[32m289.9/289.9 kB\u001b[0m \u001b[31m7.4 MB/s\u001b[0m eta \u001b[36m0:00:00\u001b[0m\r\n",
      "\u001b[?25hCollecting pyahocorasick (from textsearch>=0.0.21->contractions)\r\n",
      "  Downloading pyahocorasick-2.0.0-cp310-cp310-manylinux_2_5_x86_64.manylinux1_x86_64.manylinux_2_12_x86_64.manylinux2010_x86_64.whl (110 kB)\r\n",
      "\u001b[2K     \u001b[90m━━━━━━━━━━━━━━━━━━━━━━━━━━━━━━━━━━━━━━\u001b[0m \u001b[32m110.8/110.8 kB\u001b[0m \u001b[31m10.2 MB/s\u001b[0m eta \u001b[36m0:00:00\u001b[0m\r\n",
      "\u001b[?25hInstalling collected packages: pyahocorasick, anyascii, textsearch, contractions\r\n",
      "Successfully installed anyascii-0.3.2 contractions-0.1.73 pyahocorasick-2.0.0 textsearch-0.0.24\r\n",
      "\u001b[33mWARNING: Running pip as the 'root' user can result in broken permissions and conflicting behaviour with the system package manager. It is recommended to use a virtual environment instead: https://pip.pypa.io/warnings/venv\u001b[0m\u001b[33m\r\n",
      "\u001b[0m"
     ]
    }
   ],
   "source": [
    "import nltk\n",
    "nltk.download('stopwords')\n",
    "nltk.download('wordnet')\n",
    "! unzip /usr/share/nltk_data/corpora/wordnet.zip -d /usr/share/nltk_data/corpora/\n",
    "from nltk.corpus import stopwords, wordnet\n",
    "from nltk.stem import WordNetLemmatizer\n",
    "! pip install contractions\n",
    "import contractions"
   ]
  },
  {
   "cell_type": "code",
   "execution_count": 2,
   "id": "ddc61d5f",
   "metadata": {
    "execution": {
     "iopub.execute_input": "2023-07-12T10:47:37.569512Z",
     "iopub.status.busy": "2023-07-12T10:47:37.568643Z",
     "iopub.status.idle": "2023-07-12T10:47:46.338329Z",
     "shell.execute_reply": "2023-07-12T10:47:46.337351Z"
    },
    "papermill": {
     "duration": 8.797786,
     "end_time": "2023-07-12T10:47:46.340801",
     "exception": false,
     "start_time": "2023-07-12T10:47:37.543015",
     "status": "completed"
    },
    "tags": []
   },
   "outputs": [
    {
     "name": "stderr",
     "output_type": "stream",
     "text": [
      "/opt/conda/lib/python3.10/site-packages/tensorflow_io/python/ops/__init__.py:98: UserWarning: unable to load libtensorflow_io_plugins.so: unable to open file: libtensorflow_io_plugins.so, from paths: ['/opt/conda/lib/python3.10/site-packages/tensorflow_io/python/ops/libtensorflow_io_plugins.so']\n",
      "caused by: ['/opt/conda/lib/python3.10/site-packages/tensorflow_io/python/ops/libtensorflow_io_plugins.so: undefined symbol: _ZN3tsl6StatusC1EN10tensorflow5error4CodeESt17basic_string_viewIcSt11char_traitsIcEENS_14SourceLocationE']\n",
      "  warnings.warn(f\"unable to load libtensorflow_io_plugins.so: {e}\")\n",
      "/opt/conda/lib/python3.10/site-packages/tensorflow_io/python/ops/__init__.py:104: UserWarning: file system plugins are not loaded: unable to open file: libtensorflow_io.so, from paths: ['/opt/conda/lib/python3.10/site-packages/tensorflow_io/python/ops/libtensorflow_io.so']\n",
      "caused by: ['/opt/conda/lib/python3.10/site-packages/tensorflow_io/python/ops/libtensorflow_io.so: undefined symbol: _ZTVN10tensorflow13GcsFileSystemE']\n",
      "  warnings.warn(f\"file system plugins are not loaded: {e}\")\n"
     ]
    }
   ],
   "source": [
    "import os\n",
    "import re\n",
    "import string\n",
    "import emoji\n",
    "import json\n",
    "import numpy as np\n",
    "import pandas as pd\n",
    "import matplotlib.pyplot as plt\n",
    "import tensorflow as tf\n",
    "\n",
    "import warnings\n",
    "warnings.filterwarnings('ignore')"
   ]
  },
  {
   "cell_type": "markdown",
   "id": "dec46e3d",
   "metadata": {
    "papermill": {
     "duration": 0.024531,
     "end_time": "2023-07-12T10:47:46.390665",
     "exception": false,
     "start_time": "2023-07-12T10:47:46.366134",
     "status": "completed"
    },
    "tags": []
   },
   "source": [
    "# Loading Data"
   ]
  },
  {
   "cell_type": "code",
   "execution_count": 3,
   "id": "4c5a4243",
   "metadata": {
    "execution": {
     "iopub.execute_input": "2023-07-12T10:47:46.441494Z",
     "iopub.status.busy": "2023-07-12T10:47:46.440349Z",
     "iopub.status.idle": "2023-07-12T10:47:46.653710Z",
     "shell.execute_reply": "2023-07-12T10:47:46.652757Z"
    },
    "papermill": {
     "duration": 0.241439,
     "end_time": "2023-07-12T10:47:46.656420",
     "exception": false,
     "start_time": "2023-07-12T10:47:46.414981",
     "status": "completed"
    },
    "tags": []
   },
   "outputs": [],
   "source": [
    "train_data = pd.read_csv(\"../input/goemotions/data/train.tsv\", sep='\\t', header=None, names=['Text', 'Class', 'ID'])\n",
    "valid_data = pd.read_csv(\"../input/goemotions/data/dev.tsv\", sep='\\t', header=None, names=['Text', 'Class', 'ID'])\n",
    "test_data = pd.read_csv(\"/kaggle/input/goemotions/data/test.tsv\", sep='\\t', header=None, names=['Text', 'Class', 'ID'])"
   ]
  },
  {
   "cell_type": "code",
   "execution_count": 4,
   "id": "b6412ff9",
   "metadata": {
    "execution": {
     "iopub.execute_input": "2023-07-12T10:47:46.708211Z",
     "iopub.status.busy": "2023-07-12T10:47:46.707404Z",
     "iopub.status.idle": "2023-07-12T10:47:46.724505Z",
     "shell.execute_reply": "2023-07-12T10:47:46.723512Z"
    },
    "papermill": {
     "duration": 0.045016,
     "end_time": "2023-07-12T10:47:46.726702",
     "exception": false,
     "start_time": "2023-07-12T10:47:46.681686",
     "status": "completed"
    },
    "tags": []
   },
   "outputs": [
    {
     "data": {
      "text/html": [
       "<div>\n",
       "<style scoped>\n",
       "    .dataframe tbody tr th:only-of-type {\n",
       "        vertical-align: middle;\n",
       "    }\n",
       "\n",
       "    .dataframe tbody tr th {\n",
       "        vertical-align: top;\n",
       "    }\n",
       "\n",
       "    .dataframe thead th {\n",
       "        text-align: right;\n",
       "    }\n",
       "</style>\n",
       "<table border=\"1\" class=\"dataframe\">\n",
       "  <thead>\n",
       "    <tr style=\"text-align: right;\">\n",
       "      <th></th>\n",
       "      <th>Text</th>\n",
       "      <th>Class</th>\n",
       "      <th>ID</th>\n",
       "    </tr>\n",
       "  </thead>\n",
       "  <tbody>\n",
       "    <tr>\n",
       "      <th>0</th>\n",
       "      <td>My favourite food is anything I didn't have to...</td>\n",
       "      <td>27</td>\n",
       "      <td>eebbqej</td>\n",
       "    </tr>\n",
       "    <tr>\n",
       "      <th>1</th>\n",
       "      <td>Now if he does off himself, everyone will thin...</td>\n",
       "      <td>27</td>\n",
       "      <td>ed00q6i</td>\n",
       "    </tr>\n",
       "    <tr>\n",
       "      <th>2</th>\n",
       "      <td>WHY THE FUCK IS BAYLESS ISOING</td>\n",
       "      <td>2</td>\n",
       "      <td>eezlygj</td>\n",
       "    </tr>\n",
       "    <tr>\n",
       "      <th>3</th>\n",
       "      <td>To make her feel threatened</td>\n",
       "      <td>14</td>\n",
       "      <td>ed7ypvh</td>\n",
       "    </tr>\n",
       "    <tr>\n",
       "      <th>4</th>\n",
       "      <td>Dirty Southern Wankers</td>\n",
       "      <td>3</td>\n",
       "      <td>ed0bdzj</td>\n",
       "    </tr>\n",
       "  </tbody>\n",
       "</table>\n",
       "</div>"
      ],
      "text/plain": [
       "                                                Text Class       ID\n",
       "0  My favourite food is anything I didn't have to...    27  eebbqej\n",
       "1  Now if he does off himself, everyone will thin...    27  ed00q6i\n",
       "2                     WHY THE FUCK IS BAYLESS ISOING     2  eezlygj\n",
       "3                        To make her feel threatened    14  ed7ypvh\n",
       "4                             Dirty Southern Wankers     3  ed0bdzj"
      ]
     },
     "execution_count": 4,
     "metadata": {},
     "output_type": "execute_result"
    }
   ],
   "source": [
    "train_data.head()"
   ]
  },
  {
   "cell_type": "code",
   "execution_count": 5,
   "id": "75344190",
   "metadata": {
    "execution": {
     "iopub.execute_input": "2023-07-12T10:47:46.781413Z",
     "iopub.status.busy": "2023-07-12T10:47:46.780162Z",
     "iopub.status.idle": "2023-07-12T10:47:46.838772Z",
     "shell.execute_reply": "2023-07-12T10:47:46.837627Z"
    },
    "papermill": {
     "duration": 0.086438,
     "end_time": "2023-07-12T10:47:46.840779",
     "exception": false,
     "start_time": "2023-07-12T10:47:46.754341",
     "status": "completed"
    },
    "tags": []
   },
   "outputs": [
    {
     "name": "stdout",
     "output_type": "stream",
     "text": [
      "<class 'pandas.core.frame.DataFrame'>\n",
      "RangeIndex: 43410 entries, 0 to 43409\n",
      "Data columns (total 3 columns):\n",
      " #   Column  Non-Null Count  Dtype \n",
      "---  ------  --------------  ----- \n",
      " 0   Text    43410 non-null  object\n",
      " 1   Class   43410 non-null  object\n",
      " 2   ID      43410 non-null  object\n",
      "dtypes: object(3)\n",
      "memory usage: 1017.5+ KB\n"
     ]
    }
   ],
   "source": [
    "train_data.info()"
   ]
  },
  {
   "cell_type": "markdown",
   "id": "5d38796c",
   "metadata": {
    "papermill": {
     "duration": 0.024412,
     "end_time": "2023-07-12T10:47:46.890034",
     "exception": false,
     "start_time": "2023-07-12T10:47:46.865622",
     "status": "completed"
    },
    "tags": []
   },
   "source": [
    "# Data Preparation\n",
    "\n",
    "Converting our data to be of format Text -> Labels (one hot type) with Ekman Taxonomy"
   ]
  },
  {
   "cell_type": "code",
   "execution_count": 6,
   "id": "88c417ac",
   "metadata": {
    "execution": {
     "iopub.execute_input": "2023-07-12T10:47:46.942791Z",
     "iopub.status.busy": "2023-07-12T10:47:46.942483Z",
     "iopub.status.idle": "2023-07-12T10:47:47.012979Z",
     "shell.execute_reply": "2023-07-12T10:47:47.012116Z"
    },
    "papermill": {
     "duration": 0.100148,
     "end_time": "2023-07-12T10:47:47.015073",
     "exception": false,
     "start_time": "2023-07-12T10:47:46.914925",
     "status": "completed"
    },
    "tags": []
   },
   "outputs": [],
   "source": [
    "train_data['Class List'] = train_data['Class'].apply(lambda x: x.split(','))\n",
    "train_data['Class Length'] = train_data['Class List'].apply(lambda x: len(x))\n",
    "\n",
    "valid_data['Class List'] = valid_data['Class'].apply(lambda x: x.split(','))\n",
    "valid_data['Class Length'] = valid_data['Class List'].apply(lambda x: len(x))\n",
    "\n",
    "test_data['Class List'] = test_data['Class'].apply(lambda x: x.split(','))\n",
    "test_data['Class Length'] = test_data['Class List'].apply(lambda x: len(x))"
   ]
  },
  {
   "cell_type": "code",
   "execution_count": 7,
   "id": "bc924e48",
   "metadata": {
    "execution": {
     "iopub.execute_input": "2023-07-12T10:47:47.066180Z",
     "iopub.status.busy": "2023-07-12T10:47:47.065648Z",
     "iopub.status.idle": "2023-07-12T10:47:47.079309Z",
     "shell.execute_reply": "2023-07-12T10:47:47.078376Z"
    },
    "papermill": {
     "duration": 0.041185,
     "end_time": "2023-07-12T10:47:47.081326",
     "exception": false,
     "start_time": "2023-07-12T10:47:47.040141",
     "status": "completed"
    },
    "tags": []
   },
   "outputs": [
    {
     "data": {
      "text/html": [
       "<div>\n",
       "<style scoped>\n",
       "    .dataframe tbody tr th:only-of-type {\n",
       "        vertical-align: middle;\n",
       "    }\n",
       "\n",
       "    .dataframe tbody tr th {\n",
       "        vertical-align: top;\n",
       "    }\n",
       "\n",
       "    .dataframe thead th {\n",
       "        text-align: right;\n",
       "    }\n",
       "</style>\n",
       "<table border=\"1\" class=\"dataframe\">\n",
       "  <thead>\n",
       "    <tr style=\"text-align: right;\">\n",
       "      <th></th>\n",
       "      <th>Text</th>\n",
       "      <th>Class</th>\n",
       "      <th>ID</th>\n",
       "      <th>Class List</th>\n",
       "      <th>Class Length</th>\n",
       "    </tr>\n",
       "  </thead>\n",
       "  <tbody>\n",
       "    <tr>\n",
       "      <th>0</th>\n",
       "      <td>My favourite food is anything I didn't have to...</td>\n",
       "      <td>27</td>\n",
       "      <td>eebbqej</td>\n",
       "      <td>[27]</td>\n",
       "      <td>1</td>\n",
       "    </tr>\n",
       "    <tr>\n",
       "      <th>1</th>\n",
       "      <td>Now if he does off himself, everyone will thin...</td>\n",
       "      <td>27</td>\n",
       "      <td>ed00q6i</td>\n",
       "      <td>[27]</td>\n",
       "      <td>1</td>\n",
       "    </tr>\n",
       "    <tr>\n",
       "      <th>2</th>\n",
       "      <td>WHY THE FUCK IS BAYLESS ISOING</td>\n",
       "      <td>2</td>\n",
       "      <td>eezlygj</td>\n",
       "      <td>[2]</td>\n",
       "      <td>1</td>\n",
       "    </tr>\n",
       "    <tr>\n",
       "      <th>3</th>\n",
       "      <td>To make her feel threatened</td>\n",
       "      <td>14</td>\n",
       "      <td>ed7ypvh</td>\n",
       "      <td>[14]</td>\n",
       "      <td>1</td>\n",
       "    </tr>\n",
       "    <tr>\n",
       "      <th>4</th>\n",
       "      <td>Dirty Southern Wankers</td>\n",
       "      <td>3</td>\n",
       "      <td>ed0bdzj</td>\n",
       "      <td>[3]</td>\n",
       "      <td>1</td>\n",
       "    </tr>\n",
       "  </tbody>\n",
       "</table>\n",
       "</div>"
      ],
      "text/plain": [
       "                                                Text Class       ID  \\\n",
       "0  My favourite food is anything I didn't have to...    27  eebbqej   \n",
       "1  Now if he does off himself, everyone will thin...    27  ed00q6i   \n",
       "2                     WHY THE FUCK IS BAYLESS ISOING     2  eezlygj   \n",
       "3                        To make her feel threatened    14  ed7ypvh   \n",
       "4                             Dirty Southern Wankers     3  ed0bdzj   \n",
       "\n",
       "  Class List  Class Length  \n",
       "0       [27]             1  \n",
       "1       [27]             1  \n",
       "2        [2]             1  \n",
       "3       [14]             1  \n",
       "4        [3]             1  "
      ]
     },
     "execution_count": 7,
     "metadata": {},
     "output_type": "execute_result"
    }
   ],
   "source": [
    "train_data.head()"
   ]
  },
  {
   "cell_type": "code",
   "execution_count": 8,
   "id": "fce68699",
   "metadata": {
    "execution": {
     "iopub.execute_input": "2023-07-12T10:47:47.133984Z",
     "iopub.status.busy": "2023-07-12T10:47:47.133689Z",
     "iopub.status.idle": "2023-07-12T10:47:47.141709Z",
     "shell.execute_reply": "2023-07-12T10:47:47.140764Z"
    },
    "papermill": {
     "duration": 0.03616,
     "end_time": "2023-07-12T10:47:47.143735",
     "exception": false,
     "start_time": "2023-07-12T10:47:47.107575",
     "status": "completed"
    },
    "tags": []
   },
   "outputs": [
    {
     "data": {
      "text/plain": [
       "1    36308\n",
       "2     6541\n",
       "3      532\n",
       "4       28\n",
       "5        1\n",
       "Name: Class Length, dtype: int64"
      ]
     },
     "execution_count": 8,
     "metadata": {},
     "output_type": "execute_result"
    }
   ],
   "source": [
    "train_data[\"Class Length\"].value_counts()"
   ]
  },
  {
   "cell_type": "code",
   "execution_count": 9,
   "id": "d1228792",
   "metadata": {
    "execution": {
     "iopub.execute_input": "2023-07-12T10:47:47.194438Z",
     "iopub.status.busy": "2023-07-12T10:47:47.194179Z",
     "iopub.status.idle": "2023-07-12T10:47:47.203558Z",
     "shell.execute_reply": "2023-07-12T10:47:47.202741Z"
    },
    "papermill": {
     "duration": 0.037356,
     "end_time": "2023-07-12T10:47:47.205670",
     "exception": false,
     "start_time": "2023-07-12T10:47:47.168314",
     "status": "completed"
    },
    "tags": []
   },
   "outputs": [],
   "source": [
    "with open('../input/goemotions/data/ekman_mapping.json') as file:\n",
    "    ekman_mapping = json.load(file)"
   ]
  },
  {
   "cell_type": "code",
   "execution_count": 10,
   "id": "6cfd948f",
   "metadata": {
    "execution": {
     "iopub.execute_input": "2023-07-12T10:47:47.256679Z",
     "iopub.status.busy": "2023-07-12T10:47:47.256409Z",
     "iopub.status.idle": "2023-07-12T10:47:47.262719Z",
     "shell.execute_reply": "2023-07-12T10:47:47.261742Z"
    },
    "papermill": {
     "duration": 0.035344,
     "end_time": "2023-07-12T10:47:47.265771",
     "exception": false,
     "start_time": "2023-07-12T10:47:47.230427",
     "status": "completed"
    },
    "tags": []
   },
   "outputs": [
    {
     "data": {
      "text/plain": [
       "{'anger': ['anger', 'annoyance', 'disapproval'],\n",
       " 'disgust': ['disgust'],\n",
       " 'fear': ['fear', 'nervousness'],\n",
       " 'joy': ['joy',\n",
       "  'amusement',\n",
       "  'approval',\n",
       "  'excitement',\n",
       "  'gratitude',\n",
       "  'love',\n",
       "  'optimism',\n",
       "  'relief',\n",
       "  'pride',\n",
       "  'admiration',\n",
       "  'desire',\n",
       "  'caring'],\n",
       " 'sadness': ['sadness', 'disappointment', 'embarrassment', 'grief', 'remorse'],\n",
       " 'surprise': ['surprise', 'realization', 'confusion', 'curiosity']}"
      ]
     },
     "execution_count": 10,
     "metadata": {},
     "output_type": "execute_result"
    }
   ],
   "source": [
    "ekman_mapping"
   ]
  },
  {
   "cell_type": "code",
   "execution_count": 11,
   "id": "b419c10b",
   "metadata": {
    "execution": {
     "iopub.execute_input": "2023-07-12T10:47:47.316609Z",
     "iopub.status.busy": "2023-07-12T10:47:47.316349Z",
     "iopub.status.idle": "2023-07-12T10:47:47.336639Z",
     "shell.execute_reply": "2023-07-12T10:47:47.335758Z"
    },
    "papermill": {
     "duration": 0.048082,
     "end_time": "2023-07-12T10:47:47.338642",
     "exception": false,
     "start_time": "2023-07-12T10:47:47.290560",
     "status": "completed"
    },
    "tags": []
   },
   "outputs": [
    {
     "name": "stdout",
     "output_type": "stream",
     "text": [
      "['admiration', 'amusement', 'anger', 'annoyance', 'approval', 'caring', 'confusion', 'curiosity', 'desire', 'disappointment', 'disapproval', 'disgust', 'embarrassment', 'excitement', 'fear', 'gratitude', 'grief', 'joy', 'love', 'nervousness', 'optimism', 'pride', 'realization', 'relief', 'remorse', 'sadness', 'surprise', 'neutral']\n"
     ]
    }
   ],
   "source": [
    "emotion_file = open(\"../input/goemotions/data/emotions.txt\", \"r\")\n",
    "emotion_list = emotion_file.read()\n",
    "emotion_list = emotion_list.split(\"\\n\")\n",
    "print(emotion_list)"
   ]
  },
  {
   "cell_type": "code",
   "execution_count": 12,
   "id": "97af25e2",
   "metadata": {
    "execution": {
     "iopub.execute_input": "2023-07-12T10:47:47.389909Z",
     "iopub.status.busy": "2023-07-12T10:47:47.389622Z",
     "iopub.status.idle": "2023-07-12T10:47:47.394745Z",
     "shell.execute_reply": "2023-07-12T10:47:47.393716Z"
    },
    "papermill": {
     "duration": 0.032891,
     "end_time": "2023-07-12T10:47:47.396736",
     "exception": false,
     "start_time": "2023-07-12T10:47:47.363845",
     "status": "completed"
    },
    "tags": []
   },
   "outputs": [],
   "source": [
    "def idx2class(idx_list):\n",
    "    arr = []\n",
    "    for i in idx_list:\n",
    "        arr.append(emotion_list[int(i)])\n",
    "    return arr"
   ]
  },
  {
   "cell_type": "code",
   "execution_count": 13,
   "id": "4ef62cce",
   "metadata": {
    "execution": {
     "iopub.execute_input": "2023-07-12T10:47:47.447679Z",
     "iopub.status.busy": "2023-07-12T10:47:47.447418Z",
     "iopub.status.idle": "2023-07-12T10:47:47.710337Z",
     "shell.execute_reply": "2023-07-12T10:47:47.709393Z"
    },
    "papermill": {
     "duration": 0.291346,
     "end_time": "2023-07-12T10:47:47.712914",
     "exception": false,
     "start_time": "2023-07-12T10:47:47.421568",
     "status": "completed"
    },
    "tags": []
   },
   "outputs": [],
   "source": [
    "train_data['Emotions'] = train_data['Class List'].apply(idx2class)\n",
    "valid_data['Emotions'] = valid_data['Class List'].apply(idx2class)\n",
    "test_data['Emotions'] = test_data['Class List'].apply(idx2class)"
   ]
  },
  {
   "cell_type": "code",
   "execution_count": 14,
   "id": "7806f8f5",
   "metadata": {
    "execution": {
     "iopub.execute_input": "2023-07-12T10:47:47.765071Z",
     "iopub.status.busy": "2023-07-12T10:47:47.764320Z",
     "iopub.status.idle": "2023-07-12T10:47:47.866202Z",
     "shell.execute_reply": "2023-07-12T10:47:47.865176Z"
    },
    "papermill": {
     "duration": 0.130061,
     "end_time": "2023-07-12T10:47:47.868379",
     "exception": false,
     "start_time": "2023-07-12T10:47:47.738318",
     "status": "completed"
    },
    "tags": []
   },
   "outputs": [
    {
     "data": {
      "text/plain": [
       "[neutral]                                        12823\n",
       "[admiration]                                      2710\n",
       "[approval]                                        1873\n",
       "[gratitude]                                       1857\n",
       "[amusement]                                       1652\n",
       "                                                 ...  \n",
       "[confusion, gratitude, realization]                  1\n",
       "[disappointment, disapproval, nervousness]           1\n",
       "[curiosity, disapproval, sadness]                    1\n",
       "[curiosity, disappointment, remorse, sadness]        1\n",
       "[admiration, amusement, love]                        1\n",
       "Name: Emotions, Length: 711, dtype: int64"
      ]
     },
     "execution_count": 14,
     "metadata": {},
     "output_type": "execute_result"
    }
   ],
   "source": [
    "train_data[\"Emotions\"].value_counts()"
   ]
  },
  {
   "cell_type": "code",
   "execution_count": 15,
   "id": "6e51436f",
   "metadata": {
    "execution": {
     "iopub.execute_input": "2023-07-12T10:47:47.919685Z",
     "iopub.status.busy": "2023-07-12T10:47:47.919398Z",
     "iopub.status.idle": "2023-07-12T10:47:47.938250Z",
     "shell.execute_reply": "2023-07-12T10:47:47.937364Z"
    },
    "papermill": {
     "duration": 0.046715,
     "end_time": "2023-07-12T10:47:47.940151",
     "exception": false,
     "start_time": "2023-07-12T10:47:47.893436",
     "status": "completed"
    },
    "tags": []
   },
   "outputs": [
    {
     "data": {
      "text/html": [
       "<div>\n",
       "<style scoped>\n",
       "    .dataframe tbody tr th:only-of-type {\n",
       "        vertical-align: middle;\n",
       "    }\n",
       "\n",
       "    .dataframe tbody tr th {\n",
       "        vertical-align: top;\n",
       "    }\n",
       "\n",
       "    .dataframe thead th {\n",
       "        text-align: right;\n",
       "    }\n",
       "</style>\n",
       "<table border=\"1\" class=\"dataframe\">\n",
       "  <thead>\n",
       "    <tr style=\"text-align: right;\">\n",
       "      <th></th>\n",
       "      <th>Text</th>\n",
       "      <th>Class</th>\n",
       "      <th>ID</th>\n",
       "      <th>Class List</th>\n",
       "      <th>Class Length</th>\n",
       "      <th>Emotions</th>\n",
       "    </tr>\n",
       "  </thead>\n",
       "  <tbody>\n",
       "    <tr>\n",
       "      <th>0</th>\n",
       "      <td>My favourite food is anything I didn't have to...</td>\n",
       "      <td>27</td>\n",
       "      <td>eebbqej</td>\n",
       "      <td>[27]</td>\n",
       "      <td>1</td>\n",
       "      <td>[neutral]</td>\n",
       "    </tr>\n",
       "    <tr>\n",
       "      <th>1</th>\n",
       "      <td>Now if he does off himself, everyone will thin...</td>\n",
       "      <td>27</td>\n",
       "      <td>ed00q6i</td>\n",
       "      <td>[27]</td>\n",
       "      <td>1</td>\n",
       "      <td>[neutral]</td>\n",
       "    </tr>\n",
       "    <tr>\n",
       "      <th>2</th>\n",
       "      <td>WHY THE FUCK IS BAYLESS ISOING</td>\n",
       "      <td>2</td>\n",
       "      <td>eezlygj</td>\n",
       "      <td>[2]</td>\n",
       "      <td>1</td>\n",
       "      <td>[anger]</td>\n",
       "    </tr>\n",
       "    <tr>\n",
       "      <th>3</th>\n",
       "      <td>To make her feel threatened</td>\n",
       "      <td>14</td>\n",
       "      <td>ed7ypvh</td>\n",
       "      <td>[14]</td>\n",
       "      <td>1</td>\n",
       "      <td>[fear]</td>\n",
       "    </tr>\n",
       "    <tr>\n",
       "      <th>4</th>\n",
       "      <td>Dirty Southern Wankers</td>\n",
       "      <td>3</td>\n",
       "      <td>ed0bdzj</td>\n",
       "      <td>[3]</td>\n",
       "      <td>1</td>\n",
       "      <td>[annoyance]</td>\n",
       "    </tr>\n",
       "  </tbody>\n",
       "</table>\n",
       "</div>"
      ],
      "text/plain": [
       "                                                Text Class       ID  \\\n",
       "0  My favourite food is anything I didn't have to...    27  eebbqej   \n",
       "1  Now if he does off himself, everyone will thin...    27  ed00q6i   \n",
       "2                     WHY THE FUCK IS BAYLESS ISOING     2  eezlygj   \n",
       "3                        To make her feel threatened    14  ed7ypvh   \n",
       "4                             Dirty Southern Wankers     3  ed0bdzj   \n",
       "\n",
       "  Class List  Class Length     Emotions  \n",
       "0       [27]             1    [neutral]  \n",
       "1       [27]             1    [neutral]  \n",
       "2        [2]             1      [anger]  \n",
       "3       [14]             1       [fear]  \n",
       "4        [3]             1  [annoyance]  "
      ]
     },
     "execution_count": 15,
     "metadata": {},
     "output_type": "execute_result"
    }
   ],
   "source": [
    "train_data.head()"
   ]
  },
  {
   "cell_type": "code",
   "execution_count": 16,
   "id": "95e04f50",
   "metadata": {
    "execution": {
     "iopub.execute_input": "2023-07-12T10:47:47.994172Z",
     "iopub.status.busy": "2023-07-12T10:47:47.993893Z",
     "iopub.status.idle": "2023-07-12T10:47:48.000419Z",
     "shell.execute_reply": "2023-07-12T10:47:47.999574Z"
    },
    "papermill": {
     "duration": 0.036952,
     "end_time": "2023-07-12T10:47:48.002557",
     "exception": false,
     "start_time": "2023-07-12T10:47:47.965605",
     "status": "completed"
    },
    "tags": []
   },
   "outputs": [],
   "source": [
    "def EmotionMapping(emotion_list):\n",
    "    map_list = []\n",
    "    \n",
    "    for i in emotion_list:\n",
    "        if i in ekman_mapping['anger']:\n",
    "            map_list.append('anger')\n",
    "        if i in ekman_mapping['disgust']:\n",
    "            map_list.append('disgust')\n",
    "        if i in ekman_mapping['fear']:\n",
    "            map_list.append('fear')\n",
    "        if i in ekman_mapping['joy']:\n",
    "            map_list.append('joy')\n",
    "        if i in ekman_mapping['sadness']:\n",
    "            map_list.append('sadness')\n",
    "        if i in ekman_mapping['surprise']:\n",
    "            map_list.append('surprise')\n",
    "        if i == 'neutral':\n",
    "            map_list.append('neutral')\n",
    "            \n",
    "    return map_list"
   ]
  },
  {
   "cell_type": "code",
   "execution_count": 17,
   "id": "ae60e2f7",
   "metadata": {
    "execution": {
     "iopub.execute_input": "2023-07-12T10:47:48.054984Z",
     "iopub.status.busy": "2023-07-12T10:47:48.054104Z",
     "iopub.status.idle": "2023-07-12T10:47:48.141553Z",
     "shell.execute_reply": "2023-07-12T10:47:48.140724Z"
    },
    "papermill": {
     "duration": 0.115808,
     "end_time": "2023-07-12T10:47:48.143715",
     "exception": false,
     "start_time": "2023-07-12T10:47:48.027907",
     "status": "completed"
    },
    "tags": []
   },
   "outputs": [],
   "source": [
    "train_data['Mapped Emotions'] = train_data['Emotions'].apply(EmotionMapping)\n",
    "valid_data['Mapped Emotions'] = valid_data['Emotions'].apply(EmotionMapping)\n",
    "test_data['Mapped Emotions'] = test_data['Emotions'].apply(EmotionMapping)"
   ]
  },
  {
   "cell_type": "code",
   "execution_count": 18,
   "id": "19227a90",
   "metadata": {
    "execution": {
     "iopub.execute_input": "2023-07-12T10:47:48.198129Z",
     "iopub.status.busy": "2023-07-12T10:47:48.197578Z",
     "iopub.status.idle": "2023-07-12T10:47:48.234114Z",
     "shell.execute_reply": "2023-07-12T10:47:48.233103Z"
    },
    "papermill": {
     "duration": 0.067107,
     "end_time": "2023-07-12T10:47:48.236240",
     "exception": false,
     "start_time": "2023-07-12T10:47:48.169133",
     "status": "completed"
    },
    "tags": []
   },
   "outputs": [
    {
     "data": {
      "text/plain": [
       "[joy]                       12920\n",
       "[neutral]                   12823\n",
       "[anger]                      3878\n",
       "[surprise]                   3553\n",
       "[joy, joy]                   2129\n",
       "                            ...  \n",
       "[fear, sadness, sadness]        1\n",
       "[joy, anger, disgust]           1\n",
       "[joy, fear, surprise]           1\n",
       "[disgust, fear, joy]            1\n",
       "[joy, anger, joy, joy]          1\n",
       "Name: Mapped Emotions, Length: 166, dtype: int64"
      ]
     },
     "execution_count": 18,
     "metadata": {},
     "output_type": "execute_result"
    }
   ],
   "source": [
    "train_data[\"Mapped Emotions\"].value_counts()"
   ]
  },
  {
   "cell_type": "code",
   "execution_count": 19,
   "id": "cf5aa19c",
   "metadata": {
    "execution": {
     "iopub.execute_input": "2023-07-12T10:47:48.289537Z",
     "iopub.status.busy": "2023-07-12T10:47:48.288820Z",
     "iopub.status.idle": "2023-07-12T10:47:48.306989Z",
     "shell.execute_reply": "2023-07-12T10:47:48.306174Z"
    },
    "papermill": {
     "duration": 0.046639,
     "end_time": "2023-07-12T10:47:48.308976",
     "exception": false,
     "start_time": "2023-07-12T10:47:48.262337",
     "status": "completed"
    },
    "tags": []
   },
   "outputs": [],
   "source": [
    "train_data['anger'] = np.zeros((len(train_data),1))\n",
    "train_data['disgust'] = np.zeros((len(train_data),1))\n",
    "train_data['fear'] = np.zeros((len(train_data),1))\n",
    "train_data['joy'] = np.zeros((len(train_data),1))\n",
    "train_data['sadness'] = np.zeros((len(train_data),1))\n",
    "train_data['surprise'] = np.zeros((len(train_data),1))\n",
    "train_data['neutral'] = np.zeros((len(train_data),1))\n",
    "\n",
    "valid_data['anger'] = np.zeros((len(valid_data),1))\n",
    "valid_data['disgust'] = np.zeros((len(valid_data),1))\n",
    "valid_data['fear'] = np.zeros((len(valid_data),1))\n",
    "valid_data['joy'] = np.zeros((len(valid_data),1))\n",
    "valid_data['sadness'] = np.zeros((len(valid_data),1))\n",
    "valid_data['surprise'] = np.zeros((len(valid_data),1))\n",
    "valid_data['neutral'] = np.zeros((len(valid_data),1))\n",
    "\n",
    "test_data['anger'] = np.zeros((len(test_data),1))\n",
    "test_data['disgust'] = np.zeros((len(test_data),1))\n",
    "test_data['fear'] = np.zeros((len(test_data),1))\n",
    "test_data['joy'] = np.zeros((len(test_data),1))\n",
    "test_data['sadness'] = np.zeros((len(test_data),1))\n",
    "test_data['surprise'] = np.zeros((len(test_data),1))\n",
    "test_data['neutral'] = np.zeros((len(test_data),1))"
   ]
  },
  {
   "cell_type": "code",
   "execution_count": 20,
   "id": "98a7ede7",
   "metadata": {
    "execution": {
     "iopub.execute_input": "2023-07-12T10:47:48.360887Z",
     "iopub.status.busy": "2023-07-12T10:47:48.360610Z",
     "iopub.status.idle": "2023-07-12T10:47:48.610695Z",
     "shell.execute_reply": "2023-07-12T10:47:48.609824Z"
    },
    "papermill": {
     "duration": 0.278466,
     "end_time": "2023-07-12T10:47:48.612731",
     "exception": false,
     "start_time": "2023-07-12T10:47:48.334265",
     "status": "completed"
    },
    "tags": []
   },
   "outputs": [],
   "source": [
    "for i in ['anger', 'disgust', 'fear', 'joy', 'sadness', 'surprise','neutral']:\n",
    "    train_data[i] = train_data['Mapped Emotions'].apply(lambda x: 1 if i in x else 0)\n",
    "    valid_data[i] = valid_data['Mapped Emotions'].apply(lambda x: 1 if i in x else 0)\n",
    "    test_data[i] = test_data['Mapped Emotions'].apply(lambda x: 1 if i in x else 0)"
   ]
  },
  {
   "cell_type": "code",
   "execution_count": 21,
   "id": "8a955993",
   "metadata": {
    "execution": {
     "iopub.execute_input": "2023-07-12T10:47:48.673713Z",
     "iopub.status.busy": "2023-07-12T10:47:48.673409Z",
     "iopub.status.idle": "2023-07-12T10:47:48.694276Z",
     "shell.execute_reply": "2023-07-12T10:47:48.693344Z"
    },
    "papermill": {
     "duration": 0.050065,
     "end_time": "2023-07-12T10:47:48.696398",
     "exception": false,
     "start_time": "2023-07-12T10:47:48.646333",
     "status": "completed"
    },
    "tags": []
   },
   "outputs": [
    {
     "data": {
      "text/html": [
       "<div>\n",
       "<style scoped>\n",
       "    .dataframe tbody tr th:only-of-type {\n",
       "        vertical-align: middle;\n",
       "    }\n",
       "\n",
       "    .dataframe tbody tr th {\n",
       "        vertical-align: top;\n",
       "    }\n",
       "\n",
       "    .dataframe thead th {\n",
       "        text-align: right;\n",
       "    }\n",
       "</style>\n",
       "<table border=\"1\" class=\"dataframe\">\n",
       "  <thead>\n",
       "    <tr style=\"text-align: right;\">\n",
       "      <th></th>\n",
       "      <th>Text</th>\n",
       "      <th>Class</th>\n",
       "      <th>ID</th>\n",
       "      <th>Class List</th>\n",
       "      <th>Class Length</th>\n",
       "      <th>Emotions</th>\n",
       "      <th>Mapped Emotions</th>\n",
       "      <th>anger</th>\n",
       "      <th>disgust</th>\n",
       "      <th>fear</th>\n",
       "      <th>joy</th>\n",
       "      <th>sadness</th>\n",
       "      <th>surprise</th>\n",
       "      <th>neutral</th>\n",
       "    </tr>\n",
       "  </thead>\n",
       "  <tbody>\n",
       "    <tr>\n",
       "      <th>0</th>\n",
       "      <td>My favourite food is anything I didn't have to...</td>\n",
       "      <td>27</td>\n",
       "      <td>eebbqej</td>\n",
       "      <td>[27]</td>\n",
       "      <td>1</td>\n",
       "      <td>[neutral]</td>\n",
       "      <td>[neutral]</td>\n",
       "      <td>0</td>\n",
       "      <td>0</td>\n",
       "      <td>0</td>\n",
       "      <td>0</td>\n",
       "      <td>0</td>\n",
       "      <td>0</td>\n",
       "      <td>1</td>\n",
       "    </tr>\n",
       "    <tr>\n",
       "      <th>1</th>\n",
       "      <td>Now if he does off himself, everyone will thin...</td>\n",
       "      <td>27</td>\n",
       "      <td>ed00q6i</td>\n",
       "      <td>[27]</td>\n",
       "      <td>1</td>\n",
       "      <td>[neutral]</td>\n",
       "      <td>[neutral]</td>\n",
       "      <td>0</td>\n",
       "      <td>0</td>\n",
       "      <td>0</td>\n",
       "      <td>0</td>\n",
       "      <td>0</td>\n",
       "      <td>0</td>\n",
       "      <td>1</td>\n",
       "    </tr>\n",
       "    <tr>\n",
       "      <th>2</th>\n",
       "      <td>WHY THE FUCK IS BAYLESS ISOING</td>\n",
       "      <td>2</td>\n",
       "      <td>eezlygj</td>\n",
       "      <td>[2]</td>\n",
       "      <td>1</td>\n",
       "      <td>[anger]</td>\n",
       "      <td>[anger]</td>\n",
       "      <td>1</td>\n",
       "      <td>0</td>\n",
       "      <td>0</td>\n",
       "      <td>0</td>\n",
       "      <td>0</td>\n",
       "      <td>0</td>\n",
       "      <td>0</td>\n",
       "    </tr>\n",
       "    <tr>\n",
       "      <th>3</th>\n",
       "      <td>To make her feel threatened</td>\n",
       "      <td>14</td>\n",
       "      <td>ed7ypvh</td>\n",
       "      <td>[14]</td>\n",
       "      <td>1</td>\n",
       "      <td>[fear]</td>\n",
       "      <td>[fear]</td>\n",
       "      <td>0</td>\n",
       "      <td>0</td>\n",
       "      <td>1</td>\n",
       "      <td>0</td>\n",
       "      <td>0</td>\n",
       "      <td>0</td>\n",
       "      <td>0</td>\n",
       "    </tr>\n",
       "    <tr>\n",
       "      <th>4</th>\n",
       "      <td>Dirty Southern Wankers</td>\n",
       "      <td>3</td>\n",
       "      <td>ed0bdzj</td>\n",
       "      <td>[3]</td>\n",
       "      <td>1</td>\n",
       "      <td>[annoyance]</td>\n",
       "      <td>[anger]</td>\n",
       "      <td>1</td>\n",
       "      <td>0</td>\n",
       "      <td>0</td>\n",
       "      <td>0</td>\n",
       "      <td>0</td>\n",
       "      <td>0</td>\n",
       "      <td>0</td>\n",
       "    </tr>\n",
       "  </tbody>\n",
       "</table>\n",
       "</div>"
      ],
      "text/plain": [
       "                                                Text Class       ID  \\\n",
       "0  My favourite food is anything I didn't have to...    27  eebbqej   \n",
       "1  Now if he does off himself, everyone will thin...    27  ed00q6i   \n",
       "2                     WHY THE FUCK IS BAYLESS ISOING     2  eezlygj   \n",
       "3                        To make her feel threatened    14  ed7ypvh   \n",
       "4                             Dirty Southern Wankers     3  ed0bdzj   \n",
       "\n",
       "  Class List  Class Length     Emotions Mapped Emotions  anger  disgust  fear  \\\n",
       "0       [27]             1    [neutral]       [neutral]      0        0     0   \n",
       "1       [27]             1    [neutral]       [neutral]      0        0     0   \n",
       "2        [2]             1      [anger]         [anger]      1        0     0   \n",
       "3       [14]             1       [fear]          [fear]      0        0     1   \n",
       "4        [3]             1  [annoyance]         [anger]      1        0     0   \n",
       "\n",
       "   joy  sadness  surprise  neutral  \n",
       "0    0        0         0        1  \n",
       "1    0        0         0        1  \n",
       "2    0        0         0        0  \n",
       "3    0        0         0        0  \n",
       "4    0        0         0        0  "
      ]
     },
     "execution_count": 21,
     "metadata": {},
     "output_type": "execute_result"
    }
   ],
   "source": [
    "train_data.head()"
   ]
  },
  {
   "cell_type": "code",
   "execution_count": 22,
   "id": "83ccd082",
   "metadata": {
    "execution": {
     "iopub.execute_input": "2023-07-12T10:47:48.751924Z",
     "iopub.status.busy": "2023-07-12T10:47:48.751205Z",
     "iopub.status.idle": "2023-07-12T10:47:48.763521Z",
     "shell.execute_reply": "2023-07-12T10:47:48.762736Z"
    },
    "papermill": {
     "duration": 0.041025,
     "end_time": "2023-07-12T10:47:48.765603",
     "exception": false,
     "start_time": "2023-07-12T10:47:48.724578",
     "status": "completed"
    },
    "tags": []
   },
   "outputs": [],
   "source": [
    "train_data.drop([\"Class\", \"ID\", \"Class List\", \"Class Length\", \"Emotions\", \"Mapped Emotions\"], axis=1, inplace=True)\n",
    "valid_data.drop([\"Class\", \"ID\", \"Class List\", \"Class Length\", \"Emotions\", \"Mapped Emotions\"], axis=1, inplace=True)\n",
    "test_data.drop([\"Class\", \"ID\", \"Class List\", \"Class Length\", \"Emotions\", \"Mapped Emotions\"], axis=1, inplace=True)"
   ]
  },
  {
   "cell_type": "markdown",
   "id": "46e53040",
   "metadata": {
    "papermill": {
     "duration": 0.025998,
     "end_time": "2023-07-12T10:47:48.817469",
     "exception": false,
     "start_time": "2023-07-12T10:47:48.791471",
     "status": "completed"
    },
    "tags": []
   },
   "source": [
    "# Data PreProcessing"
   ]
  },
  {
   "cell_type": "code",
   "execution_count": 23,
   "id": "3394773d",
   "metadata": {
    "execution": {
     "iopub.execute_input": "2023-07-12T10:47:48.870453Z",
     "iopub.status.busy": "2023-07-12T10:47:48.870194Z",
     "iopub.status.idle": "2023-07-12T10:47:48.877493Z",
     "shell.execute_reply": "2023-07-12T10:47:48.876577Z"
    },
    "papermill": {
     "duration": 0.036138,
     "end_time": "2023-07-12T10:47:48.879394",
     "exception": false,
     "start_time": "2023-07-12T10:47:48.843256",
     "status": "completed"
    },
    "tags": []
   },
   "outputs": [],
   "source": [
    "def preprocess(sentence):\n",
    "    stop_words = set(stopwords.words('english'))\n",
    "    lemmatizer = WordNetLemmatizer()\n",
    "    sentence = re.sub('[^A-z]', ' ', sentence)\n",
    "    negative = ['not', 'neither', 'nor', 'but', 'however', 'although', 'nonetheless', 'despite', 'except',\n",
    "                        'even though', 'yet']\n",
    "    stop_words = [z for z in stop_words if z not in negative]\n",
    "    preprocessed_tokens = [lemmatizer.lemmatize(contractions.fix(temp.lower())) for temp in sentence.split() if temp not in stop_words] #lemmatization\n",
    "    return ' '.join([x for x in preprocessed_tokens]).strip()\n",
    "\n",
    "def text_preprocessing_pipeline(text):\n",
    "    '''Cleaning and parsing the text.'''\n",
    "    text = preprocess(text)\n",
    "    return text"
   ]
  },
  {
   "cell_type": "code",
   "execution_count": 24,
   "id": "d7be9f58",
   "metadata": {
    "execution": {
     "iopub.execute_input": "2023-07-12T10:47:48.932632Z",
     "iopub.status.busy": "2023-07-12T10:47:48.931819Z",
     "iopub.status.idle": "2023-07-12T10:48:04.878542Z",
     "shell.execute_reply": "2023-07-12T10:48:04.877386Z"
    },
    "papermill": {
     "duration": 15.97578,
     "end_time": "2023-07-12T10:48:04.880952",
     "exception": false,
     "start_time": "2023-07-12T10:47:48.905172",
     "status": "completed"
    },
    "tags": []
   },
   "outputs": [],
   "source": [
    "train_data['Text'] = train_data['Text'].apply(lambda x: preprocess(x))"
   ]
  },
  {
   "cell_type": "code",
   "execution_count": 25,
   "id": "49133526",
   "metadata": {
    "execution": {
     "iopub.execute_input": "2023-07-12T10:48:04.934644Z",
     "iopub.status.busy": "2023-07-12T10:48:04.934314Z",
     "iopub.status.idle": "2023-07-12T10:48:06.679882Z",
     "shell.execute_reply": "2023-07-12T10:48:06.678943Z"
    },
    "papermill": {
     "duration": 1.775005,
     "end_time": "2023-07-12T10:48:06.682246",
     "exception": false,
     "start_time": "2023-07-12T10:48:04.907241",
     "status": "completed"
    },
    "tags": []
   },
   "outputs": [],
   "source": [
    "valid_data[\"Text\"] = valid_data[\"Text\"].apply(lambda x: preprocess(x))"
   ]
  },
  {
   "cell_type": "code",
   "execution_count": 26,
   "id": "6fe88dc1",
   "metadata": {
    "execution": {
     "iopub.execute_input": "2023-07-12T10:48:06.748523Z",
     "iopub.status.busy": "2023-07-12T10:48:06.748203Z",
     "iopub.status.idle": "2023-07-12T10:48:08.429978Z",
     "shell.execute_reply": "2023-07-12T10:48:08.429019Z"
    },
    "papermill": {
     "duration": 1.724015,
     "end_time": "2023-07-12T10:48:08.432445",
     "exception": false,
     "start_time": "2023-07-12T10:48:06.708430",
     "status": "completed"
    },
    "tags": []
   },
   "outputs": [],
   "source": [
    "test_data[\"Text\"] = test_data[\"Text\"].apply(text_preprocessing_pipeline)"
   ]
  },
  {
   "cell_type": "code",
   "execution_count": 27,
   "id": "4f554fef",
   "metadata": {
    "execution": {
     "iopub.execute_input": "2023-07-12T10:48:08.487131Z",
     "iopub.status.busy": "2023-07-12T10:48:08.486307Z",
     "iopub.status.idle": "2023-07-12T10:48:08.866911Z",
     "shell.execute_reply": "2023-07-12T10:48:08.865837Z"
    },
    "papermill": {
     "duration": 0.410827,
     "end_time": "2023-07-12T10:48:08.869902",
     "exception": false,
     "start_time": "2023-07-12T10:48:08.459075",
     "status": "completed"
    },
    "tags": []
   },
   "outputs": [
    {
     "data": {
      "text/plain": [
       "count    43410.000000\n",
       "mean         7.761253\n",
       "std          3.956936\n",
       "min          0.000000\n",
       "5%           2.000000\n",
       "50%          7.000000\n",
       "97%         16.000000\n",
       "max         33.000000\n",
       "Name: Text, dtype: float64"
      ]
     },
     "execution_count": 27,
     "metadata": {},
     "output_type": "execute_result"
    }
   ],
   "source": [
    "pd.Series(train_data[\"Text\"]).str.split().str.len().describe(percentiles=[0.05, 0.97])"
   ]
  },
  {
   "cell_type": "code",
   "execution_count": 28,
   "id": "295a45e3",
   "metadata": {
    "execution": {
     "iopub.execute_input": "2023-07-12T10:48:08.925126Z",
     "iopub.status.busy": "2023-07-12T10:48:08.924540Z",
     "iopub.status.idle": "2023-07-12T10:48:08.935792Z",
     "shell.execute_reply": "2023-07-12T10:48:08.934866Z"
    },
    "papermill": {
     "duration": 0.040318,
     "end_time": "2023-07-12T10:48:08.937721",
     "exception": false,
     "start_time": "2023-07-12T10:48:08.897403",
     "status": "completed"
    },
    "tags": []
   },
   "outputs": [
    {
     "data": {
      "text/html": [
       "<div>\n",
       "<style scoped>\n",
       "    .dataframe tbody tr th:only-of-type {\n",
       "        vertical-align: middle;\n",
       "    }\n",
       "\n",
       "    .dataframe tbody tr th {\n",
       "        vertical-align: top;\n",
       "    }\n",
       "\n",
       "    .dataframe thead th {\n",
       "        text-align: right;\n",
       "    }\n",
       "</style>\n",
       "<table border=\"1\" class=\"dataframe\">\n",
       "  <thead>\n",
       "    <tr style=\"text-align: right;\">\n",
       "      <th></th>\n",
       "      <th>Text</th>\n",
       "      <th>anger</th>\n",
       "      <th>disgust</th>\n",
       "      <th>fear</th>\n",
       "      <th>joy</th>\n",
       "      <th>sadness</th>\n",
       "      <th>surprise</th>\n",
       "      <th>neutral</th>\n",
       "    </tr>\n",
       "  </thead>\n",
       "  <tbody>\n",
       "    <tr>\n",
       "      <th>0</th>\n",
       "      <td>my favourite food anything i cook</td>\n",
       "      <td>0</td>\n",
       "      <td>0</td>\n",
       "      <td>0</td>\n",
       "      <td>0</td>\n",
       "      <td>0</td>\n",
       "      <td>0</td>\n",
       "      <td>1</td>\n",
       "    </tr>\n",
       "    <tr>\n",
       "      <th>1</th>\n",
       "      <td>now everyone think he laugh screwing people in...</td>\n",
       "      <td>0</td>\n",
       "      <td>0</td>\n",
       "      <td>0</td>\n",
       "      <td>0</td>\n",
       "      <td>0</td>\n",
       "      <td>0</td>\n",
       "      <td>1</td>\n",
       "    </tr>\n",
       "    <tr>\n",
       "      <th>2</th>\n",
       "      <td>why the fuck is bayless isoing</td>\n",
       "      <td>1</td>\n",
       "      <td>0</td>\n",
       "      <td>0</td>\n",
       "      <td>0</td>\n",
       "      <td>0</td>\n",
       "      <td>0</td>\n",
       "      <td>0</td>\n",
       "    </tr>\n",
       "    <tr>\n",
       "      <th>3</th>\n",
       "      <td>to make feel threatened</td>\n",
       "      <td>0</td>\n",
       "      <td>0</td>\n",
       "      <td>1</td>\n",
       "      <td>0</td>\n",
       "      <td>0</td>\n",
       "      <td>0</td>\n",
       "      <td>0</td>\n",
       "    </tr>\n",
       "    <tr>\n",
       "      <th>4</th>\n",
       "      <td>dirty southern wanker</td>\n",
       "      <td>1</td>\n",
       "      <td>0</td>\n",
       "      <td>0</td>\n",
       "      <td>0</td>\n",
       "      <td>0</td>\n",
       "      <td>0</td>\n",
       "      <td>0</td>\n",
       "    </tr>\n",
       "  </tbody>\n",
       "</table>\n",
       "</div>"
      ],
      "text/plain": [
       "                                                Text  anger  disgust  fear  \\\n",
       "0                  my favourite food anything i cook      0        0     0   \n",
       "1  now everyone think he laugh screwing people in...      0        0     0   \n",
       "2                     why the fuck is bayless isoing      1        0     0   \n",
       "3                            to make feel threatened      0        0     1   \n",
       "4                              dirty southern wanker      1        0     0   \n",
       "\n",
       "   joy  sadness  surprise  neutral  \n",
       "0    0        0         0        1  \n",
       "1    0        0         0        1  \n",
       "2    0        0         0        0  \n",
       "3    0        0         0        0  \n",
       "4    0        0         0        0  "
      ]
     },
     "execution_count": 28,
     "metadata": {},
     "output_type": "execute_result"
    }
   ],
   "source": [
    "train_data.head()"
   ]
  },
  {
   "cell_type": "code",
   "execution_count": 29,
   "id": "c9308266",
   "metadata": {
    "execution": {
     "iopub.execute_input": "2023-07-12T10:48:08.992132Z",
     "iopub.status.busy": "2023-07-12T10:48:08.991316Z",
     "iopub.status.idle": "2023-07-12T10:48:09.004636Z",
     "shell.execute_reply": "2023-07-12T10:48:09.003368Z"
    },
    "papermill": {
     "duration": 0.042838,
     "end_time": "2023-07-12T10:48:09.006723",
     "exception": false,
     "start_time": "2023-07-12T10:48:08.963885",
     "status": "completed"
    },
    "tags": []
   },
   "outputs": [
    {
     "name": "stdout",
     "output_type": "stream",
     "text": [
      "anger:\n",
      " 0    37831\n",
      "1     5579\n",
      "Name: anger, dtype: int64\n",
      "\n",
      "\n",
      "disgust:\n",
      " 0    42617\n",
      "1      793\n",
      "Name: disgust, dtype: int64\n",
      "\n",
      "\n",
      "fear:\n",
      " 0    42684\n",
      "1      726\n",
      "Name: fear, dtype: int64\n",
      "\n",
      "\n",
      "joy:\n",
      " 0    26000\n",
      "1    17410\n",
      "Name: joy, dtype: int64\n",
      "\n",
      "\n",
      "sadness:\n",
      " 0    40147\n",
      "1     3263\n",
      "Name: sadness, dtype: int64\n",
      "\n",
      "\n",
      "surprise:\n",
      " 0    38043\n",
      "1     5367\n",
      "Name: surprise, dtype: int64\n",
      "\n",
      "\n",
      "neutral:\n",
      " 0    29191\n",
      "1    14219\n",
      "Name: neutral, dtype: int64\n",
      "\n",
      "\n"
     ]
    }
   ],
   "source": [
    "for col in train_data.columns[1:]:\n",
    "    print(f\"{col}:\\n\",train_data[col].value_counts())\n",
    "    print(\"\\n\")"
   ]
  },
  {
   "cell_type": "markdown",
   "id": "dcbf4824",
   "metadata": {
    "papermill": {
     "duration": 0.030279,
     "end_time": "2023-07-12T10:48:09.063466",
     "exception": false,
     "start_time": "2023-07-12T10:48:09.033187",
     "status": "completed"
    },
    "tags": []
   },
   "source": [
    "# Model_1 (Baseline RoBERTa with Freezed Layers)"
   ]
  },
  {
   "cell_type": "code",
   "execution_count": 30,
   "id": "ad6bf050",
   "metadata": {
    "execution": {
     "iopub.execute_input": "2023-07-12T10:48:09.118049Z",
     "iopub.status.busy": "2023-07-12T10:48:09.117223Z",
     "iopub.status.idle": "2023-07-12T10:48:09.133899Z",
     "shell.execute_reply": "2023-07-12T10:48:09.132972Z"
    },
    "papermill": {
     "duration": 0.046013,
     "end_time": "2023-07-12T10:48:09.135790",
     "exception": false,
     "start_time": "2023-07-12T10:48:09.089777",
     "status": "completed"
    },
    "tags": []
   },
   "outputs": [],
   "source": [
    "train_labels = train_data.drop(\"Text\", axis=1)\n",
    "valid_labels = valid_data.drop(\"Text\", axis=1)\n",
    "test_labels = test_data.drop(\"Text\", axis=1)"
   ]
  },
  {
   "cell_type": "code",
   "execution_count": 31,
   "id": "af725076",
   "metadata": {
    "execution": {
     "iopub.execute_input": "2023-07-12T10:48:09.189388Z",
     "iopub.status.busy": "2023-07-12T10:48:09.189121Z",
     "iopub.status.idle": "2023-07-12T10:48:10.851465Z",
     "shell.execute_reply": "2023-07-12T10:48:10.850502Z"
    },
    "papermill": {
     "duration": 1.691726,
     "end_time": "2023-07-12T10:48:10.853823",
     "exception": false,
     "start_time": "2023-07-12T10:48:09.162097",
     "status": "completed"
    },
    "tags": []
   },
   "outputs": [
    {
     "data": {
      "application/vnd.jupyter.widget-view+json": {
       "model_id": "7faca1cb22ee4237b8a6664f5d1b5149",
       "version_major": 2,
       "version_minor": 0
      },
      "text/plain": [
       "Downloading (…)olve/main/vocab.json:   0%|          | 0.00/899k [00:00<?, ?B/s]"
      ]
     },
     "metadata": {},
     "output_type": "display_data"
    },
    {
     "data": {
      "application/vnd.jupyter.widget-view+json": {
       "model_id": "20b7f1b45240488ba9a8a373b2e9cf7d",
       "version_major": 2,
       "version_minor": 0
      },
      "text/plain": [
       "Downloading (…)olve/main/merges.txt:   0%|          | 0.00/456k [00:00<?, ?B/s]"
      ]
     },
     "metadata": {},
     "output_type": "display_data"
    },
    {
     "data": {
      "application/vnd.jupyter.widget-view+json": {
       "model_id": "c104ea2bb3784f90b83b1f9850e1960e",
       "version_major": 2,
       "version_minor": 0
      },
      "text/plain": [
       "Downloading (…)/main/tokenizer.json:   0%|          | 0.00/1.36M [00:00<?, ?B/s]"
      ]
     },
     "metadata": {},
     "output_type": "display_data"
    },
    {
     "data": {
      "application/vnd.jupyter.widget-view+json": {
       "model_id": "45471272472645559193955729aefc27",
       "version_major": 2,
       "version_minor": 0
      },
      "text/plain": [
       "Downloading (…)lve/main/config.json:   0%|          | 0.00/481 [00:00<?, ?B/s]"
      ]
     },
     "metadata": {},
     "output_type": "display_data"
    }
   ],
   "source": [
    "from transformers import RobertaTokenizerFast\n",
    "tokenizer = RobertaTokenizerFast.from_pretrained(\"roberta-base\")"
   ]
  },
  {
   "cell_type": "code",
   "execution_count": 32,
   "id": "a28e17e6",
   "metadata": {
    "execution": {
     "iopub.execute_input": "2023-07-12T10:48:10.910237Z",
     "iopub.status.busy": "2023-07-12T10:48:10.909934Z",
     "iopub.status.idle": "2023-07-12T10:48:10.917128Z",
     "shell.execute_reply": "2023-07-12T10:48:10.916183Z"
    },
    "papermill": {
     "duration": 0.037851,
     "end_time": "2023-07-12T10:48:10.919171",
     "exception": false,
     "start_time": "2023-07-12T10:48:10.881320",
     "status": "completed"
    },
    "tags": []
   },
   "outputs": [],
   "source": [
    "def roberta_encode(data, maximum_length, tokenizer) :\n",
    "    \n",
    "    \n",
    "    input_ids = []\n",
    "    attention_masks = []\n",
    "    token_type_ids = []\n",
    "    for i in range(len(data['Text'])):\n",
    "        \n",
    "        encoded = tokenizer.encode_plus(data[\"Text\"].iloc[i],\n",
    "                                        add_special_tokens=True,\n",
    "                                        max_length=maximum_length,\n",
    "                                        pad_to_max_length=True,\n",
    "                                        return_attention_mask=True,\n",
    "                                        truncation=True,\n",
    "                                        return_token_type_ids=True)\n",
    "      \n",
    "        input_ids.append(encoded['input_ids'])\n",
    "        attention_masks.append(encoded['attention_mask'])\n",
    "        token_type_ids.append(encoded[\"token_type_ids\"])\n",
    "        \n",
    "        \n",
    "    return np.array(input_ids),np.array(attention_masks),np.array(token_type_ids)"
   ]
  },
  {
   "cell_type": "code",
   "execution_count": 33,
   "id": "7b9c33ea",
   "metadata": {
    "execution": {
     "iopub.execute_input": "2023-07-12T10:48:10.974821Z",
     "iopub.status.busy": "2023-07-12T10:48:10.974032Z",
     "iopub.status.idle": "2023-07-12T10:48:10.980312Z",
     "shell.execute_reply": "2023-07-12T10:48:10.979383Z"
    },
    "papermill": {
     "duration": 0.036124,
     "end_time": "2023-07-12T10:48:10.982262",
     "exception": false,
     "start_time": "2023-07-12T10:48:10.946138",
     "status": "completed"
    },
    "tags": []
   },
   "outputs": [
    {
     "data": {
      "text/plain": [
       "43410"
      ]
     },
     "execution_count": 33,
     "metadata": {},
     "output_type": "execute_result"
    }
   ],
   "source": [
    "len(train_data.Text)"
   ]
  },
  {
   "cell_type": "code",
   "execution_count": 34,
   "id": "f1e4db36",
   "metadata": {
    "execution": {
     "iopub.execute_input": "2023-07-12T10:48:11.039838Z",
     "iopub.status.busy": "2023-07-12T10:48:11.039013Z",
     "iopub.status.idle": "2023-07-12T10:48:18.813396Z",
     "shell.execute_reply": "2023-07-12T10:48:18.812403Z"
    },
    "papermill": {
     "duration": 7.806499,
     "end_time": "2023-07-12T10:48:18.815990",
     "exception": false,
     "start_time": "2023-07-12T10:48:11.009491",
     "status": "completed"
    },
    "tags": []
   },
   "outputs": [],
   "source": [
    "max_len = max([len(x.split()) for x in train_data['Text']])\n",
    "train_input_ids,train_attention_masks, train_token_type_ids = roberta_encode(train_data, max_len, tokenizer)\n",
    "valid_input_ids,valid_attention_masks, valid_token_type_ids = roberta_encode(valid_data, max_len, tokenizer)\n",
    "test_input_ids,test_attention_masks, test_token_type_ids = roberta_encode(test_data, max_len, tokenizer)"
   ]
  },
  {
   "cell_type": "code",
   "execution_count": 35,
   "id": "ac9616a8",
   "metadata": {
    "execution": {
     "iopub.execute_input": "2023-07-12T10:48:18.872207Z",
     "iopub.status.busy": "2023-07-12T10:48:18.871873Z",
     "iopub.status.idle": "2023-07-12T10:48:18.879246Z",
     "shell.execute_reply": "2023-07-12T10:48:18.878291Z"
    },
    "papermill": {
     "duration": 0.037863,
     "end_time": "2023-07-12T10:48:18.881552",
     "exception": false,
     "start_time": "2023-07-12T10:48:18.843689",
     "status": "completed"
    },
    "tags": []
   },
   "outputs": [
    {
     "data": {
      "text/plain": [
       "(array([   0, 4783, 5548,  689,  932,  939, 7142,    2,    1,    1,    1,\n",
       "           1,    1,    1,    1,    1,    1,    1,    1,    1,    1,    1,\n",
       "           1,    1,    1,    1,    1,    1,    1,    1,    1,    1,    1]),\n",
       " array([1, 1, 1, 1, 1, 1, 1, 1, 0, 0, 0, 0, 0, 0, 0, 0, 0, 0, 0, 0, 0, 0,\n",
       "        0, 0, 0, 0, 0, 0, 0, 0, 0, 0, 0]),\n",
       " array([0, 0, 0, 0, 0, 0, 0, 0, 0, 0, 0, 0, 0, 0, 0, 0, 0, 0, 0, 0, 0, 0,\n",
       "        0, 0, 0, 0, 0, 0, 0, 0, 0, 0, 0]))"
      ]
     },
     "execution_count": 35,
     "metadata": {},
     "output_type": "execute_result"
    }
   ],
   "source": [
    "train_input_ids[0], train_attention_masks[0], train_token_type_ids[0]"
   ]
  },
  {
   "cell_type": "code",
   "execution_count": 36,
   "id": "4aa269d8",
   "metadata": {
    "execution": {
     "iopub.execute_input": "2023-07-12T10:48:18.938208Z",
     "iopub.status.busy": "2023-07-12T10:48:18.937924Z",
     "iopub.status.idle": "2023-07-12T10:48:18.943735Z",
     "shell.execute_reply": "2023-07-12T10:48:18.942915Z"
    },
    "papermill": {
     "duration": 0.035983,
     "end_time": "2023-07-12T10:48:18.945635",
     "exception": false,
     "start_time": "2023-07-12T10:48:18.909652",
     "status": "completed"
    },
    "tags": []
   },
   "outputs": [
    {
     "data": {
      "text/plain": [
       "((43410, 7), (5426, 7), (5427, 7))"
      ]
     },
     "execution_count": 36,
     "metadata": {},
     "output_type": "execute_result"
    }
   ],
   "source": [
    "train_labels.shape, valid_labels.shape, test_labels.shape"
   ]
  },
  {
   "cell_type": "code",
   "execution_count": 37,
   "id": "b44f86a6",
   "metadata": {
    "execution": {
     "iopub.execute_input": "2023-07-12T10:48:19.003093Z",
     "iopub.status.busy": "2023-07-12T10:48:19.002269Z",
     "iopub.status.idle": "2023-07-12T10:48:19.008921Z",
     "shell.execute_reply": "2023-07-12T10:48:19.007991Z"
    },
    "papermill": {
     "duration": 0.037392,
     "end_time": "2023-07-12T10:48:19.010838",
     "exception": false,
     "start_time": "2023-07-12T10:48:18.973446",
     "status": "completed"
    },
    "tags": []
   },
   "outputs": [
    {
     "data": {
      "text/plain": [
       "((43410, 33), (5426, 33))"
      ]
     },
     "execution_count": 37,
     "metadata": {},
     "output_type": "execute_result"
    }
   ],
   "source": [
    "train_input_ids.shape, valid_input_ids.shape"
   ]
  },
  {
   "cell_type": "code",
   "execution_count": 38,
   "id": "15fc4e49",
   "metadata": {
    "execution": {
     "iopub.execute_input": "2023-07-12T10:48:19.068688Z",
     "iopub.status.busy": "2023-07-12T10:48:19.067942Z",
     "iopub.status.idle": "2023-07-12T10:48:19.074737Z",
     "shell.execute_reply": "2023-07-12T10:48:19.073768Z"
    },
    "papermill": {
     "duration": 0.038642,
     "end_time": "2023-07-12T10:48:19.076960",
     "exception": false,
     "start_time": "2023-07-12T10:48:19.038318",
     "status": "completed"
    },
    "tags": []
   },
   "outputs": [
    {
     "data": {
      "text/plain": [
       "((43410, 33), (5426, 33))"
      ]
     },
     "execution_count": 38,
     "metadata": {},
     "output_type": "execute_result"
    }
   ],
   "source": [
    "train_attention_masks.shape, valid_attention_masks.shape"
   ]
  },
  {
   "cell_type": "code",
   "execution_count": 39,
   "id": "0b978083",
   "metadata": {
    "execution": {
     "iopub.execute_input": "2023-07-12T10:48:19.137486Z",
     "iopub.status.busy": "2023-07-12T10:48:19.136589Z",
     "iopub.status.idle": "2023-07-12T10:48:19.142924Z",
     "shell.execute_reply": "2023-07-12T10:48:19.141984Z"
    },
    "papermill": {
     "duration": 0.038447,
     "end_time": "2023-07-12T10:48:19.144994",
     "exception": false,
     "start_time": "2023-07-12T10:48:19.106547",
     "status": "completed"
    },
    "tags": []
   },
   "outputs": [
    {
     "data": {
      "text/plain": [
       "((43410, 33), (5426, 33))"
      ]
     },
     "execution_count": 39,
     "metadata": {},
     "output_type": "execute_result"
    }
   ],
   "source": [
    "train_token_type_ids.shape, valid_token_type_ids.shape"
   ]
  },
  {
   "cell_type": "code",
   "execution_count": 40,
   "id": "768e7c1d",
   "metadata": {
    "execution": {
     "iopub.execute_input": "2023-07-12T10:48:19.203986Z",
     "iopub.status.busy": "2023-07-12T10:48:19.203159Z",
     "iopub.status.idle": "2023-07-12T10:48:19.215568Z",
     "shell.execute_reply": "2023-07-12T10:48:19.214501Z"
    },
    "papermill": {
     "duration": 0.044786,
     "end_time": "2023-07-12T10:48:19.217980",
     "exception": false,
     "start_time": "2023-07-12T10:48:19.173194",
     "status": "completed"
    },
    "tags": []
   },
   "outputs": [
    {
     "data": {
      "text/html": [
       "<div>\n",
       "<style scoped>\n",
       "    .dataframe tbody tr th:only-of-type {\n",
       "        vertical-align: middle;\n",
       "    }\n",
       "\n",
       "    .dataframe tbody tr th {\n",
       "        vertical-align: top;\n",
       "    }\n",
       "\n",
       "    .dataframe thead th {\n",
       "        text-align: right;\n",
       "    }\n",
       "</style>\n",
       "<table border=\"1\" class=\"dataframe\">\n",
       "  <thead>\n",
       "    <tr style=\"text-align: right;\">\n",
       "      <th></th>\n",
       "      <th>Text</th>\n",
       "      <th>anger</th>\n",
       "      <th>disgust</th>\n",
       "      <th>fear</th>\n",
       "      <th>joy</th>\n",
       "      <th>sadness</th>\n",
       "      <th>surprise</th>\n",
       "      <th>neutral</th>\n",
       "    </tr>\n",
       "  </thead>\n",
       "  <tbody>\n",
       "    <tr>\n",
       "      <th>0</th>\n",
       "      <td>my favourite food anything i cook</td>\n",
       "      <td>0</td>\n",
       "      <td>0</td>\n",
       "      <td>0</td>\n",
       "      <td>0</td>\n",
       "      <td>0</td>\n",
       "      <td>0</td>\n",
       "      <td>1</td>\n",
       "    </tr>\n",
       "  </tbody>\n",
       "</table>\n",
       "</div>"
      ],
      "text/plain": [
       "                                Text  anger  disgust  fear  joy  sadness  \\\n",
       "0  my favourite food anything i cook      0        0     0    0        0   \n",
       "\n",
       "   surprise  neutral  \n",
       "0         0        1  "
      ]
     },
     "execution_count": 40,
     "metadata": {},
     "output_type": "execute_result"
    }
   ],
   "source": [
    "train_data.head(1)"
   ]
  },
  {
   "cell_type": "code",
   "execution_count": 41,
   "id": "fd175811",
   "metadata": {
    "execution": {
     "iopub.execute_input": "2023-07-12T10:48:19.279320Z",
     "iopub.status.busy": "2023-07-12T10:48:19.279020Z",
     "iopub.status.idle": "2023-07-12T10:48:19.287338Z",
     "shell.execute_reply": "2023-07-12T10:48:19.286376Z"
    },
    "papermill": {
     "duration": 0.039714,
     "end_time": "2023-07-12T10:48:19.289369",
     "exception": false,
     "start_time": "2023-07-12T10:48:19.249655",
     "status": "completed"
    },
    "tags": []
   },
   "outputs": [],
   "source": [
    "def create_model(bert_model, max_len, num_classes=7):\n",
    "    \n",
    "    input_ids = tf.keras.Input(shape=(max_len,),dtype='int32')\n",
    "    attention_masks = tf.keras.Input(shape=(max_len,),dtype='int32')\n",
    "    token_type_ids = tf.keras.Input(shape=(max_len,),dtype='int32')\n",
    "    \n",
    "    features = bert_model([input_ids,attention_masks, token_type_ids])\n",
    "    fc_1 = tf.keras.layers.Dense(256, activation=\"relu\")(features[1])\n",
    "    dropout_1 = tf.keras.layers.Dropout(0.7)(fc_1)\n",
    "    output = tf.keras.layers.Dense(num_classes, activation='sigmoid')(dropout_1)\n",
    "    \n",
    "    model = tf.keras.models.Model(inputs=[input_ids,attention_masks,token_type_ids], outputs=output)\n",
    "    \n",
    "    model.compile(tf.keras.optimizers.Adam(learning_rate=2e-5, weight_decay=1e-6),\n",
    "                  loss='categorical_crossentropy',\n",
    "                  metrics=['accuracy', tf.keras.metrics.Precision(name='precision')])\n",
    "    return model"
   ]
  },
  {
   "cell_type": "code",
   "execution_count": 42,
   "id": "aa9097e9",
   "metadata": {
    "execution": {
     "iopub.execute_input": "2023-07-12T10:48:19.347201Z",
     "iopub.status.busy": "2023-07-12T10:48:19.346866Z",
     "iopub.status.idle": "2023-07-12T10:48:19.352772Z",
     "shell.execute_reply": "2023-07-12T10:48:19.351838Z"
    },
    "papermill": {
     "duration": 0.037031,
     "end_time": "2023-07-12T10:48:19.354857",
     "exception": false,
     "start_time": "2023-07-12T10:48:19.317826",
     "status": "completed"
    },
    "tags": []
   },
   "outputs": [],
   "source": [
    "from tensorflow.keras.callbacks import EarlyStopping\n",
    "es = EarlyStopping(monitor='val_loss', mode='min', verbose=1, patience=3)"
   ]
  },
  {
   "cell_type": "code",
   "execution_count": 43,
   "id": "5940f1aa",
   "metadata": {
    "execution": {
     "iopub.execute_input": "2023-07-12T10:48:19.413157Z",
     "iopub.status.busy": "2023-07-12T10:48:19.412364Z",
     "iopub.status.idle": "2023-07-12T10:48:41.699845Z",
     "shell.execute_reply": "2023-07-12T10:48:41.698918Z"
    },
    "papermill": {
     "duration": 22.318319,
     "end_time": "2023-07-12T10:48:41.701914",
     "exception": false,
     "start_time": "2023-07-12T10:48:19.383595",
     "status": "completed"
    },
    "tags": []
   },
   "outputs": [
    {
     "data": {
      "application/vnd.jupyter.widget-view+json": {
       "model_id": "c6425680da97430eab5d8e1ed6376c1b",
       "version_major": 2,
       "version_minor": 0
      },
      "text/plain": [
       "Downloading model.safetensors:   0%|          | 0.00/499M [00:00<?, ?B/s]"
      ]
     },
     "metadata": {},
     "output_type": "display_data"
    },
    {
     "name": "stderr",
     "output_type": "stream",
     "text": [
      "Some weights of the PyTorch model were not used when initializing the TF 2.0 model TFRobertaModel: ['roberta.embeddings.position_ids', 'lm_head.layer_norm.bias', 'lm_head.layer_norm.weight', 'lm_head.dense.bias', 'lm_head.bias', 'lm_head.dense.weight']\n",
      "- This IS expected if you are initializing TFRobertaModel from a PyTorch model trained on another task or with another architecture (e.g. initializing a TFBertForSequenceClassification model from a BertForPreTraining model).\n",
      "- This IS NOT expected if you are initializing TFRobertaModel from a PyTorch model that you expect to be exactly identical (e.g. initializing a TFBertForSequenceClassification model from a BertForSequenceClassification model).\n",
      "Some weights or buffers of the TF 2.0 model TFRobertaModel were not initialized from the PyTorch model and are newly initialized: ['roberta.pooler.dense.weight', 'roberta.pooler.dense.bias']\n",
      "You should probably TRAIN this model on a down-stream task to be able to use it for predictions and inference.\n"
     ]
    }
   ],
   "source": [
    "from transformers import TFRobertaModel\n",
    "roberta_model = TFRobertaModel.from_pretrained('roberta-base')\n",
    "roberta_model.trainable = False"
   ]
  },
  {
   "cell_type": "code",
   "execution_count": 44,
   "id": "cdec1416",
   "metadata": {
    "execution": {
     "iopub.execute_input": "2023-07-12T10:48:41.762021Z",
     "iopub.status.busy": "2023-07-12T10:48:41.761690Z",
     "iopub.status.idle": "2023-07-12T10:48:48.445296Z",
     "shell.execute_reply": "2023-07-12T10:48:48.444300Z"
    },
    "papermill": {
     "duration": 6.720254,
     "end_time": "2023-07-12T10:48:48.450898",
     "exception": false,
     "start_time": "2023-07-12T10:48:41.730644",
     "status": "completed"
    },
    "tags": []
   },
   "outputs": [
    {
     "name": "stdout",
     "output_type": "stream",
     "text": [
      "Model: \"model\"\n",
      "__________________________________________________________________________________________________\n",
      " Layer (type)                   Output Shape         Param #     Connected to                     \n",
      "==================================================================================================\n",
      " input_1 (InputLayer)           [(None, 33)]         0           []                               \n",
      "                                                                                                  \n",
      " input_2 (InputLayer)           [(None, 33)]         0           []                               \n",
      "                                                                                                  \n",
      " input_3 (InputLayer)           [(None, 33)]         0           []                               \n",
      "                                                                                                  \n",
      " tf_roberta_model (TFRobertaMod  TFBaseModelOutputWi  124645632  ['input_1[0][0]',                \n",
      " el)                            thPoolingAndCrossAt               'input_2[0][0]',                \n",
      "                                tentions(last_hidde               'input_3[0][0]']                \n",
      "                                n_state=(None, 33,                                                \n",
      "                                768),                                                             \n",
      "                                 pooler_output=(Non                                               \n",
      "                                e, 768),                                                          \n",
      "                                 past_key_values=No                                               \n",
      "                                ne, hidden_states=N                                               \n",
      "                                one, attentions=Non                                               \n",
      "                                e, cross_attentions                                               \n",
      "                                =None)                                                            \n",
      "                                                                                                  \n",
      " dense (Dense)                  (None, 256)          196864      ['tf_roberta_model[0][1]']       \n",
      "                                                                                                  \n",
      " dropout_37 (Dropout)           (None, 256)          0           ['dense[0][0]']                  \n",
      "                                                                                                  \n",
      " dense_1 (Dense)                (None, 7)            1799        ['dropout_37[0][0]']             \n",
      "                                                                                                  \n",
      "==================================================================================================\n",
      "Total params: 124,844,295\n",
      "Trainable params: 198,663\n",
      "Non-trainable params: 124,645,632\n",
      "__________________________________________________________________________________________________\n"
     ]
    }
   ],
   "source": [
    "model = create_model(roberta_model, max_len)\n",
    "model.summary()"
   ]
  },
  {
   "cell_type": "code",
   "execution_count": 45,
   "id": "662c51c6",
   "metadata": {
    "execution": {
     "iopub.execute_input": "2023-07-12T10:48:48.514885Z",
     "iopub.status.busy": "2023-07-12T10:48:48.514565Z",
     "iopub.status.idle": "2023-07-12T11:01:59.117637Z",
     "shell.execute_reply": "2023-07-12T11:01:59.116546Z"
    },
    "papermill": {
     "duration": 790.766094,
     "end_time": "2023-07-12T11:01:59.248415",
     "exception": false,
     "start_time": "2023-07-12T10:48:48.482321",
     "status": "completed"
    },
    "tags": []
   },
   "outputs": [
    {
     "name": "stdout",
     "output_type": "stream",
     "text": [
      "Epoch 1/10\n",
      "170/170 [==============================] - 121s 622ms/step - loss: 1.8914 - accuracy: 0.3249 - precision: 0.2458 - val_loss: 1.7009 - val_accuracy: 0.3953 - val_precision: 0.2454\n",
      "Epoch 2/10\n",
      "170/170 [==============================] - 113s 665ms/step - loss: 1.7957 - accuracy: 0.3546 - precision: 0.2341 - val_loss: 1.6840 - val_accuracy: 0.3953 - val_precision: 0.2107\n",
      "Epoch 3/10\n",
      "170/170 [==============================] - 113s 667ms/step - loss: 1.7792 - accuracy: 0.3601 - precision: 0.2210 - val_loss: 1.6782 - val_accuracy: 0.3953 - val_precision: 0.2107\n",
      "Epoch 4/10\n",
      "170/170 [==============================] - 113s 667ms/step - loss: 1.7826 - accuracy: 0.3579 - precision: 0.2122 - val_loss: 1.6768 - val_accuracy: 0.3953 - val_precision: 0.2107\n",
      "Epoch 5/10\n",
      "170/170 [==============================] - 113s 667ms/step - loss: 1.7847 - accuracy: 0.3579 - precision: 0.2076 - val_loss: 1.6775 - val_accuracy: 0.3953 - val_precision: 0.2107\n",
      "Epoch 6/10\n",
      "170/170 [==============================] - 104s 609ms/step - loss: 1.7922 - accuracy: 0.3564 - precision: 0.2039 - val_loss: 1.6784 - val_accuracy: 0.3953 - val_precision: 0.2107\n",
      "Epoch 7/10\n",
      "170/170 [==============================] - 113s 666ms/step - loss: 1.7974 - accuracy: 0.3554 - precision: 0.2006 - val_loss: 1.6794 - val_accuracy: 0.3953 - val_precision: 0.2107\n",
      "Epoch 7: early stopping\n"
     ]
    }
   ],
   "source": [
    "history = model.fit([train_input_ids,train_attention_masks,train_token_type_ids], train_labels,\n",
    "                    validation_data=([valid_input_ids,valid_attention_masks,valid_token_type_ids], valid_labels),\n",
    "                    epochs=10,\n",
    "                    batch_size=256,\n",
    "                    callbacks=[es])"
   ]
  },
  {
   "cell_type": "code",
   "execution_count": 46,
   "id": "c8c3b911",
   "metadata": {
    "execution": {
     "iopub.execute_input": "2023-07-12T11:01:59.494383Z",
     "iopub.status.busy": "2023-07-12T11:01:59.494023Z",
     "iopub.status.idle": "2023-07-12T11:02:24.327490Z",
     "shell.execute_reply": "2023-07-12T11:02:24.326611Z"
    },
    "papermill": {
     "duration": 24.959836,
     "end_time": "2023-07-12T11:02:24.329576",
     "exception": false,
     "start_time": "2023-07-12T11:01:59.369740",
     "status": "completed"
    },
    "tags": []
   },
   "outputs": [
    {
     "data": {
      "image/png": "[encoded data removed]",
      "text/plain": [
       "<Figure size 640x480 with 1 Axes>"
      ]
     },
     "metadata": {},
     "output_type": "display_data"
    }
   ],
   "source": [
    "# summarize history for accuracy\n",
    "plt.plot(history.history['accuracy'])\n",
    "plt.plot(history.history['val_accuracy'])\n",
    "plt.title('Model Accuracy')\n",
    "plt.ylabel('Accuracy')\n",
    "plt.xlabel('Epoch')\n",
    "plt.legend(['train', 'valid'], loc='upper left')\n",
    "plt.show()"
   ]
  },
  {
   "cell_type": "code",
   "execution_count": 47,
   "id": "e440b9a9",
   "metadata": {
    "execution": {
     "iopub.execute_input": "2023-07-12T11:02:24.574960Z",
     "iopub.status.busy": "2023-07-12T11:02:24.574121Z",
     "iopub.status.idle": "2023-07-12T11:02:24.850902Z",
     "shell.execute_reply": "2023-07-12T11:02:24.850008Z"
    },
    "papermill": {
     "duration": 0.401857,
     "end_time": "2023-07-12T11:02:24.853163",
     "exception": false,
     "start_time": "2023-07-12T11:02:24.451306",
     "status": "completed"
    },
    "tags": []
   },
   "outputs": [
    {
     "data": {
      "image/png": "[encoded data removed]",
      "text/plain": [
       "<Figure size 640x480 with 1 Axes>"
      ]
     },
     "metadata": {},
     "output_type": "display_data"
    }
   ],
   "source": [
    "# summarize history for loss\n",
    "plt.plot(history.history['loss'])\n",
    "plt.plot(history.history['val_loss'])\n",
    "plt.title('Model Loss')\n",
    "plt.ylabel('Loss')\n",
    "plt.xlabel('Epoch')\n",
    "plt.legend(['train', 'valid'], loc='upper left')\n",
    "plt.show()"
   ]
  },
  {
   "cell_type": "code",
   "execution_count": 48,
   "id": "4e0c220e",
   "metadata": {
    "execution": {
     "iopub.execute_input": "2023-07-12T11:02:25.101445Z",
     "iopub.status.busy": "2023-07-12T11:02:25.101099Z",
     "iopub.status.idle": "2023-07-12T11:02:25.381494Z",
     "shell.execute_reply": "2023-07-12T11:02:25.380597Z"
    },
    "papermill": {
     "duration": 0.405747,
     "end_time": "2023-07-12T11:02:25.383619",
     "exception": false,
     "start_time": "2023-07-12T11:02:24.977872",
     "status": "completed"
    },
    "tags": []
   },
   "outputs": [
    {
     "data": {
      "image/png": "[encoded data removed]",
      "text/plain": [
       "<Figure size 640x480 with 1 Axes>"
      ]
     },
     "metadata": {},
     "output_type": "display_data"
    }
   ],
   "source": [
    "plt.plot(history.history['precision'])\n",
    "plt.plot(history.history['val_precision'])\n",
    "plt.title('Model Precision')\n",
    "plt.ylabel('Precision')\n",
    "plt.xlabel('Epoch')\n",
    "plt.legend(['train', 'valid'], loc='upper left')\n",
    "plt.show()"
   ]
  },
  {
   "cell_type": "code",
   "execution_count": 49,
   "id": "e7b339ad",
   "metadata": {
    "execution": {
     "iopub.execute_input": "2023-07-12T11:02:25.629181Z",
     "iopub.status.busy": "2023-07-12T11:02:25.628855Z",
     "iopub.status.idle": "2023-07-12T11:02:42.436292Z",
     "shell.execute_reply": "2023-07-12T11:02:42.435282Z"
    },
    "papermill": {
     "duration": 16.932436,
     "end_time": "2023-07-12T11:02:42.439058",
     "exception": false,
     "start_time": "2023-07-12T11:02:25.506622",
     "status": "completed"
    },
    "tags": []
   },
   "outputs": [
    {
     "name": "stdout",
     "output_type": "stream",
     "text": [
      "170/170 [==============================] - 17s 80ms/step\n"
     ]
    }
   ],
   "source": [
    "pred_labels = model.predict([test_input_ids,test_attention_masks, test_token_type_ids])"
   ]
  },
  {
   "cell_type": "code",
   "execution_count": 50,
   "id": "fb0cbd33",
   "metadata": {
    "execution": {
     "iopub.execute_input": "2023-07-12T11:02:42.877840Z",
     "iopub.status.busy": "2023-07-12T11:02:42.877011Z",
     "iopub.status.idle": "2023-07-12T11:03:03.460174Z",
     "shell.execute_reply": "2023-07-12T11:03:03.459020Z"
    },
    "papermill": {
     "duration": 20.804118,
     "end_time": "2023-07-12T11:03:03.462948",
     "exception": false,
     "start_time": "2023-07-12T11:02:42.658830",
     "status": "completed"
    },
    "tags": []
   },
   "outputs": [
    {
     "name": "stdout",
     "output_type": "stream",
     "text": [
      "170/170 [==============================] - 14s 82ms/step - loss: 1.6969 - accuracy: 0.3785 - precision: 0.2091\n"
     ]
    },
    {
     "data": {
      "text/plain": [
       "[1.6969183683395386, 0.3784779906272888, 0.209065780043602]"
      ]
     },
     "execution_count": 50,
     "metadata": {},
     "output_type": "execute_result"
    }
   ],
   "source": [
    "model.evaluate([test_input_ids,test_attention_masks, test_token_type_ids], test_labels)"
   ]
  },
  {
   "cell_type": "code",
   "execution_count": 51,
   "id": "7fc3a162",
   "metadata": {
    "execution": {
     "iopub.execute_input": "2023-07-12T11:03:03.759934Z",
     "iopub.status.busy": "2023-07-12T11:03:03.759569Z",
     "iopub.status.idle": "2023-07-12T11:03:03.766577Z",
     "shell.execute_reply": "2023-07-12T11:03:03.765545Z"
    },
    "papermill": {
     "duration": 0.158206,
     "end_time": "2023-07-12T11:03:03.769714",
     "exception": false,
     "start_time": "2023-07-12T11:03:03.611508",
     "status": "completed"
    },
    "tags": []
   },
   "outputs": [
    {
     "data": {
      "text/plain": [
       "array([[0.8505402 , 0.37185892, 0.3036323 , 0.9454149 , 0.7562581 ,\n",
       "        0.84103066, 0.9318756 ],\n",
       "       [0.85040593, 0.37527293, 0.30570582, 0.94323885, 0.7514624 ,\n",
       "        0.8396688 , 0.9329475 ],\n",
       "       [0.8525762 , 0.3681623 , 0.30430627, 0.9464734 , 0.7525598 ,\n",
       "        0.84196496, 0.93679464],\n",
       "       [0.85068   , 0.37916344, 0.3054055 , 0.94568306, 0.7533994 ,\n",
       "        0.8413771 , 0.93280274],\n",
       "       [0.85104626, 0.36853617, 0.30651125, 0.94353145, 0.74893445,\n",
       "        0.8368127 , 0.93474716]], dtype=float32)"
      ]
     },
     "execution_count": 51,
     "metadata": {},
     "output_type": "execute_result"
    }
   ],
   "source": [
    "pred_labels[:5]"
   ]
  },
  {
   "cell_type": "code",
   "execution_count": 52,
   "id": "4e05a557",
   "metadata": {
    "execution": {
     "iopub.execute_input": "2023-07-12T11:03:04.071676Z",
     "iopub.status.busy": "2023-07-12T11:03:04.071339Z",
     "iopub.status.idle": "2023-07-12T11:03:04.076131Z",
     "shell.execute_reply": "2023-07-12T11:03:04.075150Z"
    },
    "papermill": {
     "duration": 0.157639,
     "end_time": "2023-07-12T11:03:04.078180",
     "exception": false,
     "start_time": "2023-07-12T11:03:03.920541",
     "status": "completed"
    },
    "tags": []
   },
   "outputs": [],
   "source": [
    "def prob(x):\n",
    "    if x>0.5:\n",
    "        return 1\n",
    "    return 0"
   ]
  },
  {
   "cell_type": "code",
   "execution_count": 53,
   "id": "4094f565",
   "metadata": {
    "execution": {
     "iopub.execute_input": "2023-07-12T11:03:04.377850Z",
     "iopub.status.busy": "2023-07-12T11:03:04.377361Z",
     "iopub.status.idle": "2023-07-12T11:03:04.499112Z",
     "shell.execute_reply": "2023-07-12T11:03:04.498130Z"
    },
    "papermill": {
     "duration": 0.273041,
     "end_time": "2023-07-12T11:03:04.501272",
     "exception": false,
     "start_time": "2023-07-12T11:03:04.228231",
     "status": "completed"
    },
    "tags": []
   },
   "outputs": [],
   "source": [
    "pred_labels = [list(map(prob,i)) for i in pred_labels]"
   ]
  },
  {
   "cell_type": "code",
   "execution_count": 54,
   "id": "e171009b",
   "metadata": {
    "execution": {
     "iopub.execute_input": "2023-07-12T11:03:04.871086Z",
     "iopub.status.busy": "2023-07-12T11:03:04.870693Z",
     "iopub.status.idle": "2023-07-12T11:03:05.625944Z",
     "shell.execute_reply": "2023-07-12T11:03:05.624594Z"
    },
    "papermill": {
     "duration": 0.917799,
     "end_time": "2023-07-12T11:03:05.628183",
     "exception": false,
     "start_time": "2023-07-12T11:03:04.710384",
     "status": "completed"
    },
    "tags": []
   },
   "outputs": [
    {
     "name": "stdout",
     "output_type": "stream",
     "text": [
      "The Label Ranking Average Precision Score for the Test Set:  0.772857932559471\n"
     ]
    }
   ],
   "source": [
    "from sklearn.metrics import label_ranking_average_precision_score\n",
    "lrap = label_ranking_average_precision_score(pred_labels, test_labels)\n",
    "print(\"The Label Ranking Average Precision Score for the Test Set: \", lrap)"
   ]
  },
  {
   "cell_type": "code",
   "execution_count": 55,
   "id": "f65cf8df",
   "metadata": {
    "execution": {
     "iopub.execute_input": "2023-07-12T11:03:05.959991Z",
     "iopub.status.busy": "2023-07-12T11:03:05.958516Z",
     "iopub.status.idle": "2023-07-12T11:03:06.042228Z",
     "shell.execute_reply": "2023-07-12T11:03:06.040977Z"
    },
    "papermill": {
     "duration": 0.243322,
     "end_time": "2023-07-12T11:03:06.047375",
     "exception": false,
     "start_time": "2023-07-12T11:03:05.804053",
     "status": "completed"
    },
    "tags": []
   },
   "outputs": [
    {
     "name": "stdout",
     "output_type": "stream",
     "text": [
      "              precision    recall  f1-score   support\n",
      "\n",
      "       anger       0.13      1.00      0.24       726\n",
      "     disgust       0.00      0.00      0.00       123\n",
      "        fear       0.00      0.00      0.00        98\n",
      "         joy       0.39      1.00      0.56      2104\n",
      "     sadness       0.07      1.00      0.13       379\n",
      "    surprise       0.12      1.00      0.22       677\n",
      "     neutral       0.33      1.00      0.50      1787\n",
      "\n",
      "   micro avg       0.21      0.96      0.34      5894\n",
      "   macro avg       0.15      0.71      0.23      5894\n",
      "weighted avg       0.27      0.96      0.41      5894\n",
      " samples avg       0.21      0.97      0.34      5894\n",
      "\n"
     ]
    }
   ],
   "source": [
    "from sklearn.metrics import classification_report\n",
    "target_names = train_data.columns[1:]\n",
    "print(classification_report(test_labels, pred_labels, target_names=target_names))"
   ]
  },
  {
   "cell_type": "markdown",
   "id": "013a6653",
   "metadata": {
    "papermill": {
     "duration": 0.148304,
     "end_time": "2023-07-12T11:03:06.348013",
     "exception": false,
     "start_time": "2023-07-12T11:03:06.199709",
     "status": "completed"
    },
    "tags": []
   },
   "source": [
    "# Model_2 (RoBERTa with Unfreezed Layers)"
   ]
  },
  {
   "cell_type": "code",
   "execution_count": 56,
   "id": "ad4d966e",
   "metadata": {
    "execution": {
     "iopub.execute_input": "2023-07-12T11:03:06.645670Z",
     "iopub.status.busy": "2023-07-12T11:03:06.645304Z",
     "iopub.status.idle": "2023-07-12T11:03:06.649842Z",
     "shell.execute_reply": "2023-07-12T11:03:06.648889Z"
    },
    "papermill": {
     "duration": 0.155932,
     "end_time": "2023-07-12T11:03:06.652059",
     "exception": false,
     "start_time": "2023-07-12T11:03:06.496127",
     "status": "completed"
    },
    "tags": []
   },
   "outputs": [],
   "source": [
    "es_2 = EarlyStopping(monitor='val_loss', mode='min', verbose=1, patience=3)"
   ]
  },
  {
   "cell_type": "code",
   "execution_count": 57,
   "id": "3bf951fc",
   "metadata": {
    "execution": {
     "iopub.execute_input": "2023-07-12T11:03:06.949905Z",
     "iopub.status.busy": "2023-07-12T11:03:06.949523Z",
     "iopub.status.idle": "2023-07-12T11:03:09.293823Z",
     "shell.execute_reply": "2023-07-12T11:03:09.292954Z"
    },
    "papermill": {
     "duration": 2.495641,
     "end_time": "2023-07-12T11:03:09.295803",
     "exception": false,
     "start_time": "2023-07-12T11:03:06.800162",
     "status": "completed"
    },
    "tags": []
   },
   "outputs": [
    {
     "name": "stderr",
     "output_type": "stream",
     "text": [
      "Some weights of the PyTorch model were not used when initializing the TF 2.0 model TFRobertaModel: ['roberta.embeddings.position_ids', 'lm_head.layer_norm.bias', 'lm_head.layer_norm.weight', 'lm_head.dense.bias', 'lm_head.bias', 'lm_head.dense.weight']\n",
      "- This IS expected if you are initializing TFRobertaModel from a PyTorch model trained on another task or with another architecture (e.g. initializing a TFBertForSequenceClassification model from a BertForPreTraining model).\n",
      "- This IS NOT expected if you are initializing TFRobertaModel from a PyTorch model that you expect to be exactly identical (e.g. initializing a TFBertForSequenceClassification model from a BertForSequenceClassification model).\n",
      "Some weights or buffers of the TF 2.0 model TFRobertaModel were not initialized from the PyTorch model and are newly initialized: ['roberta.pooler.dense.weight', 'roberta.pooler.dense.bias']\n",
      "You should probably TRAIN this model on a down-stream task to be able to use it for predictions and inference.\n"
     ]
    }
   ],
   "source": [
    "roberta_model = TFRobertaModel.from_pretrained('roberta-base')\n",
    "roberta_model.trainable = True"
   ]
  },
  {
   "cell_type": "code",
   "execution_count": 58,
   "id": "a69793a6",
   "metadata": {
    "execution": {
     "iopub.execute_input": "2023-07-12T11:03:09.595086Z",
     "iopub.status.busy": "2023-07-12T11:03:09.594725Z",
     "iopub.status.idle": "2023-07-12T11:03:12.011309Z",
     "shell.execute_reply": "2023-07-12T11:03:12.010347Z"
    },
    "papermill": {
     "duration": 2.571525,
     "end_time": "2023-07-12T11:03:12.016831",
     "exception": false,
     "start_time": "2023-07-12T11:03:09.445306",
     "status": "completed"
    },
    "tags": []
   },
   "outputs": [
    {
     "name": "stdout",
     "output_type": "stream",
     "text": [
      "Model: \"model_1\"\n",
      "__________________________________________________________________________________________________\n",
      " Layer (type)                   Output Shape         Param #     Connected to                     \n",
      "==================================================================================================\n",
      " input_4 (InputLayer)           [(None, 33)]         0           []                               \n",
      "                                                                                                  \n",
      " input_5 (InputLayer)           [(None, 33)]         0           []                               \n",
      "                                                                                                  \n",
      " input_6 (InputLayer)           [(None, 33)]         0           []                               \n",
      "                                                                                                  \n",
      " tf_roberta_model_1 (TFRobertaM  TFBaseModelOutputWi  124645632  ['input_4[0][0]',                \n",
      " odel)                          thPoolingAndCrossAt               'input_5[0][0]',                \n",
      "                                tentions(last_hidde               'input_6[0][0]']                \n",
      "                                n_state=(None, 33,                                                \n",
      "                                768),                                                             \n",
      "                                 pooler_output=(Non                                               \n",
      "                                e, 768),                                                          \n",
      "                                 past_key_values=No                                               \n",
      "                                ne, hidden_states=N                                               \n",
      "                                one, attentions=Non                                               \n",
      "                                e, cross_attentions                                               \n",
      "                                =None)                                                            \n",
      "                                                                                                  \n",
      " dense_2 (Dense)                (None, 256)          196864      ['tf_roberta_model_1[0][1]']     \n",
      "                                                                                                  \n",
      " dropout_75 (Dropout)           (None, 256)          0           ['dense_2[0][0]']                \n",
      "                                                                                                  \n",
      " dense_3 (Dense)                (None, 7)            1799        ['dropout_75[0][0]']             \n",
      "                                                                                                  \n",
      "==================================================================================================\n",
      "Total params: 124,844,295\n",
      "Trainable params: 124,844,295\n",
      "Non-trainable params: 0\n",
      "__________________________________________________________________________________________________\n"
     ]
    }
   ],
   "source": [
    "model_2 = create_model(roberta_model, max_len)\n",
    "model_2.summary()"
   ]
  },
  {
   "cell_type": "code",
   "execution_count": 59,
   "id": "adb2ccf7",
   "metadata": {
    "execution": {
     "iopub.execute_input": "2023-07-12T11:03:12.325631Z",
     "iopub.status.busy": "2023-07-12T11:03:12.325273Z",
     "iopub.status.idle": "2023-07-12T11:27:24.192862Z",
     "shell.execute_reply": "2023-07-12T11:27:24.191883Z"
    },
    "papermill": {
     "duration": 1452.238966,
     "end_time": "2023-07-12T11:27:24.412410",
     "exception": false,
     "start_time": "2023-07-12T11:03:12.173444",
     "status": "completed"
    },
    "tags": []
   },
   "outputs": [
    {
     "name": "stdout",
     "output_type": "stream",
     "text": [
      "Epoch 1/10\n",
      "170/170 [==============================] - 332s 2s/step - loss: 1.4906 - accuracy: 0.5301 - precision: 0.2052 - val_loss: 1.2054 - val_accuracy: 0.6452 - val_precision: 0.1917\n",
      "Epoch 2/10\n",
      "170/170 [==============================] - 280s 2s/step - loss: 1.3435 - accuracy: 0.6097 - precision: 0.1863 - val_loss: 1.1510 - val_accuracy: 0.6598 - val_precision: 0.1831\n",
      "Epoch 3/10\n",
      "170/170 [==============================] - 280s 2s/step - loss: 1.3759 - accuracy: 0.6195 - precision: 0.1816 - val_loss: 1.2042 - val_accuracy: 0.6677 - val_precision: 0.1786\n",
      "Epoch 4/10\n",
      "170/170 [==============================] - 280s 2s/step - loss: 1.4242 - accuracy: 0.6051 - precision: 0.1793 - val_loss: 1.3094 - val_accuracy: 0.6683 - val_precision: 0.1736\n",
      "Epoch 5/10\n",
      "170/170 [==============================] - 280s 2s/step - loss: 1.4867 - accuracy: 0.5423 - precision: 0.1762 - val_loss: 1.4494 - val_accuracy: 0.6111 - val_precision: 0.1664\n",
      "Epoch 5: early stopping\n"
     ]
    }
   ],
   "source": [
    "history_2 = model_2.fit([train_input_ids,train_attention_masks,train_token_type_ids], train_labels,\n",
    "                    validation_data=([valid_input_ids,valid_attention_masks,valid_token_type_ids], valid_labels),\n",
    "                    epochs=10,\n",
    "                    batch_size=256,\n",
    "                    callbacks=[es_2])"
   ]
  },
  {
   "cell_type": "code",
   "execution_count": 60,
   "id": "f6016543",
   "metadata": {
    "execution": {
     "iopub.execute_input": "2023-07-12T11:27:24.849042Z",
     "iopub.status.busy": "2023-07-12T11:27:24.848651Z",
     "iopub.status.idle": "2023-07-12T11:28:02.033486Z",
     "shell.execute_reply": "2023-07-12T11:28:02.032595Z"
    },
    "papermill": {
     "duration": 37.632388,
     "end_time": "2023-07-12T11:28:02.259819",
     "exception": false,
     "start_time": "2023-07-12T11:27:24.627431",
     "status": "completed"
    },
    "tags": []
   },
   "outputs": [
    {
     "data": {
      "image/png": "[encoded data removed]",
      "text/plain": [
       "<Figure size 640x480 with 1 Axes>"
      ]
     },
     "metadata": {},
     "output_type": "display_data"
    }
   ],
   "source": [
    "# summarize history for accuracy\n",
    "plt.plot(history_2.history['accuracy'])\n",
    "plt.plot(history_2.history['val_accuracy'])\n",
    "plt.title('Model Accuracy')\n",
    "plt.ylabel('Accuracy')\n",
    "plt.xlabel('Epoch')\n",
    "plt.legend(['train', 'valid'], loc='upper left')\n",
    "plt.show()"
   ]
  },
  {
   "cell_type": "code",
   "execution_count": 61,
   "id": "e5c6caee",
   "metadata": {
    "execution": {
     "iopub.execute_input": "2023-07-12T11:28:02.732028Z",
     "iopub.status.busy": "2023-07-12T11:28:02.731573Z",
     "iopub.status.idle": "2023-07-12T11:28:03.054553Z",
     "shell.execute_reply": "2023-07-12T11:28:03.053631Z"
    },
    "papermill": {
     "duration": 0.554925,
     "end_time": "2023-07-12T11:28:03.056613",
     "exception": false,
     "start_time": "2023-07-12T11:28:02.501688",
     "status": "completed"
    },
    "tags": []
   },
   "outputs": [
    {
     "data": {
      "image/png": "[encoded data removed]",
      "text/plain": [
       "<Figure size 640x480 with 1 Axes>"
      ]
     },
     "metadata": {},
     "output_type": "display_data"
    }
   ],
   "source": [
    "# summarize history for loss\n",
    "plt.plot(history_2.history['loss'])\n",
    "plt.plot(history_2.history['val_loss'])\n",
    "plt.title('Model Loss')\n",
    "plt.ylabel('Loss')\n",
    "plt.xlabel('Epoch')\n",
    "plt.legend(['train', 'valid'], loc='upper left')\n",
    "plt.show()"
   ]
  },
  {
   "cell_type": "code",
   "execution_count": 62,
   "id": "91fe9966",
   "metadata": {
    "execution": {
     "iopub.execute_input": "2023-07-12T11:28:03.498333Z",
     "iopub.status.busy": "2023-07-12T11:28:03.497219Z",
     "iopub.status.idle": "2023-07-12T11:28:03.818634Z",
     "shell.execute_reply": "2023-07-12T11:28:03.817645Z"
    },
    "papermill": {
     "duration": 0.543604,
     "end_time": "2023-07-12T11:28:03.820729",
     "exception": false,
     "start_time": "2023-07-12T11:28:03.277125",
     "status": "completed"
    },
    "tags": []
   },
   "outputs": [
    {
     "data": {
      "image/png": "[encoded data removed]",
      "text/plain": [
       "<Figure size 640x480 with 1 Axes>"
      ]
     },
     "metadata": {},
     "output_type": "display_data"
    }
   ],
   "source": [
    "plt.plot(history_2.history['precision'])\n",
    "plt.plot(history_2.history['val_precision'])\n",
    "plt.title('Model Precision')\n",
    "plt.ylabel('Precision')\n",
    "plt.xlabel('Epoch')\n",
    "plt.legend(['train', 'valid'], loc='upper left')\n",
    "plt.show()"
   ]
  },
  {
   "cell_type": "code",
   "execution_count": 63,
   "id": "3a66ca5c",
   "metadata": {
    "execution": {
     "iopub.execute_input": "2023-07-12T11:28:04.268571Z",
     "iopub.status.busy": "2023-07-12T11:28:04.268212Z",
     "iopub.status.idle": "2023-07-12T11:28:28.736518Z",
     "shell.execute_reply": "2023-07-12T11:28:28.735466Z"
    },
    "papermill": {
     "duration": 24.698223,
     "end_time": "2023-07-12T11:28:28.739056",
     "exception": false,
     "start_time": "2023-07-12T11:28:04.040833",
     "status": "completed"
    },
    "tags": []
   },
   "outputs": [
    {
     "name": "stdout",
     "output_type": "stream",
     "text": [
      "170/170 [==============================] - 18s 80ms/step\n"
     ]
    }
   ],
   "source": [
    "pred_labels_2 = model_2.predict([test_input_ids,test_attention_masks, test_token_type_ids])"
   ]
  },
  {
   "cell_type": "code",
   "execution_count": 64,
   "id": "894de8de",
   "metadata": {
    "execution": {
     "iopub.execute_input": "2023-07-12T11:28:29.252271Z",
     "iopub.status.busy": "2023-07-12T11:28:29.251866Z",
     "iopub.status.idle": "2023-07-12T11:28:29.259475Z",
     "shell.execute_reply": "2023-07-12T11:28:29.258410Z"
    },
    "papermill": {
     "duration": 0.293235,
     "end_time": "2023-07-12T11:28:29.262879",
     "exception": false,
     "start_time": "2023-07-12T11:28:28.969644",
     "status": "completed"
    },
    "tags": []
   },
   "outputs": [
    {
     "data": {
      "text/plain": [
       "array([[0.9999939 , 0.88740534, 0.9938433 , 1.        , 1.        ,\n",
       "        0.9999995 , 0.9999989 ],\n",
       "       [0.9999845 , 0.999726  , 0.9992594 , 0.9999982 , 0.9996971 ,\n",
       "        0.9998124 , 0.99860245],\n",
       "       [0.99999964, 0.52925086, 0.97386634, 1.        , 0.9998599 ,\n",
       "        1.        , 1.        ],\n",
       "       [0.9999995 , 0.69783676, 0.98826283, 1.        , 0.99997056,\n",
       "        1.        , 1.        ],\n",
       "       [0.9999428 , 0.87729585, 0.7852316 , 0.99981374, 0.99998665,\n",
       "        0.9998497 , 0.9999876 ]], dtype=float32)"
      ]
     },
     "execution_count": 64,
     "metadata": {},
     "output_type": "execute_result"
    }
   ],
   "source": [
    "pred_labels_2[:5]"
   ]
  },
  {
   "cell_type": "code",
   "execution_count": 65,
   "id": "c1d348a6",
   "metadata": {
    "execution": {
     "iopub.execute_input": "2023-07-12T11:28:29.730069Z",
     "iopub.status.busy": "2023-07-12T11:28:29.729687Z",
     "iopub.status.idle": "2023-07-12T11:28:50.281642Z",
     "shell.execute_reply": "2023-07-12T11:28:50.280710Z"
    },
    "papermill": {
     "duration": 20.78522,
     "end_time": "2023-07-12T11:28:50.283760",
     "exception": false,
     "start_time": "2023-07-12T11:28:29.498540",
     "status": "completed"
    },
    "tags": []
   },
   "outputs": [
    {
     "name": "stdout",
     "output_type": "stream",
     "text": [
      "170/170 [==============================] - 14s 84ms/step - loss: 1.4055 - accuracy: 0.6000 - precision: 0.1656\n"
     ]
    },
    {
     "data": {
      "text/plain": [
       "[1.4054831266403198, 0.5999631285667419, 0.16561226546764374]"
      ]
     },
     "execution_count": 65,
     "metadata": {},
     "output_type": "execute_result"
    }
   ],
   "source": [
    "model_2.evaluate([test_input_ids,test_attention_masks, test_token_type_ids], test_labels)"
   ]
  },
  {
   "cell_type": "code",
   "execution_count": 66,
   "id": "41ebc330",
   "metadata": {
    "execution": {
     "iopub.execute_input": "2023-07-12T11:28:50.778352Z",
     "iopub.status.busy": "2023-07-12T11:28:50.777997Z",
     "iopub.status.idle": "2023-07-12T11:28:50.896746Z",
     "shell.execute_reply": "2023-07-12T11:28:50.895832Z"
    },
    "papermill": {
     "duration": 0.365547,
     "end_time": "2023-07-12T11:28:50.898913",
     "exception": false,
     "start_time": "2023-07-12T11:28:50.533366",
     "status": "completed"
    },
    "tags": []
   },
   "outputs": [],
   "source": [
    "pred_labels_2 = [list(map(prob,i)) for i in pred_labels_2]"
   ]
  },
  {
   "cell_type": "code",
   "execution_count": 67,
   "id": "da48d00a",
   "metadata": {
    "execution": {
     "iopub.execute_input": "2023-07-12T11:28:51.405041Z",
     "iopub.status.busy": "2023-07-12T11:28:51.403756Z",
     "iopub.status.idle": "2023-07-12T11:28:51.738188Z",
     "shell.execute_reply": "2023-07-12T11:28:51.736776Z"
    },
    "papermill": {
     "duration": 0.583204,
     "end_time": "2023-07-12T11:28:51.740805",
     "exception": false,
     "start_time": "2023-07-12T11:28:51.157601",
     "status": "completed"
    },
    "tags": []
   },
   "outputs": [
    {
     "name": "stdout",
     "output_type": "stream",
     "text": [
      "The Label Ranking Average Precision Score for the Test Set:  0.9476964091944468\n"
     ]
    }
   ],
   "source": [
    "lrap = label_ranking_average_precision_score(pred_labels_2, test_labels)\n",
    "print(\"The Label Ranking Average Precision Score for the Test Set: \", lrap)"
   ]
  },
  {
   "cell_type": "code",
   "execution_count": 68,
   "id": "72dadd1e",
   "metadata": {
    "execution": {
     "iopub.execute_input": "2023-07-12T11:28:52.254786Z",
     "iopub.status.busy": "2023-07-12T11:28:52.254414Z",
     "iopub.status.idle": "2023-07-12T11:28:52.300890Z",
     "shell.execute_reply": "2023-07-12T11:28:52.299740Z"
    },
    "papermill": {
     "duration": 0.299686,
     "end_time": "2023-07-12T11:28:52.302963",
     "exception": false,
     "start_time": "2023-07-12T11:28:52.003277",
     "status": "completed"
    },
    "tags": []
   },
   "outputs": [
    {
     "name": "stdout",
     "output_type": "stream",
     "text": [
      "              precision    recall  f1-score   support\n",
      "\n",
      "       anger       0.13      1.00      0.24       726\n",
      "     disgust       0.04      0.97      0.07       123\n",
      "        fear       0.02      1.00      0.04        98\n",
      "         joy       0.39      1.00      0.56      2104\n",
      "     sadness       0.07      1.00      0.13       379\n",
      "    surprise       0.12      1.00      0.22       677\n",
      "     neutral       0.33      1.00      0.50      1787\n",
      "\n",
      "   micro avg       0.17      1.00      0.28      5894\n",
      "   macro avg       0.16      1.00      0.25      5894\n",
      "weighted avg       0.27      1.00      0.41      5894\n",
      " samples avg       0.17      1.00      0.28      5894\n",
      "\n"
     ]
    }
   ],
   "source": [
    "print(classification_report(test_labels, pred_labels_2, target_names=train_data.columns[1:]))"
   ]
  },
  {
   "cell_type": "markdown",
   "id": "0829b009",
   "metadata": {
    "papermill": {
     "duration": 0.296633,
     "end_time": "2023-07-12T11:28:52.856245",
     "exception": false,
     "start_time": "2023-07-12T11:28:52.559612",
     "status": "completed"
    },
    "tags": []
   },
   "source": [
    "# Model_3 (Dropping Neutral and disgust)"
   ]
  },
  {
   "cell_type": "code",
   "execution_count": 69,
   "id": "67540869",
   "metadata": {
    "execution": {
     "iopub.execute_input": "2023-07-12T11:28:53.354146Z",
     "iopub.status.busy": "2023-07-12T11:28:53.353791Z",
     "iopub.status.idle": "2023-07-12T11:28:53.365706Z",
     "shell.execute_reply": "2023-07-12T11:28:53.364346Z"
    },
    "papermill": {
     "duration": 0.263182,
     "end_time": "2023-07-12T11:28:53.369248",
     "exception": false,
     "start_time": "2023-07-12T11:28:53.106066",
     "status": "completed"
    },
    "tags": []
   },
   "outputs": [
    {
     "data": {
      "text/html": [
       "<div>\n",
       "<style scoped>\n",
       "    .dataframe tbody tr th:only-of-type {\n",
       "        vertical-align: middle;\n",
       "    }\n",
       "\n",
       "    .dataframe tbody tr th {\n",
       "        vertical-align: top;\n",
       "    }\n",
       "\n",
       "    .dataframe thead th {\n",
       "        text-align: right;\n",
       "    }\n",
       "</style>\n",
       "<table border=\"1\" class=\"dataframe\">\n",
       "  <thead>\n",
       "    <tr style=\"text-align: right;\">\n",
       "      <th></th>\n",
       "      <th>Text</th>\n",
       "      <th>anger</th>\n",
       "      <th>disgust</th>\n",
       "      <th>fear</th>\n",
       "      <th>joy</th>\n",
       "      <th>sadness</th>\n",
       "      <th>surprise</th>\n",
       "      <th>neutral</th>\n",
       "    </tr>\n",
       "  </thead>\n",
       "  <tbody>\n",
       "    <tr>\n",
       "      <th>0</th>\n",
       "      <td>my favourite food anything i cook</td>\n",
       "      <td>0</td>\n",
       "      <td>0</td>\n",
       "      <td>0</td>\n",
       "      <td>0</td>\n",
       "      <td>0</td>\n",
       "      <td>0</td>\n",
       "      <td>1</td>\n",
       "    </tr>\n",
       "    <tr>\n",
       "      <th>1</th>\n",
       "      <td>now everyone think he laugh screwing people in...</td>\n",
       "      <td>0</td>\n",
       "      <td>0</td>\n",
       "      <td>0</td>\n",
       "      <td>0</td>\n",
       "      <td>0</td>\n",
       "      <td>0</td>\n",
       "      <td>1</td>\n",
       "    </tr>\n",
       "    <tr>\n",
       "      <th>2</th>\n",
       "      <td>why the fuck is bayless isoing</td>\n",
       "      <td>1</td>\n",
       "      <td>0</td>\n",
       "      <td>0</td>\n",
       "      <td>0</td>\n",
       "      <td>0</td>\n",
       "      <td>0</td>\n",
       "      <td>0</td>\n",
       "    </tr>\n",
       "    <tr>\n",
       "      <th>3</th>\n",
       "      <td>to make feel threatened</td>\n",
       "      <td>0</td>\n",
       "      <td>0</td>\n",
       "      <td>1</td>\n",
       "      <td>0</td>\n",
       "      <td>0</td>\n",
       "      <td>0</td>\n",
       "      <td>0</td>\n",
       "    </tr>\n",
       "    <tr>\n",
       "      <th>4</th>\n",
       "      <td>dirty southern wanker</td>\n",
       "      <td>1</td>\n",
       "      <td>0</td>\n",
       "      <td>0</td>\n",
       "      <td>0</td>\n",
       "      <td>0</td>\n",
       "      <td>0</td>\n",
       "      <td>0</td>\n",
       "    </tr>\n",
       "  </tbody>\n",
       "</table>\n",
       "</div>"
      ],
      "text/plain": [
       "                                                Text  anger  disgust  fear  \\\n",
       "0                  my favourite food anything i cook      0        0     0   \n",
       "1  now everyone think he laugh screwing people in...      0        0     0   \n",
       "2                     why the fuck is bayless isoing      1        0     0   \n",
       "3                            to make feel threatened      0        0     1   \n",
       "4                              dirty southern wanker      1        0     0   \n",
       "\n",
       "   joy  sadness  surprise  neutral  \n",
       "0    0        0         0        1  \n",
       "1    0        0         0        1  \n",
       "2    0        0         0        0  \n",
       "3    0        0         0        0  \n",
       "4    0        0         0        0  "
      ]
     },
     "execution_count": 69,
     "metadata": {},
     "output_type": "execute_result"
    }
   ],
   "source": [
    "train_data.head()"
   ]
  },
  {
   "cell_type": "code",
   "execution_count": 70,
   "id": "fe3a72bf",
   "metadata": {
    "execution": {
     "iopub.execute_input": "2023-07-12T11:28:53.883807Z",
     "iopub.status.busy": "2023-07-12T11:28:53.883437Z",
     "iopub.status.idle": "2023-07-12T11:28:53.909866Z",
     "shell.execute_reply": "2023-07-12T11:28:53.908940Z"
    },
    "papermill": {
     "duration": 0.278987,
     "end_time": "2023-07-12T11:28:53.912189",
     "exception": false,
     "start_time": "2023-07-12T11:28:53.633202",
     "status": "completed"
    },
    "tags": []
   },
   "outputs": [],
   "source": [
    "train_data_new = train_data.drop(train_data[train_data['neutral'] == 1].index)\n",
    "valid_data_new = valid_data.drop(valid_data[valid_data['neutral'] == 1].index)\n",
    "test_data_new = test_data.drop(test_data[test_data['neutral'] == 1].index)\n",
    "\n",
    "train_data_new = train_data_new.drop(train_data_new[train_data_new['disgust'] == 1].index)\n",
    "valid_data_new = valid_data_new.drop(valid_data_new[valid_data_new['disgust'] == 1].index)\n",
    "test_data_new = test_data_new.drop(test_data_new[test_data_new['disgust'] == 1].index)\n",
    "\n",
    "train_data_new = train_data_new.drop(['neutral', 'disgust'], axis=1)\n",
    "valid_data_new = valid_data_new.drop(['neutral', 'disgust'], axis=1)\n",
    "test_data_new = test_data_new.drop(['neutral', 'disgust'], axis=1)"
   ]
  },
  {
   "cell_type": "code",
   "execution_count": 71,
   "id": "385caad0",
   "metadata": {
    "execution": {
     "iopub.execute_input": "2023-07-12T11:28:54.411446Z",
     "iopub.status.busy": "2023-07-12T11:28:54.410420Z",
     "iopub.status.idle": "2023-07-12T11:28:54.424964Z",
     "shell.execute_reply": "2023-07-12T11:28:54.422923Z"
    },
    "papermill": {
     "duration": 0.265275,
     "end_time": "2023-07-12T11:28:54.427202",
     "exception": false,
     "start_time": "2023-07-12T11:28:54.161927",
     "status": "completed"
    },
    "tags": []
   },
   "outputs": [
    {
     "data": {
      "text/html": [
       "<div>\n",
       "<style scoped>\n",
       "    .dataframe tbody tr th:only-of-type {\n",
       "        vertical-align: middle;\n",
       "    }\n",
       "\n",
       "    .dataframe tbody tr th {\n",
       "        vertical-align: top;\n",
       "    }\n",
       "\n",
       "    .dataframe thead th {\n",
       "        text-align: right;\n",
       "    }\n",
       "</style>\n",
       "<table border=\"1\" class=\"dataframe\">\n",
       "  <thead>\n",
       "    <tr style=\"text-align: right;\">\n",
       "      <th></th>\n",
       "      <th>Text</th>\n",
       "      <th>anger</th>\n",
       "      <th>fear</th>\n",
       "      <th>joy</th>\n",
       "      <th>sadness</th>\n",
       "      <th>surprise</th>\n",
       "    </tr>\n",
       "  </thead>\n",
       "  <tbody>\n",
       "    <tr>\n",
       "      <th>2</th>\n",
       "      <td>why the fuck is bayless isoing</td>\n",
       "      <td>1</td>\n",
       "      <td>0</td>\n",
       "      <td>0</td>\n",
       "      <td>0</td>\n",
       "      <td>0</td>\n",
       "    </tr>\n",
       "    <tr>\n",
       "      <th>3</th>\n",
       "      <td>to make feel threatened</td>\n",
       "      <td>0</td>\n",
       "      <td>1</td>\n",
       "      <td>0</td>\n",
       "      <td>0</td>\n",
       "      <td>0</td>\n",
       "    </tr>\n",
       "    <tr>\n",
       "      <th>4</th>\n",
       "      <td>dirty southern wanker</td>\n",
       "      <td>1</td>\n",
       "      <td>0</td>\n",
       "      <td>0</td>\n",
       "      <td>0</td>\n",
       "      <td>0</td>\n",
       "    </tr>\n",
       "    <tr>\n",
       "      <th>5</th>\n",
       "      <td>omg peyton isn t good enough to help u in the ...</td>\n",
       "      <td>0</td>\n",
       "      <td>0</td>\n",
       "      <td>0</td>\n",
       "      <td>0</td>\n",
       "      <td>1</td>\n",
       "    </tr>\n",
       "    <tr>\n",
       "      <th>6</th>\n",
       "      <td>yes i heard about f bomb that thanks reply hub...</td>\n",
       "      <td>0</td>\n",
       "      <td>0</td>\n",
       "      <td>1</td>\n",
       "      <td>0</td>\n",
       "      <td>0</td>\n",
       "    </tr>\n",
       "  </tbody>\n",
       "</table>\n",
       "</div>"
      ],
      "text/plain": [
       "                                                Text  anger  fear  joy  \\\n",
       "2                     why the fuck is bayless isoing      1     0    0   \n",
       "3                            to make feel threatened      0     1    0   \n",
       "4                              dirty southern wanker      1     0    0   \n",
       "5  omg peyton isn t good enough to help u in the ...      0     0    0   \n",
       "6  yes i heard about f bomb that thanks reply hub...      0     0    1   \n",
       "\n",
       "   sadness  surprise  \n",
       "2        0         0  \n",
       "3        0         0  \n",
       "4        0         0  \n",
       "5        0         1  \n",
       "6        0         0  "
      ]
     },
     "execution_count": 71,
     "metadata": {},
     "output_type": "execute_result"
    }
   ],
   "source": [
    "train_data_new.head()"
   ]
  },
  {
   "cell_type": "code",
   "execution_count": 72,
   "id": "50ee5dc1",
   "metadata": {
    "execution": {
     "iopub.execute_input": "2023-07-12T11:28:54.926086Z",
     "iopub.status.busy": "2023-07-12T11:28:54.925337Z",
     "iopub.status.idle": "2023-07-12T11:28:54.931288Z",
     "shell.execute_reply": "2023-07-12T11:28:54.930430Z"
    },
    "papermill": {
     "duration": 0.256085,
     "end_time": "2023-07-12T11:28:54.933157",
     "exception": false,
     "start_time": "2023-07-12T11:28:54.677072",
     "status": "completed"
    },
    "tags": []
   },
   "outputs": [
    {
     "data": {
      "text/plain": [
       "(28427, 6)"
      ]
     },
     "execution_count": 72,
     "metadata": {},
     "output_type": "execute_result"
    }
   ],
   "source": [
    "train_data_new.shape"
   ]
  },
  {
   "cell_type": "code",
   "execution_count": 73,
   "id": "620f3b24",
   "metadata": {
    "execution": {
     "iopub.execute_input": "2023-07-12T11:28:55.440455Z",
     "iopub.status.busy": "2023-07-12T11:28:55.440068Z",
     "iopub.status.idle": "2023-07-12T11:28:55.448626Z",
     "shell.execute_reply": "2023-07-12T11:28:55.447734Z"
    },
    "papermill": {
     "duration": 0.263499,
     "end_time": "2023-07-12T11:28:55.450664",
     "exception": false,
     "start_time": "2023-07-12T11:28:55.187165",
     "status": "completed"
    },
    "tags": []
   },
   "outputs": [],
   "source": [
    "train_labels = train_data_new.drop(\"Text\", axis=1)\n",
    "valid_labels = valid_data_new.drop(\"Text\", axis=1)\n",
    "test_labels = test_data_new.drop(\"Text\", axis=1)"
   ]
  },
  {
   "cell_type": "code",
   "execution_count": 74,
   "id": "a3a0db73",
   "metadata": {
    "execution": {
     "iopub.execute_input": "2023-07-12T11:28:56.064313Z",
     "iopub.status.busy": "2023-07-12T11:28:56.063957Z",
     "iopub.status.idle": "2023-07-12T11:28:56.306504Z",
     "shell.execute_reply": "2023-07-12T11:28:56.305473Z"
    },
    "papermill": {
     "duration": 0.543457,
     "end_time": "2023-07-12T11:28:56.309008",
     "exception": false,
     "start_time": "2023-07-12T11:28:55.765551",
     "status": "completed"
    },
    "tags": []
   },
   "outputs": [],
   "source": [
    "tokenizer = RobertaTokenizerFast.from_pretrained(\"roberta-base\")"
   ]
  },
  {
   "cell_type": "code",
   "execution_count": 75,
   "id": "c78cfe45",
   "metadata": {
    "execution": {
     "iopub.execute_input": "2023-07-12T11:28:56.810407Z",
     "iopub.status.busy": "2023-07-12T11:28:56.810049Z",
     "iopub.status.idle": "2023-07-12T11:28:56.816631Z",
     "shell.execute_reply": "2023-07-12T11:28:56.815616Z"
    },
    "papermill": {
     "duration": 0.260186,
     "end_time": "2023-07-12T11:28:56.819916",
     "exception": false,
     "start_time": "2023-07-12T11:28:56.559730",
     "status": "completed"
    },
    "tags": []
   },
   "outputs": [
    {
     "data": {
      "text/plain": [
       "Index(['Text', 'anger', 'fear', 'joy', 'sadness', 'surprise'], dtype='object')"
      ]
     },
     "execution_count": 75,
     "metadata": {},
     "output_type": "execute_result"
    }
   ],
   "source": [
    "train_data_new.columns"
   ]
  },
  {
   "cell_type": "code",
   "execution_count": 76,
   "id": "78126730",
   "metadata": {
    "execution": {
     "iopub.execute_input": "2023-07-12T11:28:57.315441Z",
     "iopub.status.busy": "2023-07-12T11:28:57.315089Z",
     "iopub.status.idle": "2023-07-12T11:28:57.321450Z",
     "shell.execute_reply": "2023-07-12T11:28:57.320569Z"
    },
    "papermill": {
     "duration": 0.255839,
     "end_time": "2023-07-12T11:28:57.323355",
     "exception": false,
     "start_time": "2023-07-12T11:28:57.067516",
     "status": "completed"
    },
    "tags": []
   },
   "outputs": [
    {
     "data": {
      "text/plain": [
       "range(0, 28427)"
      ]
     },
     "execution_count": 76,
     "metadata": {},
     "output_type": "execute_result"
    }
   ],
   "source": [
    "range(len(train_data_new[\"Text\"]))"
   ]
  },
  {
   "cell_type": "code",
   "execution_count": 77,
   "id": "0c246731",
   "metadata": {
    "execution": {
     "iopub.execute_input": "2023-07-12T11:28:57.825958Z",
     "iopub.status.busy": "2023-07-12T11:28:57.825545Z",
     "iopub.status.idle": "2023-07-12T11:29:02.933033Z",
     "shell.execute_reply": "2023-07-12T11:29:02.932005Z"
    },
    "papermill": {
     "duration": 5.36381,
     "end_time": "2023-07-12T11:29:02.935394",
     "exception": false,
     "start_time": "2023-07-12T11:28:57.571584",
     "status": "completed"
    },
    "tags": []
   },
   "outputs": [],
   "source": [
    "max_len = max([len(x.split()) for x in train_data_new['Text']])\n",
    "train_input_ids, train_attention_masks, train_token_type_ids = roberta_encode(train_data_new, max_len, tokenizer)\n",
    "valid_input_ids, valid_attention_masks, valid_token_type_ids = roberta_encode(valid_data_new, max_len, tokenizer)\n",
    "test_input_ids, test_attention_masks, test_token_type_ids = roberta_encode(test_data_new, max_len, tokenizer)"
   ]
  },
  {
   "cell_type": "code",
   "execution_count": 78,
   "id": "d92f7b1f",
   "metadata": {
    "execution": {
     "iopub.execute_input": "2023-07-12T11:29:03.452878Z",
     "iopub.status.busy": "2023-07-12T11:29:03.452158Z",
     "iopub.status.idle": "2023-07-12T11:29:03.458484Z",
     "shell.execute_reply": "2023-07-12T11:29:03.457608Z"
    },
    "papermill": {
     "duration": 0.258691,
     "end_time": "2023-07-12T11:29:03.460541",
     "exception": false,
     "start_time": "2023-07-12T11:29:03.201850",
     "status": "completed"
    },
    "tags": []
   },
   "outputs": [
    {
     "data": {
      "text/plain": [
       "((3520, 25), (3520, 25), (3520, 25))"
      ]
     },
     "execution_count": 78,
     "metadata": {},
     "output_type": "execute_result"
    }
   ],
   "source": [
    "test_input_ids.shape, test_attention_masks.shape, test_token_type_ids.shape"
   ]
  },
  {
   "cell_type": "code",
   "execution_count": 79,
   "id": "e140874d",
   "metadata": {
    "execution": {
     "iopub.execute_input": "2023-07-12T11:29:04.008274Z",
     "iopub.status.busy": "2023-07-12T11:29:04.007901Z",
     "iopub.status.idle": "2023-07-12T11:29:04.014032Z",
     "shell.execute_reply": "2023-07-12T11:29:04.013061Z"
    },
    "papermill": {
     "duration": 0.308608,
     "end_time": "2023-07-12T11:29:04.016212",
     "exception": false,
     "start_time": "2023-07-12T11:29:03.707604",
     "status": "completed"
    },
    "tags": []
   },
   "outputs": [
    {
     "data": {
      "text/plain": [
       "(3520, 5)"
      ]
     },
     "execution_count": 79,
     "metadata": {},
     "output_type": "execute_result"
    }
   ],
   "source": [
    "test_labels.shape"
   ]
  },
  {
   "cell_type": "code",
   "execution_count": 80,
   "id": "090fb897",
   "metadata": {
    "execution": {
     "iopub.execute_input": "2023-07-12T11:29:04.517792Z",
     "iopub.status.busy": "2023-07-12T11:29:04.516585Z",
     "iopub.status.idle": "2023-07-12T11:29:04.522537Z",
     "shell.execute_reply": "2023-07-12T11:29:04.521607Z"
    },
    "papermill": {
     "duration": 0.258575,
     "end_time": "2023-07-12T11:29:04.524695",
     "exception": false,
     "start_time": "2023-07-12T11:29:04.266120",
     "status": "completed"
    },
    "tags": []
   },
   "outputs": [],
   "source": [
    "es_3 = EarlyStopping(monitor='val_loss', mode='min', verbose=1, patience=3)"
   ]
  },
  {
   "cell_type": "code",
   "execution_count": 81,
   "id": "deeb7c90",
   "metadata": {
    "execution": {
     "iopub.execute_input": "2023-07-12T11:29:05.019389Z",
     "iopub.status.busy": "2023-07-12T11:29:05.019037Z",
     "iopub.status.idle": "2023-07-12T11:29:05.026798Z",
     "shell.execute_reply": "2023-07-12T11:29:05.025769Z"
    },
    "papermill": {
     "duration": 0.258728,
     "end_time": "2023-07-12T11:29:05.029314",
     "exception": false,
     "start_time": "2023-07-12T11:29:04.770586",
     "status": "completed"
    },
    "tags": []
   },
   "outputs": [],
   "source": [
    "def create_model(bert_model, max_len, num_classes=7):\n",
    "    \n",
    "    input_ids = tf.keras.Input(shape=(max_len,),dtype='int32')\n",
    "    attention_masks = tf.keras.Input(shape=(max_len,),dtype='int32')\n",
    "    token_type_ids = tf.keras.Input(shape=(max_len,),dtype='int32')\n",
    "    \n",
    "    features = bert_model([input_ids,attention_masks, token_type_ids])\n",
    "    output = tf.keras.layers.Dense(num_classes, activation='sigmoid')(features[1])\n",
    "    \n",
    "    model = tf.keras.models.Model(inputs=[input_ids,attention_masks,token_type_ids], outputs=output)\n",
    "    \n",
    "    model.compile(tf.keras.optimizers.Adam(learning_rate=5e-5, weight_decay=1e-6),\n",
    "                  loss='categorical_crossentropy',\n",
    "                  metrics=['accuracy', tf.keras.metrics.Precision(name='precision')])\n",
    "    return model"
   ]
  },
  {
   "cell_type": "code",
   "execution_count": 82,
   "id": "df1939ba",
   "metadata": {
    "execution": {
     "iopub.execute_input": "2023-07-12T11:29:05.525169Z",
     "iopub.status.busy": "2023-07-12T11:29:05.524809Z",
     "iopub.status.idle": "2023-07-12T11:29:08.177575Z",
     "shell.execute_reply": "2023-07-12T11:29:08.176660Z"
    },
    "papermill": {
     "duration": 2.902157,
     "end_time": "2023-07-12T11:29:08.180289",
     "exception": false,
     "start_time": "2023-07-12T11:29:05.278132",
     "status": "completed"
    },
    "tags": []
   },
   "outputs": [
    {
     "name": "stderr",
     "output_type": "stream",
     "text": [
      "Some weights of the PyTorch model were not used when initializing the TF 2.0 model TFRobertaModel: ['roberta.embeddings.position_ids', 'lm_head.layer_norm.bias', 'lm_head.layer_norm.weight', 'lm_head.dense.bias', 'lm_head.bias', 'lm_head.dense.weight']\n",
      "- This IS expected if you are initializing TFRobertaModel from a PyTorch model trained on another task or with another architecture (e.g. initializing a TFBertForSequenceClassification model from a BertForPreTraining model).\n",
      "- This IS NOT expected if you are initializing TFRobertaModel from a PyTorch model that you expect to be exactly identical (e.g. initializing a TFBertForSequenceClassification model from a BertForSequenceClassification model).\n",
      "Some weights or buffers of the TF 2.0 model TFRobertaModel were not initialized from the PyTorch model and are newly initialized: ['roberta.pooler.dense.weight', 'roberta.pooler.dense.bias']\n",
      "You should probably TRAIN this model on a down-stream task to be able to use it for predictions and inference.\n"
     ]
    }
   ],
   "source": [
    "roberta_model = TFRobertaModel.from_pretrained('roberta-base')\n",
    "roberta_model.trainable = True"
   ]
  },
  {
   "cell_type": "code",
   "execution_count": 83,
   "id": "b2db8cc5",
   "metadata": {
    "execution": {
     "iopub.execute_input": "2023-07-12T11:29:08.928679Z",
     "iopub.status.busy": "2023-07-12T11:29:08.928264Z",
     "iopub.status.idle": "2023-07-12T11:29:10.914398Z",
     "shell.execute_reply": "2023-07-12T11:29:10.913235Z"
    },
    "papermill": {
     "duration": 2.346296,
     "end_time": "2023-07-12T11:29:10.916749",
     "exception": false,
     "start_time": "2023-07-12T11:29:08.570453",
     "status": "completed"
    },
    "tags": []
   },
   "outputs": [
    {
     "name": "stdout",
     "output_type": "stream",
     "text": [
      "Model: \"model_2\"\n",
      "__________________________________________________________________________________________________\n",
      " Layer (type)                   Output Shape         Param #     Connected to                     \n",
      "==================================================================================================\n",
      " input_7 (InputLayer)           [(None, 25)]         0           []                               \n",
      "                                                                                                  \n",
      " input_8 (InputLayer)           [(None, 25)]         0           []                               \n",
      "                                                                                                  \n",
      " input_9 (InputLayer)           [(None, 25)]         0           []                               \n",
      "                                                                                                  \n",
      " tf_roberta_model_2 (TFRobertaM  TFBaseModelOutputWi  124645632  ['input_7[0][0]',                \n",
      " odel)                          thPoolingAndCrossAt               'input_8[0][0]',                \n",
      "                                tentions(last_hidde               'input_9[0][0]']                \n",
      "                                n_state=(None, 25,                                                \n",
      "                                768),                                                             \n",
      "                                 pooler_output=(Non                                               \n",
      "                                e, 768),                                                          \n",
      "                                 past_key_values=No                                               \n",
      "                                ne, hidden_states=N                                               \n",
      "                                one, attentions=Non                                               \n",
      "                                e, cross_attentions                                               \n",
      "                                =None)                                                            \n",
      "                                                                                                  \n",
      " dense_4 (Dense)                (None, 5)            3845        ['tf_roberta_model_2[0][1]']     \n",
      "                                                                                                  \n",
      "==================================================================================================\n",
      "Total params: 124,649,477\n",
      "Trainable params: 124,649,477\n",
      "Non-trainable params: 0\n",
      "__________________________________________________________________________________________________\n"
     ]
    }
   ],
   "source": [
    "model_3 = create_model(roberta_model, max_len, num_classes=5)\n",
    "model_3.summary()"
   ]
  },
  {
   "cell_type": "code",
   "execution_count": 84,
   "id": "61240701",
   "metadata": {
    "execution": {
     "iopub.execute_input": "2023-07-12T11:29:11.416430Z",
     "iopub.status.busy": "2023-07-12T11:29:11.416083Z",
     "iopub.status.idle": "2023-07-12T11:42:34.020243Z",
     "shell.execute_reply": "2023-07-12T11:42:34.019266Z"
    },
    "papermill": {
     "duration": 802.854801,
     "end_time": "2023-07-12T11:42:34.022446",
     "exception": false,
     "start_time": "2023-07-12T11:29:11.167645",
     "status": "completed"
    },
    "tags": []
   },
   "outputs": [
    {
     "name": "stdout",
     "output_type": "stream",
     "text": [
      "Epoch 1/10\n",
      "223/223 [==============================] - 204s 703ms/step - loss: 0.9008 - accuracy: 0.7220 - precision: 0.2196 - val_loss: 0.7680 - val_accuracy: 0.7744 - val_precision: 0.2156\n",
      "Epoch 2/10\n",
      "223/223 [==============================] - 151s 676ms/step - loss: 0.7308 - accuracy: 0.3901 - precision: 0.2158 - val_loss: 0.7640 - val_accuracy: 0.2001 - val_precision: 0.2156\n",
      "Epoch 3/10\n",
      "223/223 [==============================] - 146s 656ms/step - loss: 0.6506 - accuracy: 0.1832 - precision: 0.2158 - val_loss: 0.7884 - val_accuracy: 0.1852 - val_precision: 0.2156\n",
      "Epoch 4/10\n",
      "223/223 [==============================] - 151s 676ms/step - loss: 0.5752 - accuracy: 0.1800 - precision: 0.2158 - val_loss: 0.8895 - val_accuracy: 0.1852 - val_precision: 0.2156\n",
      "Epoch 5/10\n",
      "223/223 [==============================] - 151s 676ms/step - loss: 0.5121 - accuracy: 0.1800 - precision: 0.2158 - val_loss: 0.8889 - val_accuracy: 0.1852 - val_precision: 0.2156\n",
      "Epoch 5: early stopping\n"
     ]
    }
   ],
   "source": [
    "history_3 = model_3.fit([train_input_ids,train_attention_masks,train_token_type_ids], train_labels,\n",
    "                    validation_data=([valid_input_ids,valid_attention_masks,valid_token_type_ids], valid_labels),\n",
    "                    epochs=10,\n",
    "                    batch_size=128,\n",
    "                    callbacks=[es_3])"
   ]
  },
  {
   "cell_type": "code",
   "execution_count": 85,
   "id": "19b9a530",
   "metadata": {
    "execution": {
     "iopub.execute_input": "2023-07-12T11:42:34.716813Z",
     "iopub.status.busy": "2023-07-12T11:42:34.716425Z",
     "iopub.status.idle": "2023-07-12T11:43:00.419025Z",
     "shell.execute_reply": "2023-07-12T11:43:00.418027Z"
    },
    "papermill": {
     "duration": 26.041184,
     "end_time": "2023-07-12T11:43:00.421870",
     "exception": false,
     "start_time": "2023-07-12T11:42:34.380686",
     "status": "completed"
    },
    "tags": []
   },
   "outputs": [
    {
     "data": {
      "image/png": "[encoded data removed]",
      "text/plain": [
       "<Figure size 640x480 with 1 Axes>"
      ]
     },
     "metadata": {},
     "output_type": "display_data"
    }
   ],
   "source": [
    "# summarize history for accuracy\n",
    "plt.plot(history_3.history['accuracy'])\n",
    "plt.plot(history_3.history['val_accuracy'])\n",
    "plt.title('Model Accuracy')\n",
    "plt.ylabel('Accuracy')\n",
    "plt.xlabel('Epoch')\n",
    "plt.legend(['train', 'valid'], loc='upper left')\n",
    "plt.show()"
   ]
  },
  {
   "cell_type": "code",
   "execution_count": 86,
   "id": "74a21049",
   "metadata": {
    "execution": {
     "iopub.execute_input": "2023-07-12T11:43:01.151473Z",
     "iopub.status.busy": "2023-07-12T11:43:01.150442Z",
     "iopub.status.idle": "2023-07-12T11:43:01.468435Z",
     "shell.execute_reply": "2023-07-12T11:43:01.467545Z"
    },
    "papermill": {
     "duration": 0.661745,
     "end_time": "2023-07-12T11:43:01.470434",
     "exception": false,
     "start_time": "2023-07-12T11:43:00.808689",
     "status": "completed"
    },
    "tags": []
   },
   "outputs": [
    {
     "data": {
      "image/png": "[encoded data removed]",
      "text/plain": [
       "<Figure size 640x480 with 1 Axes>"
      ]
     },
     "metadata": {},
     "output_type": "display_data"
    }
   ],
   "source": [
    "# summarize history for loss\n",
    "plt.plot(history_3.history['loss'])\n",
    "plt.plot(history_3.history['val_loss'])\n",
    "plt.title('Model Loss')\n",
    "plt.ylabel('Loss')\n",
    "plt.xlabel('Epoch')\n",
    "plt.legend(['train', 'valid'], loc='upper left')\n",
    "plt.show()"
   ]
  },
  {
   "cell_type": "code",
   "execution_count": 87,
   "id": "6c83692f",
   "metadata": {
    "execution": {
     "iopub.execute_input": "2023-07-12T11:43:02.150440Z",
     "iopub.status.busy": "2023-07-12T11:43:02.150072Z",
     "iopub.status.idle": "2023-07-12T11:43:02.473512Z",
     "shell.execute_reply": "2023-07-12T11:43:02.472605Z"
    },
    "papermill": {
     "duration": 0.668941,
     "end_time": "2023-07-12T11:43:02.475670",
     "exception": false,
     "start_time": "2023-07-12T11:43:01.806729",
     "status": "completed"
    },
    "tags": []
   },
   "outputs": [
    {
     "data": {
      "image/png": "[encoded data removed]",
      "text/plain": [
       "<Figure size 640x480 with 1 Axes>"
      ]
     },
     "metadata": {},
     "output_type": "display_data"
    }
   ],
   "source": [
    "# summarize history for precision\n",
    "plt.plot(history_3.history['precision'])\n",
    "plt.plot(history_3.history['val_precision'])\n",
    "plt.title('Model Precision')\n",
    "plt.ylabel('Precision')\n",
    "plt.xlabel('Epoch')\n",
    "plt.legend(['train', 'valid'], loc='upper left')\n",
    "plt.show()"
   ]
  },
  {
   "cell_type": "code",
   "execution_count": 88,
   "id": "5363c005",
   "metadata": {
    "execution": {
     "iopub.execute_input": "2023-07-12T11:43:03.156899Z",
     "iopub.status.busy": "2023-07-12T11:43:03.156516Z",
     "iopub.status.idle": "2023-07-12T11:43:10.541670Z",
     "shell.execute_reply": "2023-07-12T11:43:10.540752Z"
    },
    "papermill": {
     "duration": 7.730237,
     "end_time": "2023-07-12T11:43:10.543888",
     "exception": false,
     "start_time": "2023-07-12T11:43:02.813651",
     "status": "completed"
    },
    "tags": []
   },
   "outputs": [
    {
     "name": "stdout",
     "output_type": "stream",
     "text": [
      "110/110 [==============================] - 7s 51ms/step\n"
     ]
    }
   ],
   "source": [
    "pred_labels_3 = model_3.predict([test_input_ids, test_attention_masks, test_token_type_ids])"
   ]
  },
  {
   "cell_type": "code",
   "execution_count": 89,
   "id": "82dbe26e",
   "metadata": {
    "execution": {
     "iopub.execute_input": "2023-07-12T11:43:11.228154Z",
     "iopub.status.busy": "2023-07-12T11:43:11.227783Z",
     "iopub.status.idle": "2023-07-12T11:43:11.235507Z",
     "shell.execute_reply": "2023-07-12T11:43:11.234589Z"
    },
    "papermill": {
     "duration": 0.351475,
     "end_time": "2023-07-12T11:43:11.237901",
     "exception": false,
     "start_time": "2023-07-12T11:43:10.886426",
     "status": "completed"
    },
    "tags": []
   },
   "outputs": [
    {
     "data": {
      "text/plain": [
       "array([[1., 1., 1., 1., 1.],\n",
       "       [1., 1., 1., 1., 1.],\n",
       "       [1., 1., 1., 1., 1.],\n",
       "       [1., 1., 1., 1., 1.],\n",
       "       [1., 1., 1., 1., 1.]], dtype=float32)"
      ]
     },
     "execution_count": 89,
     "metadata": {},
     "output_type": "execute_result"
    }
   ],
   "source": [
    "pred_labels_3[:5]"
   ]
  },
  {
   "cell_type": "code",
   "execution_count": 90,
   "id": "e3a850ca",
   "metadata": {
    "execution": {
     "iopub.execute_input": "2023-07-12T11:43:11.976584Z",
     "iopub.status.busy": "2023-07-12T11:43:11.976178Z",
     "iopub.status.idle": "2023-07-12T11:43:22.286645Z",
     "shell.execute_reply": "2023-07-12T11:43:22.285647Z"
    },
    "papermill": {
     "duration": 10.654442,
     "end_time": "2023-07-12T11:43:22.288867",
     "exception": false,
     "start_time": "2023-07-12T11:43:11.634425",
     "status": "completed"
    },
    "tags": []
   },
   "outputs": [
    {
     "name": "stdout",
     "output_type": "stream",
     "text": [
      "110/110 [==============================] - 7s 65ms/step - loss: 0.8437 - accuracy: 0.1875 - precision: 0.2134\n"
     ]
    },
    {
     "data": {
      "text/plain": [
       "[0.8437353372573853, 0.1875, 0.2133522778749466]"
      ]
     },
     "execution_count": 90,
     "metadata": {},
     "output_type": "execute_result"
    }
   ],
   "source": [
    "model_3.evaluate([test_input_ids, test_attention_masks, test_token_type_ids], test_labels)"
   ]
  },
  {
   "cell_type": "code",
   "execution_count": 91,
   "id": "ac7c2109",
   "metadata": {
    "execution": {
     "iopub.execute_input": "2023-07-12T11:43:23.005477Z",
     "iopub.status.busy": "2023-07-12T11:43:23.004876Z",
     "iopub.status.idle": "2023-07-12T11:43:23.064408Z",
     "shell.execute_reply": "2023-07-12T11:43:23.063503Z"
    },
    "papermill": {
     "duration": 0.419349,
     "end_time": "2023-07-12T11:43:23.066378",
     "exception": false,
     "start_time": "2023-07-12T11:43:22.647029",
     "status": "completed"
    },
    "tags": []
   },
   "outputs": [],
   "source": [
    "pred_labels_3 = [list(map(prob,i)) for i in pred_labels_3]"
   ]
  },
  {
   "cell_type": "code",
   "execution_count": 92,
   "id": "4568a9ee",
   "metadata": {
    "execution": {
     "iopub.execute_input": "2023-07-12T11:43:23.776253Z",
     "iopub.status.busy": "2023-07-12T11:43:23.775129Z",
     "iopub.status.idle": "2023-07-12T11:43:23.782709Z",
     "shell.execute_reply": "2023-07-12T11:43:23.781744Z"
    },
    "papermill": {
     "duration": 0.366047,
     "end_time": "2023-07-12T11:43:23.784807",
     "exception": false,
     "start_time": "2023-07-12T11:43:23.418760",
     "status": "completed"
    },
    "tags": []
   },
   "outputs": [
    {
     "data": {
      "text/plain": [
       "[[1, 1, 1, 1, 1],\n",
       " [1, 1, 1, 1, 1],\n",
       " [1, 1, 1, 1, 1],\n",
       " [1, 1, 1, 1, 1],\n",
       " [1, 1, 1, 1, 1]]"
      ]
     },
     "execution_count": 92,
     "metadata": {},
     "output_type": "execute_result"
    }
   ],
   "source": [
    "pred_labels_3[:5]"
   ]
  },
  {
   "cell_type": "code",
   "execution_count": 93,
   "id": "0b5dac01",
   "metadata": {
    "execution": {
     "iopub.execute_input": "2023-07-12T11:43:24.758095Z",
     "iopub.status.busy": "2023-07-12T11:43:24.757648Z",
     "iopub.status.idle": "2023-07-12T11:43:24.780425Z",
     "shell.execute_reply": "2023-07-12T11:43:24.779504Z"
    },
    "papermill": {
     "duration": 0.534156,
     "end_time": "2023-07-12T11:43:24.783312",
     "exception": false,
     "start_time": "2023-07-12T11:43:24.249156",
     "status": "completed"
    },
    "tags": []
   },
   "outputs": [
    {
     "name": "stdout",
     "output_type": "stream",
     "text": [
      "The Label Ranking Average Precision Score for the Test Set:  1.0\n"
     ]
    }
   ],
   "source": [
    "from sklearn.metrics import label_ranking_average_precision_score\n",
    "lrap = label_ranking_average_precision_score(pred_labels_3, test_labels)\n",
    "print(\"The Label Ranking Average Precision Score for the Test Set: \", lrap)"
   ]
  },
  {
   "cell_type": "code",
   "execution_count": 94,
   "id": "256e0718",
   "metadata": {
    "execution": {
     "iopub.execute_input": "2023-07-12T11:43:25.770318Z",
     "iopub.status.busy": "2023-07-12T11:43:25.769773Z",
     "iopub.status.idle": "2023-07-12T11:43:25.804906Z",
     "shell.execute_reply": "2023-07-12T11:43:25.803769Z"
    },
    "papermill": {
     "duration": 0.412649,
     "end_time": "2023-07-12T11:43:25.806962",
     "exception": false,
     "start_time": "2023-07-12T11:43:25.394313",
     "status": "completed"
    },
    "tags": []
   },
   "outputs": [
    {
     "name": "stdout",
     "output_type": "stream",
     "text": [
      "              precision    recall  f1-score   support\n",
      "\n",
      "       anger       0.19      1.00      0.32       660\n",
      "        fear       0.03      1.00      0.05        91\n",
      "         joy       0.57      1.00      0.73      2022\n",
      "     sadness       0.10      1.00      0.18       358\n",
      "    surprise       0.18      1.00      0.30       624\n",
      "\n",
      "   micro avg       0.21      1.00      0.35      3755\n",
      "   macro avg       0.21      1.00      0.32      3755\n",
      "weighted avg       0.38      1.00      0.52      3755\n",
      " samples avg       0.21      1.00      0.35      3755\n",
      "\n"
     ]
    }
   ],
   "source": [
    "from sklearn.metrics import classification_report\n",
    "target_names = train_data_new.columns[1:]\n",
    "print(classification_report(test_labels, pred_labels_3, target_names=target_names))"
   ]
  },
  {
   "cell_type": "code",
   "execution_count": null,
   "id": "b6c681b3",
   "metadata": {
    "papermill": {
     "duration": 0.350607,
     "end_time": "2023-07-12T11:43:26.559929",
     "exception": false,
     "start_time": "2023-07-12T11:43:26.209322",
     "status": "completed"
    },
    "tags": []
   },
   "outputs": [],
   "source": []
  }
 ],
 "metadata": {
  "kernelspec": {
   "display_name": "Python 3",
   "language": "python",
   "name": "python3"
  },
  "language_info": {
   "codemirror_mode": {
    "name": "ipython",
    "version": 3
   },
   "file_extension": ".py",
   "mimetype": "text/x-python",
   "name": "python",
   "nbconvert_exporter": "python",
   "pygments_lexer": "ipython3",
   "version": "3.10.10"
  },
  "papermill": {
   "default_parameters": {},
   "duration": 3380.995981,
   "end_time": "2023-07-12T11:43:30.655211",
   "environment_variables": {},
   "exception": null,
   "input_path": "__notebook__.ipynb",
   "output_path": "__notebook__.ipynb",
   "parameters": {},
   "start_time": "2023-07-12T10:47:09.659230",
   "version": "2.4.0"
  },
  "widgets": {
   "application/vnd.jupyter.widget-state+json": {
    "state": {
     "04f2d413e9fd47b3862f2a8d537c6934": {
      "model_module": "@jupyter-widgets/base",
      "model_module_version": "1.2.0",
      "model_name": "LayoutModel",
      "state": {
       "_model_module": "@jupyter-widgets/base",
       "_model_module_version": "1.2.0",
       "_model_name": "LayoutModel",
       "_view_count": null,
       "_view_module": "@jupyter-widgets/base",
       "_view_module_version": "1.2.0",
       "_view_name": "LayoutView",
       "align_content": null,
       "align_items": null,
       "align_self": null,
       "border": null,
       "bottom": null,
       "display": null,
       "flex": null,
       "flex_flow": null,
       "grid_area": null,
       "grid_auto_columns": null,
       "grid_auto_flow": null,
       "grid_auto_rows": null,
       "grid_column": null,
       "grid_gap": null,
       "grid_row": null,
       "grid_template_areas": null,
       "grid_template_columns": null,
       "grid_template_rows": null,
       "height": null,
       "justify_content": null,
       "justify_items": null,
       "left": null,
       "margin": null,
       "max_height": null,
       "max_width": null,
       "min_height": null,
       "min_width": null,
       "object_fit": null,
       "object_position": null,
       "order": null,
       "overflow": null,
       "overflow_x": null,
       "overflow_y": null,
       "padding": null,
       "right": null,
       "top": null,
       "visibility": null,
       "width": null
      }
     },
     "06f3d5f9c6204606bf256b48e77024e6": {
      "model_module": "@jupyter-widgets/base",
      "model_module_version": "1.2.0",
      "model_name": "LayoutModel",
      "state": {
       "_model_module": "@jupyter-widgets/base",
       "_model_module_version": "1.2.0",
       "_model_name": "LayoutModel",
       "_view_count": null,
       "_view_module": "@jupyter-widgets/base",
       "_view_module_version": "1.2.0",
       "_view_name": "LayoutView",
       "align_content": null,
       "align_items": null,
       "align_self": null,
       "border": null,
       "bottom": null,
       "display": null,
       "flex": null,
       "flex_flow": null,
       "grid_area": null,
       "grid_auto_columns": null,
       "grid_auto_flow": null,
       "grid_auto_rows": null,
       "grid_column": null,
       "grid_gap": null,
       "grid_row": null,
       "grid_template_areas": null,
       "grid_template_columns": null,
       "grid_template_rows": null,
       "height": null,
       "justify_content": null,
       "justify_items": null,
       "left": null,
       "margin": null,
       "max_height": null,
       "max_width": null,
       "min_height": null,
       "min_width": null,
       "object_fit": null,
       "object_position": null,
       "order": null,
       "overflow": null,
       "overflow_x": null,
       "overflow_y": null,
       "padding": null,
       "right": null,
       "top": null,
       "visibility": null,
       "width": null
      }
     },
     "13048025694c46238bd5e7fc4f674e24": {
      "model_module": "@jupyter-widgets/base",
      "model_module_version": "1.2.0",
      "model_name": "LayoutModel",
      "state": {
       "_model_module": "@jupyter-widgets/base",
       "_model_module_version": "1.2.0",
       "_model_name": "LayoutModel",
       "_view_count": null,
       "_view_module": "@jupyter-widgets/base",
       "_view_module_version": "1.2.0",
       "_view_name": "LayoutView",
       "align_content": null,
       "align_items": null,
       "align_self": null,
       "border": null,
       "bottom": null,
       "display": null,
       "flex": null,
       "flex_flow": null,
       "grid_area": null,
       "grid_auto_columns": null,
       "grid_auto_flow": null,
       "grid_auto_rows": null,
       "grid_column": null,
       "grid_gap": null,
       "grid_row": null,
       "grid_template_areas": null,
       "grid_template_columns": null,
       "grid_template_rows": null,
       "height": null,
       "justify_content": null,
       "justify_items": null,
       "left": null,
       "margin": null,
       "max_height": null,
       "max_width": null,
       "min_height": null,
       "min_width": null,
       "object_fit": null,
       "object_position": null,
       "order": null,
       "overflow": null,
       "overflow_x": null,
       "overflow_y": null,
       "padding": null,
       "right": null,
       "top": null,
       "visibility": null,
       "width": null
      }
     },
     "180e5ac1566f470bb2a1f147bf12e876": {
      "model_module": "@jupyter-widgets/base",
      "model_module_version": "1.2.0",
      "model_name": "LayoutModel",
      "state": {
       "_model_module": "@jupyter-widgets/base",
       "_model_module_version": "1.2.0",
       "_model_name": "LayoutModel",
       "_view_count": null,
       "_view_module": "@jupyter-widgets/base",
       "_view_module_version": "1.2.0",
       "_view_name": "LayoutView",
       "align_content": null,
       "align_items": null,
       "align_self": null,
       "border": null,
       "bottom": null,
       "display": null,
       "flex": null,
       "flex_flow": null,
       "grid_area": null,
       "grid_auto_columns": null,
       "grid_auto_flow": null,
       "grid_auto_rows": null,
       "grid_column": null,
       "grid_gap": null,
       "grid_row": null,
       "grid_template_areas": null,
       "grid_template_columns": null,
       "grid_template_rows": null,
       "height": null,
       "justify_content": null,
       "justify_items": null,
       "left": null,
       "margin": null,
       "max_height": null,
       "max_width": null,
       "min_height": null,
       "min_width": null,
       "object_fit": null,
       "object_position": null,
       "order": null,
       "overflow": null,
       "overflow_x": null,
       "overflow_y": null,
       "padding": null,
       "right": null,
       "top": null,
       "visibility": null,
       "width": null
      }
     },
     "1b56ed7461074b9abebd4eb060a969cf": {
      "model_module": "@jupyter-widgets/controls",
      "model_module_version": "1.5.0",
      "model_name": "HTMLModel",
      "state": {
       "_dom_classes": [],
       "_model_module": "@jupyter-widgets/controls",
       "_model_module_version": "1.5.0",
       "_model_name": "HTMLModel",
       "_view_count": null,
       "_view_module": "@jupyter-widgets/controls",
       "_view_module_version": "1.5.0",
       "_view_name": "HTMLView",
       "description": "",
       "description_tooltip": null,
       "layout": "IPY_MODEL_ab3431f4a2e54e43900b6fc21eed8b75",
       "placeholder": "​",
       "style": "IPY_MODEL_e67ae417b8104590aecdce3c8d8defa4",
       "value": " 899k/899k [00:00&lt;00:00, 10.5MB/s]"
      }
     },
     "20b7f1b45240488ba9a8a373b2e9cf7d": {
      "model_module": "@jupyter-widgets/controls",
      "model_module_version": "1.5.0",
      "model_name": "HBoxModel",
      "state": {
       "_dom_classes": [],
       "_model_module": "@jupyter-widgets/controls",
       "_model_module_version": "1.5.0",
       "_model_name": "HBoxModel",
       "_view_count": null,
       "_view_module": "@jupyter-widgets/controls",
       "_view_module_version": "1.5.0",
       "_view_name": "HBoxView",
       "box_style": "",
       "children": [
        "IPY_MODEL_95226364d17940e5ab07746f361dee20",
        "IPY_MODEL_e08326338e504af4bc705483f255c15f",
        "IPY_MODEL_aa732113765c47348a8280f749d16d89"
       ],
       "layout": "IPY_MODEL_65e5371220d3497ba31fb0311bb52d13"
      }
     },
     "258a7dc7a6a64867b04c230b86f65b8b": {
      "model_module": "@jupyter-widgets/controls",
      "model_module_version": "1.5.0",
      "model_name": "DescriptionStyleModel",
      "state": {
       "_model_module": "@jupyter-widgets/controls",
       "_model_module_version": "1.5.0",
       "_model_name": "DescriptionStyleModel",
       "_view_count": null,
       "_view_module": "@jupyter-widgets/base",
       "_view_module_version": "1.2.0",
       "_view_name": "StyleView",
       "description_width": ""
      }
     },
     "2699b5f100eb441aa38d4a33272cfdce": {
      "model_module": "@jupyter-widgets/base",
      "model_module_version": "1.2.0",
      "model_name": "LayoutModel",
      "state": {
       "_model_module": "@jupyter-widgets/base",
       "_model_module_version": "1.2.0",
       "_model_name": "LayoutModel",
       "_view_count": null,
       "_view_module": "@jupyter-widgets/base",
       "_view_module_version": "1.2.0",
       "_view_name": "LayoutView",
       "align_content": null,
       "align_items": null,
       "align_self": null,
       "border": null,
       "bottom": null,
       "display": null,
       "flex": null,
       "flex_flow": null,
       "grid_area": null,
       "grid_auto_columns": null,
       "grid_auto_flow": null,
       "grid_auto_rows": null,
       "grid_column": null,
       "grid_gap": null,
       "grid_row": null,
       "grid_template_areas": null,
       "grid_template_columns": null,
       "grid_template_rows": null,
       "height": null,
       "justify_content": null,
       "justify_items": null,
       "left": null,
       "margin": null,
       "max_height": null,
       "max_width": null,
       "min_height": null,
       "min_width": null,
       "object_fit": null,
       "object_position": null,
       "order": null,
       "overflow": null,
       "overflow_x": null,
       "overflow_y": null,
       "padding": null,
       "right": null,
       "top": null,
       "visibility": null,
       "width": null
      }
     },
     "2df1f38d92b242828fb5cc0c6c9fff42": {
      "model_module": "@jupyter-widgets/base",
      "model_module_version": "1.2.0",
      "model_name": "LayoutModel",
      "state": {
       "_model_module": "@jupyter-widgets/base",
       "_model_module_version": "1.2.0",
       "_model_name": "LayoutModel",
       "_view_count": null,
       "_view_module": "@jupyter-widgets/base",
       "_view_module_version": "1.2.0",
       "_view_name": "LayoutView",
       "align_content": null,
       "align_items": null,
       "align_self": null,
       "border": null,
       "bottom": null,
       "display": null,
       "flex": null,
       "flex_flow": null,
       "grid_area": null,
       "grid_auto_columns": null,
       "grid_auto_flow": null,
       "grid_auto_rows": null,
       "grid_column": null,
       "grid_gap": null,
       "grid_row": null,
       "grid_template_areas": null,
       "grid_template_columns": null,
       "grid_template_rows": null,
       "height": null,
       "justify_content": null,
       "justify_items": null,
       "left": null,
       "margin": null,
       "max_height": null,
       "max_width": null,
       "min_height": null,
       "min_width": null,
       "object_fit": null,
       "object_position": null,
       "order": null,
       "overflow": null,
       "overflow_x": null,
       "overflow_y": null,
       "padding": null,
       "right": null,
       "top": null,
       "visibility": null,
       "width": null
      }
     },
     "2e4bddf45c7a4233824fa086007fca66": {
      "model_module": "@jupyter-widgets/controls",
      "model_module_version": "1.5.0",
      "model_name": "DescriptionStyleModel",
      "state": {
       "_model_module": "@jupyter-widgets/controls",
       "_model_module_version": "1.5.0",
       "_model_name": "DescriptionStyleModel",
       "_view_count": null,
       "_view_module": "@jupyter-widgets/base",
       "_view_module_version": "1.2.0",
       "_view_name": "StyleView",
       "description_width": ""
      }
     },
     "34d9be9810fc4f508fa3a3fef8a7002e": {
      "model_module": "@jupyter-widgets/controls",
      "model_module_version": "1.5.0",
      "model_name": "HTMLModel",
      "state": {
       "_dom_classes": [],
       "_model_module": "@jupyter-widgets/controls",
       "_model_module_version": "1.5.0",
       "_model_name": "HTMLModel",
       "_view_count": null,
       "_view_module": "@jupyter-widgets/controls",
       "_view_module_version": "1.5.0",
       "_view_name": "HTMLView",
       "description": "",
       "description_tooltip": null,
       "layout": "IPY_MODEL_2df1f38d92b242828fb5cc0c6c9fff42",
       "placeholder": "​",
       "style": "IPY_MODEL_50f8788b467246a1b79d3855c2b8ef03",
       "value": "Downloading model.safetensors: 100%"
      }
     },
     "35f612fc81cb4db88442cb31a5bd3de1": {
      "model_module": "@jupyter-widgets/controls",
      "model_module_version": "1.5.0",
      "model_name": "ProgressStyleModel",
      "state": {
       "_model_module": "@jupyter-widgets/controls",
       "_model_module_version": "1.5.0",
       "_model_name": "ProgressStyleModel",
       "_view_count": null,
       "_view_module": "@jupyter-widgets/base",
       "_view_module_version": "1.2.0",
       "_view_name": "StyleView",
       "bar_color": null,
       "description_width": ""
      }
     },
     "44b4ae6411324d8b94e9026e742b73f4": {
      "model_module": "@jupyter-widgets/base",
      "model_module_version": "1.2.0",
      "model_name": "LayoutModel",
      "state": {
       "_model_module": "@jupyter-widgets/base",
       "_model_module_version": "1.2.0",
       "_model_name": "LayoutModel",
       "_view_count": null,
       "_view_module": "@jupyter-widgets/base",
       "_view_module_version": "1.2.0",
       "_view_name": "LayoutView",
       "align_content": null,
       "align_items": null,
       "align_self": null,
       "border": null,
       "bottom": null,
       "display": null,
       "flex": null,
       "flex_flow": null,
       "grid_area": null,
       "grid_auto_columns": null,
       "grid_auto_flow": null,
       "grid_auto_rows": null,
       "grid_column": null,
       "grid_gap": null,
       "grid_row": null,
       "grid_template_areas": null,
       "grid_template_columns": null,
       "grid_template_rows": null,
       "height": null,
       "justify_content": null,
       "justify_items": null,
       "left": null,
       "margin": null,
       "max_height": null,
       "max_width": null,
       "min_height": null,
       "min_width": null,
       "object_fit": null,
       "object_position": null,
       "order": null,
       "overflow": null,
       "overflow_x": null,
       "overflow_y": null,
       "padding": null,
       "right": null,
       "top": null,
       "visibility": null,
       "width": null
      }
     },
     "45471272472645559193955729aefc27": {
      "model_module": "@jupyter-widgets/controls",
      "model_module_version": "1.5.0",
      "model_name": "HBoxModel",
      "state": {
       "_dom_classes": [],
       "_model_module": "@jupyter-widgets/controls",
       "_model_module_version": "1.5.0",
       "_model_name": "HBoxModel",
       "_view_count": null,
       "_view_module": "@jupyter-widgets/controls",
       "_view_module_version": "1.5.0",
       "_view_name": "HBoxView",
       "box_style": "",
       "children": [
        "IPY_MODEL_54446c80d3fb4267927e80fe0ee0947b",
        "IPY_MODEL_f95fced5c4634c58b72f845d99e5fe34",
        "IPY_MODEL_f38cc9c446004c699650ff5b9add3582"
       ],
       "layout": "IPY_MODEL_b603600ffdd44e97af814ee8a349de80"
      }
     },
     "4695ce1fd7cb46b4bb0868574d1063f3": {
      "model_module": "@jupyter-widgets/base",
      "model_module_version": "1.2.0",
      "model_name": "LayoutModel",
      "state": {
       "_model_module": "@jupyter-widgets/base",
       "_model_module_version": "1.2.0",
       "_model_name": "LayoutModel",
       "_view_count": null,
       "_view_module": "@jupyter-widgets/base",
       "_view_module_version": "1.2.0",
       "_view_name": "LayoutView",
       "align_content": null,
       "align_items": null,
       "align_self": null,
       "border": null,
       "bottom": null,
       "display": null,
       "flex": null,
       "flex_flow": null,
       "grid_area": null,
       "grid_auto_columns": null,
       "grid_auto_flow": null,
       "grid_auto_rows": null,
       "grid_column": null,
       "grid_gap": null,
       "grid_row": null,
       "grid_template_areas": null,
       "grid_template_columns": null,
       "grid_template_rows": null,
       "height": null,
       "justify_content": null,
       "justify_items": null,
       "left": null,
       "margin": null,
       "max_height": null,
       "max_width": null,
       "min_height": null,
       "min_width": null,
       "object_fit": null,
       "object_position": null,
       "order": null,
       "overflow": null,
       "overflow_x": null,
       "overflow_y": null,
       "padding": null,
       "right": null,
       "top": null,
       "visibility": null,
       "width": null
      }
     },
     "5046a18808434fd2ad9cbc01c41c52c2": {
      "model_module": "@jupyter-widgets/controls",
      "model_module_version": "1.5.0",
      "model_name": "ProgressStyleModel",
      "state": {
       "_model_module": "@jupyter-widgets/controls",
       "_model_module_version": "1.5.0",
       "_model_name": "ProgressStyleModel",
       "_view_count": null,
       "_view_module": "@jupyter-widgets/base",
       "_view_module_version": "1.2.0",
       "_view_name": "StyleView",
       "bar_color": null,
       "description_width": ""
      }
     },
     "50f8788b467246a1b79d3855c2b8ef03": {
      "model_module": "@jupyter-widgets/controls",
      "model_module_version": "1.5.0",
      "model_name": "DescriptionStyleModel",
      "state": {
       "_model_module": "@jupyter-widgets/controls",
       "_model_module_version": "1.5.0",
       "_model_name": "DescriptionStyleModel",
       "_view_count": null,
       "_view_module": "@jupyter-widgets/base",
       "_view_module_version": "1.2.0",
       "_view_name": "StyleView",
       "description_width": ""
      }
     },
     "54446c80d3fb4267927e80fe0ee0947b": {
      "model_module": "@jupyter-widgets/controls",
      "model_module_version": "1.5.0",
      "model_name": "HTMLModel",
      "state": {
       "_dom_classes": [],
       "_model_module": "@jupyter-widgets/controls",
       "_model_module_version": "1.5.0",
       "_model_name": "HTMLModel",
       "_view_count": null,
       "_view_module": "@jupyter-widgets/controls",
       "_view_module_version": "1.5.0",
       "_view_name": "HTMLView",
       "description": "",
       "description_tooltip": null,
       "layout": "IPY_MODEL_180e5ac1566f470bb2a1f147bf12e876",
       "placeholder": "​",
       "style": "IPY_MODEL_e2cc6d8ce5904053b64bb47703ee61d2",
       "value": "Downloading (…)lve/main/config.json: 100%"
      }
     },
     "6002ba205da646c7ae469d5e0ef64f76": {
      "model_module": "@jupyter-widgets/controls",
      "model_module_version": "1.5.0",
      "model_name": "FloatProgressModel",
      "state": {
       "_dom_classes": [],
       "_model_module": "@jupyter-widgets/controls",
       "_model_module_version": "1.5.0",
       "_model_name": "FloatProgressModel",
       "_view_count": null,
       "_view_module": "@jupyter-widgets/controls",
       "_view_module_version": "1.5.0",
       "_view_name": "ProgressView",
       "bar_style": "success",
       "description": "",
       "description_tooltip": null,
       "layout": "IPY_MODEL_04f2d413e9fd47b3862f2a8d537c6934",
       "max": 1355863.0,
       "min": 0.0,
       "orientation": "horizontal",
       "style": "IPY_MODEL_66d9f00fc25445b68cb54da424c04e9c",
       "value": 1355863.0
      }
     },
     "63ff18a319b44d25a532deef54e21e69": {
      "model_module": "@jupyter-widgets/base",
      "model_module_version": "1.2.0",
      "model_name": "LayoutModel",
      "state": {
       "_model_module": "@jupyter-widgets/base",
       "_model_module_version": "1.2.0",
       "_model_name": "LayoutModel",
       "_view_count": null,
       "_view_module": "@jupyter-widgets/base",
       "_view_module_version": "1.2.0",
       "_view_name": "LayoutView",
       "align_content": null,
       "align_items": null,
       "align_self": null,
       "border": null,
       "bottom": null,
       "display": null,
       "flex": null,
       "flex_flow": null,
       "grid_area": null,
       "grid_auto_columns": null,
       "grid_auto_flow": null,
       "grid_auto_rows": null,
       "grid_column": null,
       "grid_gap": null,
       "grid_row": null,
       "grid_template_areas": null,
       "grid_template_columns": null,
       "grid_template_rows": null,
       "height": null,
       "justify_content": null,
       "justify_items": null,
       "left": null,
       "margin": null,
       "max_height": null,
       "max_width": null,
       "min_height": null,
       "min_width": null,
       "object_fit": null,
       "object_position": null,
       "order": null,
       "overflow": null,
       "overflow_x": null,
       "overflow_y": null,
       "padding": null,
       "right": null,
       "top": null,
       "visibility": null,
       "width": null
      }
     },
     "65e5371220d3497ba31fb0311bb52d13": {
      "model_module": "@jupyter-widgets/base",
      "model_module_version": "1.2.0",
      "model_name": "LayoutModel",
      "state": {
       "_model_module": "@jupyter-widgets/base",
       "_model_module_version": "1.2.0",
       "_model_name": "LayoutModel",
       "_view_count": null,
       "_view_module": "@jupyter-widgets/base",
       "_view_module_version": "1.2.0",
       "_view_name": "LayoutView",
       "align_content": null,
       "align_items": null,
       "align_self": null,
       "border": null,
       "bottom": null,
       "display": null,
       "flex": null,
       "flex_flow": null,
       "grid_area": null,
       "grid_auto_columns": null,
       "grid_auto_flow": null,
       "grid_auto_rows": null,
       "grid_column": null,
       "grid_gap": null,
       "grid_row": null,
       "grid_template_areas": null,
       "grid_template_columns": null,
       "grid_template_rows": null,
       "height": null,
       "justify_content": null,
       "justify_items": null,
       "left": null,
       "margin": null,
       "max_height": null,
       "max_width": null,
       "min_height": null,
       "min_width": null,
       "object_fit": null,
       "object_position": null,
       "order": null,
       "overflow": null,
       "overflow_x": null,
       "overflow_y": null,
       "padding": null,
       "right": null,
       "top": null,
       "visibility": null,
       "width": null
      }
     },
     "66d9f00fc25445b68cb54da424c04e9c": {
      "model_module": "@jupyter-widgets/controls",
      "model_module_version": "1.5.0",
      "model_name": "ProgressStyleModel",
      "state": {
       "_model_module": "@jupyter-widgets/controls",
       "_model_module_version": "1.5.0",
       "_model_name": "ProgressStyleModel",
       "_view_count": null,
       "_view_module": "@jupyter-widgets/base",
       "_view_module_version": "1.2.0",
       "_view_name": "StyleView",
       "bar_color": null,
       "description_width": ""
      }
     },
     "71abb281d05449b4afa8e9dc4004ee0d": {
      "model_module": "@jupyter-widgets/controls",
      "model_module_version": "1.5.0",
      "model_name": "HTMLModel",
      "state": {
       "_dom_classes": [],
       "_model_module": "@jupyter-widgets/controls",
       "_model_module_version": "1.5.0",
       "_model_name": "HTMLModel",
       "_view_count": null,
       "_view_module": "@jupyter-widgets/controls",
       "_view_module_version": "1.5.0",
       "_view_name": "HTMLView",
       "description": "",
       "description_tooltip": null,
       "layout": "IPY_MODEL_fe8d676818c646e68ed5054d158e7add",
       "placeholder": "​",
       "style": "IPY_MODEL_cdb607a2db3d4df1bc236b822b1cfff0",
       "value": " 1.36M/1.36M [00:00&lt;00:00, 14.5MB/s]"
      }
     },
     "7faca1cb22ee4237b8a6664f5d1b5149": {
      "model_module": "@jupyter-widgets/controls",
      "model_module_version": "1.5.0",
      "model_name": "HBoxModel",
      "state": {
       "_dom_classes": [],
       "_model_module": "@jupyter-widgets/controls",
       "_model_module_version": "1.5.0",
       "_model_name": "HBoxModel",
       "_view_count": null,
       "_view_module": "@jupyter-widgets/controls",
       "_view_module_version": "1.5.0",
       "_view_name": "HBoxView",
       "box_style": "",
       "children": [
        "IPY_MODEL_8d18a4f0e9554f9ab7ab81b4ef544006",
        "IPY_MODEL_c7978a5ea51340fc8dca56cf19126dd6",
        "IPY_MODEL_1b56ed7461074b9abebd4eb060a969cf"
       ],
       "layout": "IPY_MODEL_d09a0df377714bfd890dabbd3339afdc"
      }
     },
     "853b1e28a03742db9f8d10a32a5b0381": {
      "model_module": "@jupyter-widgets/controls",
      "model_module_version": "1.5.0",
      "model_name": "DescriptionStyleModel",
      "state": {
       "_model_module": "@jupyter-widgets/controls",
       "_model_module_version": "1.5.0",
       "_model_name": "DescriptionStyleModel",
       "_view_count": null,
       "_view_module": "@jupyter-widgets/base",
       "_view_module_version": "1.2.0",
       "_view_name": "StyleView",
       "description_width": ""
      }
     },
     "8d18a4f0e9554f9ab7ab81b4ef544006": {
      "model_module": "@jupyter-widgets/controls",
      "model_module_version": "1.5.0",
      "model_name": "HTMLModel",
      "state": {
       "_dom_classes": [],
       "_model_module": "@jupyter-widgets/controls",
       "_model_module_version": "1.5.0",
       "_model_name": "HTMLModel",
       "_view_count": null,
       "_view_module": "@jupyter-widgets/controls",
       "_view_module_version": "1.5.0",
       "_view_name": "HTMLView",
       "description": "",
       "description_tooltip": null,
       "layout": "IPY_MODEL_9869e8c73cf64714aff78e10c87fa0c1",
       "placeholder": "​",
       "style": "IPY_MODEL_853b1e28a03742db9f8d10a32a5b0381",
       "value": "Downloading (…)olve/main/vocab.json: 100%"
      }
     },
     "95226364d17940e5ab07746f361dee20": {
      "model_module": "@jupyter-widgets/controls",
      "model_module_version": "1.5.0",
      "model_name": "HTMLModel",
      "state": {
       "_dom_classes": [],
       "_model_module": "@jupyter-widgets/controls",
       "_model_module_version": "1.5.0",
       "_model_name": "HTMLModel",
       "_view_count": null,
       "_view_module": "@jupyter-widgets/controls",
       "_view_module_version": "1.5.0",
       "_view_name": "HTMLView",
       "description": "",
       "description_tooltip": null,
       "layout": "IPY_MODEL_fbf5730897a64bb0a6ded9ba000e81a7",
       "placeholder": "​",
       "style": "IPY_MODEL_ebf334026a634726a29524d4b67d11fe",
       "value": "Downloading (…)olve/main/merges.txt: 100%"
      }
     },
     "982083cc8c6844a58ef114c89bd5debb": {
      "model_module": "@jupyter-widgets/controls",
      "model_module_version": "1.5.0",
      "model_name": "HTMLModel",
      "state": {
       "_dom_classes": [],
       "_model_module": "@jupyter-widgets/controls",
       "_model_module_version": "1.5.0",
       "_model_name": "HTMLModel",
       "_view_count": null,
       "_view_module": "@jupyter-widgets/controls",
       "_view_module_version": "1.5.0",
       "_view_name": "HTMLView",
       "description": "",
       "description_tooltip": null,
       "layout": "IPY_MODEL_f44341a40d164d14adbef93a32b3229c",
       "placeholder": "​",
       "style": "IPY_MODEL_a23a8205f1e741d0850199ccd98d0028",
       "value": "Downloading (…)/main/tokenizer.json: 100%"
      }
     },
     "9869e8c73cf64714aff78e10c87fa0c1": {
      "model_module": "@jupyter-widgets/base",
      "model_module_version": "1.2.0",
      "model_name": "LayoutModel",
      "state": {
       "_model_module": "@jupyter-widgets/base",
       "_model_module_version": "1.2.0",
       "_model_name": "LayoutModel",
       "_view_count": null,
       "_view_module": "@jupyter-widgets/base",
       "_view_module_version": "1.2.0",
       "_view_name": "LayoutView",
       "align_content": null,
       "align_items": null,
       "align_self": null,
       "border": null,
       "bottom": null,
       "display": null,
       "flex": null,
       "flex_flow": null,
       "grid_area": null,
       "grid_auto_columns": null,
       "grid_auto_flow": null,
       "grid_auto_rows": null,
       "grid_column": null,
       "grid_gap": null,
       "grid_row": null,
       "grid_template_areas": null,
       "grid_template_columns": null,
       "grid_template_rows": null,
       "height": null,
       "justify_content": null,
       "justify_items": null,
       "left": null,
       "margin": null,
       "max_height": null,
       "max_width": null,
       "min_height": null,
       "min_width": null,
       "object_fit": null,
       "object_position": null,
       "order": null,
       "overflow": null,
       "overflow_x": null,
       "overflow_y": null,
       "padding": null,
       "right": null,
       "top": null,
       "visibility": null,
       "width": null
      }
     },
     "a23a8205f1e741d0850199ccd98d0028": {
      "model_module": "@jupyter-widgets/controls",
      "model_module_version": "1.5.0",
      "model_name": "DescriptionStyleModel",
      "state": {
       "_model_module": "@jupyter-widgets/controls",
       "_model_module_version": "1.5.0",
       "_model_name": "DescriptionStyleModel",
       "_view_count": null,
       "_view_module": "@jupyter-widgets/base",
       "_view_module_version": "1.2.0",
       "_view_name": "StyleView",
       "description_width": ""
      }
     },
     "a83f20abc80043a0a44cada7461fe1db": {
      "model_module": "@jupyter-widgets/controls",
      "model_module_version": "1.5.0",
      "model_name": "HTMLModel",
      "state": {
       "_dom_classes": [],
       "_model_module": "@jupyter-widgets/controls",
       "_model_module_version": "1.5.0",
       "_model_name": "HTMLModel",
       "_view_count": null,
       "_view_module": "@jupyter-widgets/controls",
       "_view_module_version": "1.5.0",
       "_view_name": "HTMLView",
       "description": "",
       "description_tooltip": null,
       "layout": "IPY_MODEL_13048025694c46238bd5e7fc4f674e24",
       "placeholder": "​",
       "style": "IPY_MODEL_258a7dc7a6a64867b04c230b86f65b8b",
       "value": " 499M/499M [00:04&lt;00:00, 118MB/s]"
      }
     },
     "a95a47b3841f4143b60058bb8d2e7a4c": {
      "model_module": "@jupyter-widgets/controls",
      "model_module_version": "1.5.0",
      "model_name": "DescriptionStyleModel",
      "state": {
       "_model_module": "@jupyter-widgets/controls",
       "_model_module_version": "1.5.0",
       "_model_name": "DescriptionStyleModel",
       "_view_count": null,
       "_view_module": "@jupyter-widgets/base",
       "_view_module_version": "1.2.0",
       "_view_name": "StyleView",
       "description_width": ""
      }
     },
     "aa732113765c47348a8280f749d16d89": {
      "model_module": "@jupyter-widgets/controls",
      "model_module_version": "1.5.0",
      "model_name": "HTMLModel",
      "state": {
       "_dom_classes": [],
       "_model_module": "@jupyter-widgets/controls",
       "_model_module_version": "1.5.0",
       "_model_name": "HTMLModel",
       "_view_count": null,
       "_view_module": "@jupyter-widgets/controls",
       "_view_module_version": "1.5.0",
       "_view_name": "HTMLView",
       "description": "",
       "description_tooltip": null,
       "layout": "IPY_MODEL_06f3d5f9c6204606bf256b48e77024e6",
       "placeholder": "​",
       "style": "IPY_MODEL_2e4bddf45c7a4233824fa086007fca66",
       "value": " 456k/456k [00:00&lt;00:00, 6.61MB/s]"
      }
     },
     "ab3431f4a2e54e43900b6fc21eed8b75": {
      "model_module": "@jupyter-widgets/base",
      "model_module_version": "1.2.0",
      "model_name": "LayoutModel",
      "state": {
       "_model_module": "@jupyter-widgets/base",
       "_model_module_version": "1.2.0",
       "_model_name": "LayoutModel",
       "_view_count": null,
       "_view_module": "@jupyter-widgets/base",
       "_view_module_version": "1.2.0",
       "_view_name": "LayoutView",
       "align_content": null,
       "align_items": null,
       "align_self": null,
       "border": null,
       "bottom": null,
       "display": null,
       "flex": null,
       "flex_flow": null,
       "grid_area": null,
       "grid_auto_columns": null,
       "grid_auto_flow": null,
       "grid_auto_rows": null,
       "grid_column": null,
       "grid_gap": null,
       "grid_row": null,
       "grid_template_areas": null,
       "grid_template_columns": null,
       "grid_template_rows": null,
       "height": null,
       "justify_content": null,
       "justify_items": null,
       "left": null,
       "margin": null,
       "max_height": null,
       "max_width": null,
       "min_height": null,
       "min_width": null,
       "object_fit": null,
       "object_position": null,
       "order": null,
       "overflow": null,
       "overflow_x": null,
       "overflow_y": null,
       "padding": null,
       "right": null,
       "top": null,
       "visibility": null,
       "width": null
      }
     },
     "b603600ffdd44e97af814ee8a349de80": {
      "model_module": "@jupyter-widgets/base",
      "model_module_version": "1.2.0",
      "model_name": "LayoutModel",
      "state": {
       "_model_module": "@jupyter-widgets/base",
       "_model_module_version": "1.2.0",
       "_model_name": "LayoutModel",
       "_view_count": null,
       "_view_module": "@jupyter-widgets/base",
       "_view_module_version": "1.2.0",
       "_view_name": "LayoutView",
       "align_content": null,
       "align_items": null,
       "align_self": null,
       "border": null,
       "bottom": null,
       "display": null,
       "flex": null,
       "flex_flow": null,
       "grid_area": null,
       "grid_auto_columns": null,
       "grid_auto_flow": null,
       "grid_auto_rows": null,
       "grid_column": null,
       "grid_gap": null,
       "grid_row": null,
       "grid_template_areas": null,
       "grid_template_columns": null,
       "grid_template_rows": null,
       "height": null,
       "justify_content": null,
       "justify_items": null,
       "left": null,
       "margin": null,
       "max_height": null,
       "max_width": null,
       "min_height": null,
       "min_width": null,
       "object_fit": null,
       "object_position": null,
       "order": null,
       "overflow": null,
       "overflow_x": null,
       "overflow_y": null,
       "padding": null,
       "right": null,
       "top": null,
       "visibility": null,
       "width": null
      }
     },
     "c104ea2bb3784f90b83b1f9850e1960e": {
      "model_module": "@jupyter-widgets/controls",
      "model_module_version": "1.5.0",
      "model_name": "HBoxModel",
      "state": {
       "_dom_classes": [],
       "_model_module": "@jupyter-widgets/controls",
       "_model_module_version": "1.5.0",
       "_model_name": "HBoxModel",
       "_view_count": null,
       "_view_module": "@jupyter-widgets/controls",
       "_view_module_version": "1.5.0",
       "_view_name": "HBoxView",
       "box_style": "",
       "children": [
        "IPY_MODEL_982083cc8c6844a58ef114c89bd5debb",
        "IPY_MODEL_6002ba205da646c7ae469d5e0ef64f76",
        "IPY_MODEL_71abb281d05449b4afa8e9dc4004ee0d"
       ],
       "layout": "IPY_MODEL_e3a47db2ccf147758830e01f9227b62f"
      }
     },
     "c516b8fb69a04eab9f1837bd41ebd8b0": {
      "model_module": "@jupyter-widgets/controls",
      "model_module_version": "1.5.0",
      "model_name": "ProgressStyleModel",
      "state": {
       "_model_module": "@jupyter-widgets/controls",
       "_model_module_version": "1.5.0",
       "_model_name": "ProgressStyleModel",
       "_view_count": null,
       "_view_module": "@jupyter-widgets/base",
       "_view_module_version": "1.2.0",
       "_view_name": "StyleView",
       "bar_color": null,
       "description_width": ""
      }
     },
     "c6425680da97430eab5d8e1ed6376c1b": {
      "model_module": "@jupyter-widgets/controls",
      "model_module_version": "1.5.0",
      "model_name": "HBoxModel",
      "state": {
       "_dom_classes": [],
       "_model_module": "@jupyter-widgets/controls",
       "_model_module_version": "1.5.0",
       "_model_name": "HBoxModel",
       "_view_count": null,
       "_view_module": "@jupyter-widgets/controls",
       "_view_module_version": "1.5.0",
       "_view_name": "HBoxView",
       "box_style": "",
       "children": [
        "IPY_MODEL_34d9be9810fc4f508fa3a3fef8a7002e",
        "IPY_MODEL_f55be9579195496087f62b135233797c",
        "IPY_MODEL_a83f20abc80043a0a44cada7461fe1db"
       ],
       "layout": "IPY_MODEL_e4a0765609cc40c3bf1cd32aa96ee411"
      }
     },
     "c7978a5ea51340fc8dca56cf19126dd6": {
      "model_module": "@jupyter-widgets/controls",
      "model_module_version": "1.5.0",
      "model_name": "FloatProgressModel",
      "state": {
       "_dom_classes": [],
       "_model_module": "@jupyter-widgets/controls",
       "_model_module_version": "1.5.0",
       "_model_name": "FloatProgressModel",
       "_view_count": null,
       "_view_module": "@jupyter-widgets/controls",
       "_view_module_version": "1.5.0",
       "_view_name": "ProgressView",
       "bar_style": "success",
       "description": "",
       "description_tooltip": null,
       "layout": "IPY_MODEL_2699b5f100eb441aa38d4a33272cfdce",
       "max": 898823.0,
       "min": 0.0,
       "orientation": "horizontal",
       "style": "IPY_MODEL_35f612fc81cb4db88442cb31a5bd3de1",
       "value": 898823.0
      }
     },
     "cdb607a2db3d4df1bc236b822b1cfff0": {
      "model_module": "@jupyter-widgets/controls",
      "model_module_version": "1.5.0",
      "model_name": "DescriptionStyleModel",
      "state": {
       "_model_module": "@jupyter-widgets/controls",
       "_model_module_version": "1.5.0",
       "_model_name": "DescriptionStyleModel",
       "_view_count": null,
       "_view_module": "@jupyter-widgets/base",
       "_view_module_version": "1.2.0",
       "_view_name": "StyleView",
       "description_width": ""
      }
     },
     "d09a0df377714bfd890dabbd3339afdc": {
      "model_module": "@jupyter-widgets/base",
      "model_module_version": "1.2.0",
      "model_name": "LayoutModel",
      "state": {
       "_model_module": "@jupyter-widgets/base",
       "_model_module_version": "1.2.0",
       "_model_name": "LayoutModel",
       "_view_count": null,
       "_view_module": "@jupyter-widgets/base",
       "_view_module_version": "1.2.0",
       "_view_name": "LayoutView",
       "align_content": null,
       "align_items": null,
       "align_self": null,
       "border": null,
       "bottom": null,
       "display": null,
       "flex": null,
       "flex_flow": null,
       "grid_area": null,
       "grid_auto_columns": null,
       "grid_auto_flow": null,
       "grid_auto_rows": null,
       "grid_column": null,
       "grid_gap": null,
       "grid_row": null,
       "grid_template_areas": null,
       "grid_template_columns": null,
       "grid_template_rows": null,
       "height": null,
       "justify_content": null,
       "justify_items": null,
       "left": null,
       "margin": null,
       "max_height": null,
       "max_width": null,
       "min_height": null,
       "min_width": null,
       "object_fit": null,
       "object_position": null,
       "order": null,
       "overflow": null,
       "overflow_x": null,
       "overflow_y": null,
       "padding": null,
       "right": null,
       "top": null,
       "visibility": null,
       "width": null
      }
     },
     "e08326338e504af4bc705483f255c15f": {
      "model_module": "@jupyter-widgets/controls",
      "model_module_version": "1.5.0",
      "model_name": "FloatProgressModel",
      "state": {
       "_dom_classes": [],
       "_model_module": "@jupyter-widgets/controls",
       "_model_module_version": "1.5.0",
       "_model_name": "FloatProgressModel",
       "_view_count": null,
       "_view_module": "@jupyter-widgets/controls",
       "_view_module_version": "1.5.0",
       "_view_name": "ProgressView",
       "bar_style": "success",
       "description": "",
       "description_tooltip": null,
       "layout": "IPY_MODEL_fda6de2b7be74ae2881bd20be503612d",
       "max": 456318.0,
       "min": 0.0,
       "orientation": "horizontal",
       "style": "IPY_MODEL_5046a18808434fd2ad9cbc01c41c52c2",
       "value": 456318.0
      }
     },
     "e1a52da0028f42f88f80f472d1905a94": {
      "model_module": "@jupyter-widgets/controls",
      "model_module_version": "1.5.0",
      "model_name": "ProgressStyleModel",
      "state": {
       "_model_module": "@jupyter-widgets/controls",
       "_model_module_version": "1.5.0",
       "_model_name": "ProgressStyleModel",
       "_view_count": null,
       "_view_module": "@jupyter-widgets/base",
       "_view_module_version": "1.2.0",
       "_view_name": "StyleView",
       "bar_color": null,
       "description_width": ""
      }
     },
     "e2cc6d8ce5904053b64bb47703ee61d2": {
      "model_module": "@jupyter-widgets/controls",
      "model_module_version": "1.5.0",
      "model_name": "DescriptionStyleModel",
      "state": {
       "_model_module": "@jupyter-widgets/controls",
       "_model_module_version": "1.5.0",
       "_model_name": "DescriptionStyleModel",
       "_view_count": null,
       "_view_module": "@jupyter-widgets/base",
       "_view_module_version": "1.2.0",
       "_view_name": "StyleView",
       "description_width": ""
      }
     },
     "e3a47db2ccf147758830e01f9227b62f": {
      "model_module": "@jupyter-widgets/base",
      "model_module_version": "1.2.0",
      "model_name": "LayoutModel",
      "state": {
       "_model_module": "@jupyter-widgets/base",
       "_model_module_version": "1.2.0",
       "_model_name": "LayoutModel",
       "_view_count": null,
       "_view_module": "@jupyter-widgets/base",
       "_view_module_version": "1.2.0",
       "_view_name": "LayoutView",
       "align_content": null,
       "align_items": null,
       "align_self": null,
       "border": null,
       "bottom": null,
       "display": null,
       "flex": null,
       "flex_flow": null,
       "grid_area": null,
       "grid_auto_columns": null,
       "grid_auto_flow": null,
       "grid_auto_rows": null,
       "grid_column": null,
       "grid_gap": null,
       "grid_row": null,
       "grid_template_areas": null,
       "grid_template_columns": null,
       "grid_template_rows": null,
       "height": null,
       "justify_content": null,
       "justify_items": null,
       "left": null,
       "margin": null,
       "max_height": null,
       "max_width": null,
       "min_height": null,
       "min_width": null,
       "object_fit": null,
       "object_position": null,
       "order": null,
       "overflow": null,
       "overflow_x": null,
       "overflow_y": null,
       "padding": null,
       "right": null,
       "top": null,
       "visibility": null,
       "width": null
      }
     },
     "e4a0765609cc40c3bf1cd32aa96ee411": {
      "model_module": "@jupyter-widgets/base",
      "model_module_version": "1.2.0",
      "model_name": "LayoutModel",
      "state": {
       "_model_module": "@jupyter-widgets/base",
       "_model_module_version": "1.2.0",
       "_model_name": "LayoutModel",
       "_view_count": null,
       "_view_module": "@jupyter-widgets/base",
       "_view_module_version": "1.2.0",
       "_view_name": "LayoutView",
       "align_content": null,
       "align_items": null,
       "align_self": null,
       "border": null,
       "bottom": null,
       "display": null,
       "flex": null,
       "flex_flow": null,
       "grid_area": null,
       "grid_auto_columns": null,
       "grid_auto_flow": null,
       "grid_auto_rows": null,
       "grid_column": null,
       "grid_gap": null,
       "grid_row": null,
       "grid_template_areas": null,
       "grid_template_columns": null,
       "grid_template_rows": null,
       "height": null,
       "justify_content": null,
       "justify_items": null,
       "left": null,
       "margin": null,
       "max_height": null,
       "max_width": null,
       "min_height": null,
       "min_width": null,
       "object_fit": null,
       "object_position": null,
       "order": null,
       "overflow": null,
       "overflow_x": null,
       "overflow_y": null,
       "padding": null,
       "right": null,
       "top": null,
       "visibility": null,
       "width": null
      }
     },
     "e67ae417b8104590aecdce3c8d8defa4": {
      "model_module": "@jupyter-widgets/controls",
      "model_module_version": "1.5.0",
      "model_name": "DescriptionStyleModel",
      "state": {
       "_model_module": "@jupyter-widgets/controls",
       "_model_module_version": "1.5.0",
       "_model_name": "DescriptionStyleModel",
       "_view_count": null,
       "_view_module": "@jupyter-widgets/base",
       "_view_module_version": "1.2.0",
       "_view_name": "StyleView",
       "description_width": ""
      }
     },
     "ebf334026a634726a29524d4b67d11fe": {
      "model_module": "@jupyter-widgets/controls",
      "model_module_version": "1.5.0",
      "model_name": "DescriptionStyleModel",
      "state": {
       "_model_module": "@jupyter-widgets/controls",
       "_model_module_version": "1.5.0",
       "_model_name": "DescriptionStyleModel",
       "_view_count": null,
       "_view_module": "@jupyter-widgets/base",
       "_view_module_version": "1.2.0",
       "_view_name": "StyleView",
       "description_width": ""
      }
     },
     "f38cc9c446004c699650ff5b9add3582": {
      "model_module": "@jupyter-widgets/controls",
      "model_module_version": "1.5.0",
      "model_name": "HTMLModel",
      "state": {
       "_dom_classes": [],
       "_model_module": "@jupyter-widgets/controls",
       "_model_module_version": "1.5.0",
       "_model_name": "HTMLModel",
       "_view_count": null,
       "_view_module": "@jupyter-widgets/controls",
       "_view_module_version": "1.5.0",
       "_view_name": "HTMLView",
       "description": "",
       "description_tooltip": null,
       "layout": "IPY_MODEL_63ff18a319b44d25a532deef54e21e69",
       "placeholder": "​",
       "style": "IPY_MODEL_a95a47b3841f4143b60058bb8d2e7a4c",
       "value": " 481/481 [00:00&lt;00:00, 36.2kB/s]"
      }
     },
     "f44341a40d164d14adbef93a32b3229c": {
      "model_module": "@jupyter-widgets/base",
      "model_module_version": "1.2.0",
      "model_name": "LayoutModel",
      "state": {
       "_model_module": "@jupyter-widgets/base",
       "_model_module_version": "1.2.0",
       "_model_name": "LayoutModel",
       "_view_count": null,
       "_view_module": "@jupyter-widgets/base",
       "_view_module_version": "1.2.0",
       "_view_name": "LayoutView",
       "align_content": null,
       "align_items": null,
       "align_self": null,
       "border": null,
       "bottom": null,
       "display": null,
       "flex": null,
       "flex_flow": null,
       "grid_area": null,
       "grid_auto_columns": null,
       "grid_auto_flow": null,
       "grid_auto_rows": null,
       "grid_column": null,
       "grid_gap": null,
       "grid_row": null,
       "grid_template_areas": null,
       "grid_template_columns": null,
       "grid_template_rows": null,
       "height": null,
       "justify_content": null,
       "justify_items": null,
       "left": null,
       "margin": null,
       "max_height": null,
       "max_width": null,
       "min_height": null,
       "min_width": null,
       "object_fit": null,
       "object_position": null,
       "order": null,
       "overflow": null,
       "overflow_x": null,
       "overflow_y": null,
       "padding": null,
       "right": null,
       "top": null,
       "visibility": null,
       "width": null
      }
     },
     "f55be9579195496087f62b135233797c": {
      "model_module": "@jupyter-widgets/controls",
      "model_module_version": "1.5.0",
      "model_name": "FloatProgressModel",
      "state": {
       "_dom_classes": [],
       "_model_module": "@jupyter-widgets/controls",
       "_model_module_version": "1.5.0",
       "_model_name": "FloatProgressModel",
       "_view_count": null,
       "_view_module": "@jupyter-widgets/controls",
       "_view_module_version": "1.5.0",
       "_view_name": "ProgressView",
       "bar_style": "success",
       "description": "",
       "description_tooltip": null,
       "layout": "IPY_MODEL_4695ce1fd7cb46b4bb0868574d1063f3",
       "max": 498818054.0,
       "min": 0.0,
       "orientation": "horizontal",
       "style": "IPY_MODEL_e1a52da0028f42f88f80f472d1905a94",
       "value": 498818054.0
      }
     },
     "f95fced5c4634c58b72f845d99e5fe34": {
      "model_module": "@jupyter-widgets/controls",
      "model_module_version": "1.5.0",
      "model_name": "FloatProgressModel",
      "state": {
       "_dom_classes": [],
       "_model_module": "@jupyter-widgets/controls",
       "_model_module_version": "1.5.0",
       "_model_name": "FloatProgressModel",
       "_view_count": null,
       "_view_module": "@jupyter-widgets/controls",
       "_view_module_version": "1.5.0",
       "_view_name": "ProgressView",
       "bar_style": "success",
       "description": "",
       "description_tooltip": null,
       "layout": "IPY_MODEL_44b4ae6411324d8b94e9026e742b73f4",
       "max": 481.0,
       "min": 0.0,
       "orientation": "horizontal",
       "style": "IPY_MODEL_c516b8fb69a04eab9f1837bd41ebd8b0",
       "value": 481.0
      }
     },
     "fbf5730897a64bb0a6ded9ba000e81a7": {
      "model_module": "@jupyter-widgets/base",
      "model_module_version": "1.2.0",
      "model_name": "LayoutModel",
      "state": {
       "_model_module": "@jupyter-widgets/base",
       "_model_module_version": "1.2.0",
       "_model_name": "LayoutModel",
       "_view_count": null,
       "_view_module": "@jupyter-widgets/base",
       "_view_module_version": "1.2.0",
       "_view_name": "LayoutView",
       "align_content": null,
       "align_items": null,
       "align_self": null,
       "border": null,
       "bottom": null,
       "display": null,
       "flex": null,
       "flex_flow": null,
       "grid_area": null,
       "grid_auto_columns": null,
       "grid_auto_flow": null,
       "grid_auto_rows": null,
       "grid_column": null,
       "grid_gap": null,
       "grid_row": null,
       "grid_template_areas": null,
       "grid_template_columns": null,
       "grid_template_rows": null,
       "height": null,
       "justify_content": null,
       "justify_items": null,
       "left": null,
       "margin": null,
       "max_height": null,
       "max_width": null,
       "min_height": null,
       "min_width": null,
       "object_fit": null,
       "object_position": null,
       "order": null,
       "overflow": null,
       "overflow_x": null,
       "overflow_y": null,
       "padding": null,
       "right": null,
       "top": null,
       "visibility": null,
       "width": null
      }
     },
     "fda6de2b7be74ae2881bd20be503612d": {
      "model_module": "@jupyter-widgets/base",
      "model_module_version": "1.2.0",
      "model_name": "LayoutModel",
      "state": {
       "_model_module": "@jupyter-widgets/base",
       "_model_module_version": "1.2.0",
       "_model_name": "LayoutModel",
       "_view_count": null,
       "_view_module": "@jupyter-widgets/base",
       "_view_module_version": "1.2.0",
       "_view_name": "LayoutView",
       "align_content": null,
       "align_items": null,
       "align_self": null,
       "border": null,
       "bottom": null,
       "display": null,
       "flex": null,
       "flex_flow": null,
       "grid_area": null,
       "grid_auto_columns": null,
       "grid_auto_flow": null,
       "grid_auto_rows": null,
       "grid_column": null,
       "grid_gap": null,
       "grid_row": null,
       "grid_template_areas": null,
       "grid_template_columns": null,
       "grid_template_rows": null,
       "height": null,
       "justify_content": null,
       "justify_items": null,
       "left": null,
       "margin": null,
       "max_height": null,
       "max_width": null,
       "min_height": null,
       "min_width": null,
       "object_fit": null,
       "object_position": null,
       "order": null,
       "overflow": null,
       "overflow_x": null,
       "overflow_y": null,
       "padding": null,
       "right": null,
       "top": null,
       "visibility": null,
       "width": null
      }
     },
     "fe8d676818c646e68ed5054d158e7add": {
      "model_module": "@jupyter-widgets/base",
      "model_module_version": "1.2.0",
      "model_name": "LayoutModel",
      "state": {
       "_model_module": "@jupyter-widgets/base",
       "_model_module_version": "1.2.0",
       "_model_name": "LayoutModel",
       "_view_count": null,
       "_view_module": "@jupyter-widgets/base",
       "_view_module_version": "1.2.0",
       "_view_name": "LayoutView",
       "align_content": null,
       "align_items": null,
       "align_self": null,
       "border": null,
       "bottom": null,
       "display": null,
       "flex": null,
       "flex_flow": null,
       "grid_area": null,
       "grid_auto_columns": null,
       "grid_auto_flow": null,
       "grid_auto_rows": null,
       "grid_column": null,
       "grid_gap": null,
       "grid_row": null,
       "grid_template_areas": null,
       "grid_template_columns": null,
       "grid_template_rows": null,
       "height": null,
       "justify_content": null,
       "justify_items": null,
       "left": null,
       "margin": null,
       "max_height": null,
       "max_width": null,
       "min_height": null,
       "min_width": null,
       "object_fit": null,
       "object_position": null,
       "order": null,
       "overflow": null,
       "overflow_x": null,
       "overflow_y": null,
       "padding": null,
       "right": null,
       "top": null,
       "visibility": null,
       "width": null
      }
     }
    },
    "version_major": 2,
    "version_minor": 0
   }
  }
 },
 "nbformat": 4,
 "nbformat_minor": 5
}
